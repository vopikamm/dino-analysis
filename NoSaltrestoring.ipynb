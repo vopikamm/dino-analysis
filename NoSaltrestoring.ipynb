{
 "cells": [
  {
   "cell_type": "code",
   "execution_count": null,
   "metadata": {},
   "outputs": [],
   "source": [
    "from dino import Experiment\n",
    "\n",
    "path   = \"/data/dkamm/nemo_output/DINO/\"\n",
    "\n",
    "periodic_bathy = Experiment(path, 'PeriodicBathy')\n",
    "e_minus_p = Experiment(path, 'EmP_IPSL')\n",
    "no_saltrestoring = Experiment(path, 'NoSaltrestoring')"
   ]
  },
  {
   "cell_type": "code",
   "execution_count": null,
   "metadata": {},
   "outputs": [],
   "source": [
    "from matplotlib import pyplot as plt\n",
    "\n",
    "fig, axs = plt.subplots(1,1, figsize=(12,6))\n",
    "periodic_bathy.get_ACC().plot(color='black', label='With salt restoring')\n",
    "no_saltrestoring.get_ACC().plot(color='darkred', label='Without salt restoring')\n",
    "e_minus_p.get_ACC().plot(color='midnightblue', label='With E-P profile')\n",
    "#ACC_emp.plot(color='midnightblue', label='With E - P flux only')\n",
    "axs.set_ylabel('ACC transport [Sv]')\n",
    "plt.title('')\n",
    "plt.xlabel('time [years]')\n",
    "plt.legend()\n",
    "plt.grid()"
   ]
  },
  {
   "cell_type": "code",
   "execution_count": null,
   "metadata": {},
   "outputs": [],
   "source": [
    "import xgcm\n",
    "metrics = {\n",
    "    ('X',): ['e1t', 'e1u', 'e1v', 'e1f'], # X distances\n",
    "    ('Y',): ['e2t', 'e2u', 'e2v', 'e2f'], # Y distances\n",
    "    ('Z',): ['e3t', 'e3u', 'e3v', 'e3f'] # Z distances\n",
    "}\n",
    "\n",
    "\n",
    "grid = xgcm.Grid(periodic_bathy.data,\n",
    "        coords={\n",
    "            \"X\": {\"right\": \"x_f\", \"center\": \"x_c\"},\n",
    "            \"Y\": {\"right\": \"y_f\", \"center\":\"y_c\"},\n",
    "            \"Z\": {\"right\": \"z_f\", \"center\": \"z_c\"}\n",
    "        },\n",
    "        periodic=False,\n",
    "        metrics=metrics\n",
    ")"
   ]
  },
  {
   "cell_type": "code",
   "execution_count": null,
   "metadata": {},
   "outputs": [],
   "source": [
    "#Interpolating on u_f\n",
    "Data['u_f'] = grid.interp(Data.uoce, 'Y')\n",
    "Data_no['u_f'] = grid.interp(Data_no.uoce, 'Y')\n",
    "Data_emp['u_f'] = grid.interp(Data_emp.uoce, 'Y')\n",
    "\n",
    "#Integrating over depth\n",
    "Data['U'] = grid.integrate(Data.u_f, 'Z')\n",
    "Data_no['U'] = grid.integrate(Data_no.u_f, 'Z')\n",
    "Data_emp['U'] = grid.integrate(Data_emp.u_f, 'Z')\n",
    "\n",
    "#Cumulative integral over x\n",
    "Psi = (Data.U[-1,::-1,:] * domcfg.e2f[::-1,:]).cumsum('y_f') / 1e6\n",
    "Psi_no = (Data_no.U[-1,::-1,:] * domcfg.e2f[::-1,:]).cumsum('y_f') / 1e6\n",
    "Psi_emp = (Data_emp.U[-1,::-1,:] * domcfg.e2f[::-1,:]).cumsum('y_f') / 1e6"
   ]
  },
  {
   "cell_type": "code",
   "execution_count": null,
   "metadata": {},
   "outputs": [],
   "source": [
    "fig, axs = plt.subplots(1,3,figsize=(16,12), sharey=True)\n",
    "a = Psi_no.plot.contourf(x='x_f', y='y_f', cmap='RdBu_r', levels=30, add_colorbar=False, ax=axs[1])\n",
    "cbar1 = fig.colorbar(a, ax=axs[:3], location='bottom', label=r'$\\psi$ [Sv]')\n",
    "b = Psi.plot.contourf(x='x_f', y='y_f', cmap='RdBu_r', levels=30, add_colorbar=False, ax=axs[0], vmin=cbar1.vmin, vmax=cbar1.vmax)\n",
    "c = Psi_emp.plot.contourf(x='x_f', y='y_f', cmap='RdBu_r', levels=30, add_colorbar=False, ax=axs[2], vmin=cbar1.vmin, vmax=cbar1.vmax)\n",
    "axs[0].set_ylabel('latitude [°N]')\n",
    "axs[1].set_ylabel(' ')\n",
    "axs[2].set_ylabel(' ')\n",
    "axs[0].set_xlabel('longitude [°E]')\n",
    "axs[1].set_xlabel('longitude [°E]')\n",
    "axs[2].set_xlabel('longitude [°E]')\n",
    "axs[0].set_title('Salt restoring according to Caneill')\n",
    "axs[1].set_title('No salt restoring')\n",
    "axs[2].set_title('Salt flux through E-P')"
   ]
  },
  {
   "cell_type": "code",
   "execution_count": null,
   "metadata": {},
   "outputs": [],
   "source": [
    "import cf_xarray\n",
    "import gsw\n",
    "\n",
    "Data_nosalt = xn.open_nemo(domcfg=domcfg, files=[\n",
    "        datadir / '../../EminusP/NEVERWORLD_grid_T.nc',\n",
    "        datadir / '../../EminusP/NEVERWORLD_grid_U.nc',\n",
    "        datadir / '../../EminusP/NEVERWORLD_grid_V.nc'\n",
    "    ])\n",
    "\n",
    "Data_annual_cp = Data_nosalt.isel(z_c=slice(0,-1)).copy()\n",
    "\n",
    "level_outer_annual = cf_xarray.bounds_to_vertices(Data_annual_cp.deptht_bounds, 'axis_nbounds').load().data\n",
    "\n",
    "Data_annual_cp = Data_annual_cp.assign_coords({'z_f': level_outer_annual})\n",
    "\n",
    "grid_annual_cp = xgcm.Grid(Data_annual_cp,\n",
    "    coords={\n",
    "        \"X\": {\"center\": \"x_c\"},\n",
    "        \"Y\": {\"right\": \"y_f\", \"center\":\"y_c\"},\n",
    "        \"Z\": {\"center\": \"z_c\", \"outer\": \"z_f\"}\n",
    "    },\n",
    "    periodic=False)"
   ]
  },
  {
   "cell_type": "code",
   "execution_count": null,
   "metadata": {},
   "outputs": [],
   "source": [
    "Data_annual_cp['sigma0'] = gsw.sigma0(Data_annual_cp.soce, gsw.CT_from_pt(Data_annual_cp.soce, Data_annual_cp.toce))"
   ]
  },
  {
   "cell_type": "code",
   "execution_count": null,
   "metadata": {},
   "outputs": [],
   "source": [
    "sigma_v_annual = grid_annual_cp.interp(Data_annual_cp.sigma0, 'Y')\n",
    "sigma_outer_annual = grid_annual_cp.interp(sigma_v_annual, 'Z',  boundary='extend')"
   ]
  },
  {
   "cell_type": "markdown",
   "metadata": {},
   "source": [
    "### Target values for the new density coordinates"
   ]
  },
  {
   "cell_type": "code",
   "execution_count": null,
   "metadata": {},
   "outputs": [],
   "source": [
    "import numpy as np\n",
    "sigma_target = np.array([24, 24.2, 24.4, 24.65, 24.9, 25.15, 25.4, 25.65,\n",
    "                        25.9, 26.15, 26.4, 26.57, 26.75, 26.90, 27.05, 27.17,\n",
    "                        27.30, 27.37, 27.45, 27.52, 27.58,\n",
    "                        27.63, 27.68, 27.72, 27.75, 27.78, 27.80, 27.815,\n",
    "                        27.83, 27.845, 27.86, 27.875, 27.89,\n",
    "                        27.905, 27.92, 27.935, 27.95, 27.965,\n",
    "                        27.98, 27.99, 28.01, 28.025,\n",
    "                        28.04, 28.055, 28.07, 28.085, 28.1, 28.35,\n",
    "                        28.6, 28.8, 29.1])"
   ]
  },
  {
   "cell_type": "markdown",
   "metadata": {},
   "source": [
    "### Transforming the meridional transport on density coordinates"
   ]
  },
  {
   "cell_type": "code",
   "execution_count": null,
   "metadata": {},
   "outputs": [],
   "source": [
    "vtra_annual = grid_annual_cp.transform(Data_annual_cp.vocetr_eff,\n",
    "        'Z',\n",
    "        sigma_target,\n",
    "        method='conservative',\n",
    "        target_data=sigma_outer_annual)"
   ]
  },
  {
   "cell_type": "markdown",
   "metadata": {},
   "source": [
    "### Computing the meridional overturning"
   ]
  },
  {
   "cell_type": "code",
   "execution_count": null,
   "metadata": {},
   "outputs": [],
   "source": [
    "Over_annual    = vtra_annual.isel(t=-1).sum(dim='x_c')[:,::-1].cumsum('sigma0') / 1e6"
   ]
  },
  {
   "cell_type": "code",
   "execution_count": null,
   "metadata": {},
   "outputs": [],
   "source": [
    "Over_annual = Over_annual.assign_coords(dict({'y_f': domcfg.gphif.isel(x_f=10).values}))"
   ]
  },
  {
   "cell_type": "code",
   "execution_count": null,
   "metadata": {},
   "outputs": [],
   "source": [
    "fig, axs = plt.subplots(1,1,figsize=(12,8))\n",
    "a = (-Over_annual).plot.contourf(x='y_f', y='sigma0', cmap='RdBu_r', levels=30,ax=axs)\n",
    "axs.invert_yaxis()\n",
    "axs.set_ylabel(r'$\\sigma_{0}$ [ $kg$ / $m^3$ - 1000 ]')\n",
    "axs.set_xlabel('latitude [°N]')"
   ]
  },
  {
   "cell_type": "code",
   "execution_count": null,
   "metadata": {},
   "outputs": [],
   "source": [
    "fig, axs = plt.subplots(1,2, figsize=(12,8))\n",
    "Data_annual_cp.toce.isel(t=-1, y_c=slice(1,40), x_c=slice(1,-1), z_c=0).mean('x_c').plot(ax=axs[0])#.contourf(level=36, yincrease=False, ax=axs[0])\n",
    "Data_annual_cp.soce.isel(t=-1, y_c=slice(1,40), x_c=slice(1,-1), z_c=0).mean('x_c').plot(ax=axs[1])#.contourf(level=36, yincrease=False, ax=axs[1])"
   ]
  },
  {
   "cell_type": "code",
   "execution_count": null,
   "metadata": {},
   "outputs": [],
   "source": [
    "fig, axs = plt.subplots(1,2, figsize=(12,8))\n",
    "Data_annual_cp.toce.isel(t=-1, y_c=slice(1,40), x_c=slice(1,-1), z_c=0).mean('x_c').plot(ax=axs[0])#.contourf(level=36, yincrease=False, ax=axs[0])\n",
    "Data_annual_cp.soce.isel(t=-1, y_c=slice(1,40), x_c=slice(1,-1), z_c=0).mean('x_c').plot(ax=axs[1])#.contourf(level=36, yincrease=False, ax=axs[1])"
   ]
  },
  {
   "cell_type": "code",
   "execution_count": null,
   "metadata": {},
   "outputs": [],
   "source": [
    "fig, axs = plt.subplots(1,1,figsize=(12,8))\n",
    "a = Data_annual_cp.sigma0.isel(t=-1, y_c=slice(1,-1), x_c=30).plot.contourf(x='gphit', y='gdept_0', levels=30,ax=axs)\n",
    "axs.invert_yaxis()\n",
    "axs.set_ylabel(r'$\\sigma_{0}$ [ $kg$ / $m^3$ - 1000 ]')\n",
    "axs.set_xlabel('latitude [°N]')"
   ]
  },
  {
   "cell_type": "code",
   "execution_count": null,
   "metadata": {},
   "outputs": [],
   "source": [
    "Data_annual_cp.sigma0.isel(t=-1, y_c=slice(-1,1), x_c=30)"
   ]
  },
  {
   "cell_type": "code",
   "execution_count": null,
   "metadata": {},
   "outputs": [],
   "source": [
    "Data_mo = xn.open_nemo(domcfg=domcfg, files=[\n",
    "        datadir / '../../NoSaltrestoring/NEVERWORLD_grid_T_mo.nc'\n",
    "    ])"
   ]
  },
  {
   "cell_type": "code",
   "execution_count": null,
   "metadata": {},
   "outputs": [],
   "source": [
    "Data_mo.mldr10_1.groupby(\"t.month\").mean().plot(col='month', col_wrap=4)"
   ]
  },
  {
   "cell_type": "markdown",
   "metadata": {},
   "source": [
    "### Checking Sea-Surface-Salinity and Fresh-Water-Flux from Sea-Ice and Atmosphere from IPSL CMIP6 "
   ]
  },
  {
   "cell_type": "code",
   "execution_count": null,
   "metadata": {},
   "outputs": [],
   "source": [
    "import xarray as xr\n",
    "import numpy as np\n",
    "import matplotlib\n",
    "import matplotlib.pyplot as plt\n",
    "\n",
    "fwf_ice = xr.open_dataset('/bdd/CMIP6/CMIP/IPSL/IPSL-CM6A-LR/historical/r1i1p1f1/SImon/siflfwbot/gn/latest/siflfwbot_SImon_IPSL-CM6A-LR_historical_r1i1p1f1_gn_185001-201412.nc',decode_times=False)\n",
    "sss = xr.open_dataset('/bdd/CMIP6/CMIP/IPSL/IPSL-CM6A-LR/historical/r1i1p1f1/Omon/sos/gn/latest/sos_Omon_IPSL-CM6A-LR_historical_r1i1p1f1_gn_185001-201412.nc',decode_times=False)\n",
    "sss = xr.open_dataset('/bdd/CMIP6/CMIP/IPSL/IPSL-CM6A-LR/historical/r1i1p1f1/Amon/pr/gr/latest/pr_Amon_IPSL-CM6A-LR_historical_r1i1p1f1_gn_185001-201412.nc',decode_times=False)\n",
    "sss = xr.open_dataset('/bdd/CMIP6/CMIP/IPSL/IPSL-CM6A-LR/historical/r1i1p1f1/Amon/evspsbl/gr/latest/evspsbl_Amon_IPSL-CM6A-LR_historical_r1i1p1f1_gn_185001-201412.nc',decode_times=False)"
   ]
  },
  {
   "cell_type": "code",
   "execution_count": null,
   "metadata": {},
   "outputs": [],
   "source": [
    "stat /bdd/CMIP6/CMIP/IPSL/IPSL-CM6A-LR/historical/r1i1p1f1/SImon/siflfwbot/gn/latest/siflfwbot_SImon_IPSL-CM6A-LR_historical_r1i1p1f1_gn_185001-201412.nc\n",
    "stat /bdd/CMIP6/CMIP/IPSL/IPSL-CM6A-LR/historical/r1i1p1f1/Omon/sos/gn/latest/sos_Omon_IPSL-CM6A-LR_historical_r1i1p1f1_gn_185001-201412.nc\n",
    "stat /bdd/CMIP6/CMIP/IPSL/IPSL-CM6A-LR/historical/r1i1p1f1/Amon/pr/gr/latest/pr_Amon_IPSL-CM6A-LR_historical_r1i1p1f1_gr_185001-201412.nc\n",
    "stat /bdd/CMIP6/CMIP/IPSL/IPSL-CM6A-LR/historical/r1i1p1f1/Amon/evspsbl/gr/latest/evspsbl_Amon_IPSL-CM6A-LR_historical_r1i1p1f1_gr_185001-201412.nc"
   ]
  },
  {
   "cell_type": "code",
   "execution_count": null,
   "metadata": {},
   "outputs": [],
   "source": [
    "e_minus_p.data"
   ]
  },
  {
   "cell_type": "code",
   "execution_count": null,
   "metadata": {},
   "outputs": [],
   "source": [
    "fig, axs = plt.subplots(1,3,figsize=(16,12), sharey=True)\n",
    "a = e_minus_p.data.toce.isel(t_y=-1, z_c=slice(0,-1), x_c=slice(1,-1), y_c=slice(1,40)).mean('x_c').plot(ax=axs[2], yincrease=False, y='gdept_1d', add_colorbar=False)\n",
    "cbar1 = fig.colorbar(a, ax=axs[:3], location='bottom', label=r'T')\n",
    "no_saltrestoring.data.toce.isel(t_y=-1, z_c=slice(0,-1), x_c=slice(1,-1), y_c=slice(1,40)).mean('x_c').plot(ax=axs[1], yincrease=False, y='gdept_1d', add_colorbar=False, vmin=cbar1.vmin, vmax=cbar1.vmax)\n",
    "periodic_bathy.data.toce.isel(t_y=-1, z_c=slice(0,-1), x_c=slice(1,-1), y_c=slice(1,40)).mean('x_c').plot(ax=axs[0], yincrease=False, y='gdept_1d', add_colorbar=False, vmin=cbar1.vmin, vmax=cbar1.vmax)\n",
    "axs[0].set_ylabel('depth [m]')\n",
    "axs[1].set_ylabel(' ')\n",
    "axs[2].set_ylabel(' ')\n",
    "axs[0].set_xlabel('latiitude [°E]')\n",
    "axs[1].set_xlabel('latiitude [°E]')\n",
    "axs[2].set_xlabel('latiitude [°E]')\n",
    "axs[0].set_title('Salt restoring according to Caneill')\n",
    "axs[1].set_title('No salt restoring')\n",
    "axs[2].set_title('Salt flux through E-P')"
   ]
  },
  {
   "cell_type": "code",
   "execution_count": null,
   "metadata": {},
   "outputs": [],
   "source": [
    "fig, axs = plt.subplots(1,3,figsize=(16,12), sharey=True)\n",
    "a = e_minus_p.data.soce.isel(t_y=-1, z_c=slice(0,-1), x_c=slice(1,-1), y_c=slice(1,40)).mean('x_c').plot(ax=axs[2], yincrease=False, y='gdept_1d', add_colorbar=False)\n",
    "cbar1 = fig.colorbar(a, ax=axs[:3], location='bottom', label=r'$\\psi$ [Sv]')\n",
    "no_saltrestoring.data.soce.isel(t_y=-1, z_c=slice(0,-1), x_c=slice(1,-1), y_c=slice(1,40)).mean('x_c').plot(ax=axs[1], yincrease=False, y='gdept_1d', add_colorbar=False, vmin=cbar1.vmin, vmax=cbar1.vmax)\n",
    "periodic_bathy.data.soce.isel(t_y=-1, z_c=slice(0,-1), x_c=slice(1,-1), y_c=slice(1,40)).mean('x_c').plot(ax=axs[0], yincrease=False, y='gdept_1d', add_colorbar=False, vmin=cbar1.vmin, vmax=cbar1.vmax)\n",
    "axs[0].set_ylabel('depth [m]')\n",
    "axs[1].set_ylabel(' ')\n",
    "axs[2].set_ylabel(' ')\n",
    "axs[0].set_xlabel('latiitude [°E]')\n",
    "axs[1].set_xlabel('latiitude [°E]')\n",
    "axs[2].set_xlabel('latiitude [°E]')\n",
    "axs[0].set_title('Salt restoring according to Caneill')\n",
    "axs[1].set_title('No salt restoring')\n",
    "axs[2].set_title('Salt flux through E-P')"
   ]
  },
  {
   "cell_type": "code",
   "execution_count": null,
   "metadata": {},
   "outputs": [],
   "source": [
    "e_minus_p.data"
   ]
  },
  {
   "cell_type": "code",
   "execution_count": null,
   "metadata": {},
   "outputs": [],
   "source": []
  }
 ],
 "metadata": {
  "kernelspec": {
   "display_name": "nemo_env",
   "language": "python",
   "name": "python3"
  },
  "language_info": {
   "codemirror_mode": {
    "name": "ipython",
    "version": 3
   },
   "file_extension": ".py",
   "mimetype": "text/x-python",
   "name": "python",
   "nbconvert_exporter": "python",
   "pygments_lexer": "ipython3",
   "version": "3.9.15"
  },
  "orig_nbformat": 4
 },
 "nbformat": 4,
 "nbformat_minor": 2
}
