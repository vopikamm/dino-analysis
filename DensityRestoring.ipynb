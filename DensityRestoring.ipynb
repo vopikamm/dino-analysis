{
 "cells": [
  {
   "cell_type": "code",
   "execution_count": null,
   "metadata": {},
   "outputs": [],
   "source": [
    "import cartopy.crs as ccrs\n",
    "from cmocean import cm \n",
    "from dino import Experiment\n",
    "from matplotlib import colors\n",
    "from matplotlib import pyplot as plt\n",
    "import numpy as np\n",
    "import xarray as xr\n",
    "import cftime as cft\n",
    "import xnemogcm as xn\n",
    "import xgcm"
   ]
  },
  {
   "cell_type": "code",
   "execution_count": null,
   "metadata": {},
   "outputs": [],
   "source": [
    "path   = \"/data/dkamm/nemo_output/DINO/\"\n",
    "dino_exp = Experiment(path, 'DensityRestoring/restart25')"
   ]
  },
  {
   "cell_type": "code",
   "execution_count": null,
   "metadata": {},
   "outputs": [],
   "source": [
    "fig, axs = plt.subplots(1,1, figsize=(12,6))\n",
    "dino_exp.get_ACC().plot(color='black')\n",
    "axs.set_ylabel('ACC transport [Sv]')\n",
    "plt.title('')\n",
    "plt.xlabel('time [years]')\n",
    "plt.legend()\n",
    "plt.grid()"
   ]
  },
  {
   "cell_type": "code",
   "execution_count": null,
   "metadata": {},
   "outputs": [],
   "source": [
    "T_star      = dino_exp.get_T_star()\n",
    "S_star      = dino_exp.get_S_star()\n",
    "rho_star    = dino_exp.get_rho_star()"
   ]
  },
  {
   "cell_type": "code",
   "execution_count": null,
   "metadata": {},
   "outputs": [],
   "source": [
    "fig, axs = plt.subplots(1,3,figsize=(15,8), sharey=True)\n",
    "T_star.isel(x_c=10, t_m=-1, y_c=slice(1,-1)).plot(color='midnightblue', y='gphit', ax=axs[0], label='December')\n",
    "T_star.isel(x_c=10, t_m=-7, y_c=slice(1,-1)).plot(color='darkred', y='gphit', ax=axs[0], label='June')\n",
    "S_star.isel(x_c=10, t_m=-1).plot(color='black', y='gphit', ax=axs[1])\n",
    "rho_star.isel(x_c=10, t_m=-1, y_c=slice(1,-1)).plot(color='midnightblue', y='gphit', ax=axs[2], label='December')\n",
    "rho_star.isel(x_c=10, t_m=-7, y_c=slice(1,-1)).plot(color='darkred', y='gphit', ax=axs[2], label='June')\n",
    "\n",
    "axs[0].fill_betweenx(dino_exp.domain.gphiu.values[:,0], -2, 32, where=dino_exp.domain.umask.isel(x_f=0, z_c=0)==1, facecolor='grey', alpha=.2)\n",
    "axs[0].margins(x=0, y=0)\n",
    "axs[0].set_xlabel(r\"$T^{*}$ [°C]\")\n",
    "axs[0].set_title('')\n",
    "axs[0].grid()\n",
    "axs[0].legend()\n",
    "#\n",
    "axs[1].fill_betweenx(dino_exp.domain.gphiu.values[:,0], 34., 36.5, where=dino_exp.domain.umask.isel(x_f=0, z_c=0)==1, facecolor='grey', alpha=.2)\n",
    "axs[1].margins(x=0, y=0)\n",
    "axs[1].set_xlabel(r\"$S^{*}$ [psu]\")\n",
    "axs[1].set_title('')\n",
    "axs[1].grid()\n",
    "#\n",
    "axs[2].fill_betweenx(dino_exp.domain.gphiu.values[:,0], 1022, 1028, where=dino_exp.domain.umask.isel(x_f=0, z_c=0)==1, facecolor='grey', alpha=.2)\n",
    "axs[2].margins(x=0, y=0)\n",
    "axs[2].set_xlabel(r\"$\\rho^{*}$ [kg / m3]\")\n",
    "axs[2].set_title('')\n",
    "axs[2].grid()\n",
    "axs[2].legend()"
   ]
  },
  {
   "cell_type": "code",
   "execution_count": null,
   "metadata": {},
   "outputs": [],
   "source": [
    "moc =  dino_exp.get_MOC(dino_exp.data.voce + dino_exp.data.voce_eiv)"
   ]
  },
  {
   "cell_type": "code",
   "execution_count": null,
   "metadata": {},
   "outputs": [],
   "source": [
    "fig, axs = plt.subplots(1,1,figsize=(8,6))\n",
    "a = (-moc).plot.contourf(x='y_f', y='rhop', cmap='RdBu_r', levels=36, add_colorbar=False)\n",
    "cbar1 = fig.colorbar(a, ax=axs, label=r'$\\psi$ [Sv]')\n",
    "plt.xlabel('latitude [°N]')\n",
    "axs.invert_yaxis()\n",
    "plt.ylabel(r'$\\sigma_{0}$ [ $kg$ / $m^3$ - 1000 ]')\n",
    "plt.title('')"
   ]
  },
  {
   "cell_type": "code",
   "execution_count": null,
   "metadata": {},
   "outputs": [],
   "source": [
    "fig, axs = plt.subplots(1,1,figsize=(8,6))\n",
    "a = dino_exp.data.rhop.isel(t_y=-1, x_c=30, y_c=slice(1,-1), z_c=slice(0,-1)).plot.contourf(x='gphit', y='gdept_0', cmap=cm.dense_r, levels=36, add_colorbar=False)\n",
    "cbar1 = fig.colorbar(a, ax=axs, label=r'$\\rho$ [kg/m^3]')\n",
    "plt.xlabel('latitude [°N]')\n",
    "axs.invert_yaxis()\n",
    "plt.ylabel(r'$\\sigma_{0}$ [ $kg$ / $m^3$ - 1000 ]')\n",
    "plt.title('')"
   ]
  },
  {
   "cell_type": "markdown",
   "metadata": {},
   "source": [
    "## Vertical mixing profile"
   ]
  },
  {
   "cell_type": "code",
   "execution_count": null,
   "metadata": {},
   "outputs": [],
   "source": [
    "dino_exp_1y = Experiment(path, 'Get_a_vt')"
   ]
  },
  {
   "cell_type": "code",
   "execution_count": null,
   "metadata": {},
   "outputs": [],
   "source": [
    "fig, axs = plt.subplots(1, 2, figsize=(12,6), sharex=True, sharey=True)\n",
    "dino_exp_1y.data.avt_no_evd.isel(x_c=30, y_c=30, t_d=-180, z_f=slice(1,-1)).plot(y='gdepw_0', yincrease=False, xscale='log', ax=axs[0], color='darkred')\n",
    "dino_exp_1y.data.avt_no_evd.isel(x_c=30, y_c=100, t_d=-1, z_f=slice(1,-1)).plot(y='gdepw_0', yincrease=False, xscale='log', ax=axs[1], color='darkred')\n",
    "axs[0].hlines(dino_exp_1y.data.mldr10_1max.isel(x_c=30, y_c=30, t_d=-180), 1e-6, 1, color='black', linestyles='dashed')\n",
    "axs[1].hlines(dino_exp_1y.data.mldr10_1max.isel(x_c=30, y_c=100, t_d=-180), 1e-6, 1, color='black', linestyles='dashed')\n",
    "plt.xlim(1e-6,1)\n",
    "axs[0].set_title('Channel')\n",
    "axs[1].set_title('Equator')\n",
    "axs[0].set_xlabel('vertical heat diffusion without evd component [m2/s]')\n",
    "axs[1].set_xlabel('vertical heat diffusion without evd component [m2/s]')\n",
    "axs[1].set_ylabel(' ')"
   ]
  },
  {
   "cell_type": "markdown",
   "metadata": {},
   "source": [
    "## Zonal averages of sst/sss/ssd"
   ]
  },
  {
   "cell_type": "code",
   "execution_count": null,
   "metadata": {},
   "outputs": [],
   "source": [
    "#dino_exp.data.sst.isel(t_m=slice(-12,-1), y_c=slice(1,-1), x_c=slice(1,-1)).mean('x_c').plot.line(x='y_c')\n",
    "(dino_exp.data.sst.isel(t_m=slice(-12,-1), y_c=slice(1,-1), x_c=slice(1,-1)) - T_star.isel(t_m=slice(-12,-1), y_c=slice(1,-1), x_c=slice(1,-1))).mean('x_c').plot.line(x='y_c')"
   ]
  },
  {
   "cell_type": "code",
   "execution_count": null,
   "metadata": {},
   "outputs": [],
   "source": [
    "(dino_exp.data.sss.isel(t_m=-1, y_c=slice(1,-1), x_c=slice(1,-1))).mean('x_c').plot()"
   ]
  },
  {
   "cell_type": "code",
   "execution_count": null,
   "metadata": {},
   "outputs": [],
   "source": [
    "nml = dino_exp.namelist['nameos']\n",
    "ssd = (\n",
    "    - nml['rn_a0'] * (1. + 0.5 * nml['rn_lambda1'] * ( dino_exp.data.sst - 10.)) * ( dino_exp.data.sst - 10.)\n",
    "    + nml['rn_b0'] * (1. - 0.5 * nml['rn_lambda2'] * ( dino_exp.data.sss - 35.)) * ( dino_exp.data.sss - 35.)\n",
    "    - nml['rn_nu'] * ( dino_exp.data.sst - 10.) * ( dino_exp.data.sss - 35.)\n",
    ") + 1026"
   ]
  },
  {
   "cell_type": "code",
   "execution_count": null,
   "metadata": {},
   "outputs": [],
   "source": [
    "(rho_star - ssd).isel(t_m=slice(-12,-1), y_c=slice(1,-1), x_c=slice(1,-1)).mean('x_c').plot.line(x='y_c')"
   ]
  },
  {
   "cell_type": "markdown",
   "metadata": {},
   "source": [
    "## Zonal average of density"
   ]
  },
  {
   "cell_type": "code",
   "execution_count": null,
   "metadata": {},
   "outputs": [],
   "source": [
    "vol_rho = dino_exp.transform_to_density(var=(dino_exp.domain.e1t * dino_exp.domain.e2t * dino_exp.data.e3t).isel(z_c=slice(0,-1), t_y=-1))"
   ]
  },
  {
   "cell_type": "code",
   "execution_count": null,
   "metadata": {},
   "outputs": [],
   "source": [
    "vol_rho.sum(['y_c', 'x_c', 'rhop']).values"
   ]
  },
  {
   "cell_type": "code",
   "execution_count": null,
   "metadata": {},
   "outputs": [],
   "source": [
    "(dino_exp.data.e3w * dino_exp.domain.e2t * dino_exp.domain.e1t).isel(t_y=-1).sum(['y_c', 'x_c', 'z_f']).values"
   ]
  },
  {
   "cell_type": "code",
   "execution_count": null,
   "metadata": {},
   "outputs": [],
   "source": [
    "e3t_rho.mean('x_c').plot.contourf(x='y_c', y='rhop', cmap=cm.dense_r, levels=36)"
   ]
  },
  {
   "cell_type": "code",
   "execution_count": null,
   "metadata": {},
   "outputs": [],
   "source": [
    "dino_exp.data.rhop.isel(t_y=-1, z_c=0, x_c=30, y_c=slice(1,-1)).min().values#.plot(x='gphit')"
   ]
  },
  {
   "cell_type": "code",
   "execution_count": null,
   "metadata": {},
   "outputs": [],
   "source": [
    "a.values"
   ]
  },
  {
   "cell_type": "code",
   "execution_count": null,
   "metadata": {},
   "outputs": [],
   "source": [
    "dino_exp.domain.gdept_1d.values"
   ]
  },
  {
   "cell_type": "code",
   "execution_count": null,
   "metadata": {},
   "outputs": [],
   "source": [
    "dino_exp.data.sst.isel(t_m=-1).plot()"
   ]
  },
  {
   "cell_type": "code",
   "execution_count": null,
   "metadata": {},
   "outputs": [],
   "source": [
    "dino_exp.domain.gdept_1d.isel(z_c=32).values"
   ]
  },
  {
   "cell_type": "code",
   "execution_count": null,
   "metadata": {},
   "outputs": [],
   "source": [
    "fig, axs = plt.subplots(1,1,figsize=(8,6))\n",
    "a = dino_exp.data.rhop.isel(t_y=-1, x_c=15, y_c=slice(1,-1), z_c=slice(0,-1)).plot.contourf(x='gphit', y='gdept_0', cmap=cm.dense_r, levels=36, add_colorbar=False)\n",
    "cbar1 = fig.colorbar(a, ax=axs, label=r'$\\rho$ [kg/m^3]')\n",
    "plt.xlabel('latitude [°N]')\n",
    "axs.invert_yaxis()\n",
    "plt.ylabel(r'$\\sigma_{0}$ [ $kg$ / $m^3$ - 1000 ]')\n",
    "plt.title('')"
   ]
  },
  {
   "cell_type": "code",
   "execution_count": null,
   "metadata": {},
   "outputs": [],
   "source": [
    "fig, axs = plt.subplots(1,1,figsize=(8,6))\n",
    "a = dino_exp.data.toce.isel(t_y=-1, x_c=30, y_c=slice(1,-1), z_c=slice(0,-1)).plot.contourf(x='gphit', y='gdept_0', levels=36, add_colorbar=False)\n",
    "cbar1 = fig.colorbar(a, ax=axs, label=r'$\\rho$ [kg/m^3]')\n",
    "plt.xlabel('latitude [°N]')\n",
    "axs.invert_yaxis()\n",
    "plt.ylabel(r'$\\sigma_{0}$ [ $kg$ / $m^3$ - 1000 ]')\n",
    "plt.title('temprature')"
   ]
  },
  {
   "cell_type": "code",
   "execution_count": null,
   "metadata": {},
   "outputs": [],
   "source": [
    "from matplotlib.colors import LogNorm\n",
    "\n",
    "soce = (dino_exp.data.isel(t_y=-1).where(dino_exp.domain.tmask == 1.)).soce.values.ravel()\n",
    "toce = (dino_exp.data.isel(t_y=-1).where(dino_exp.domain.tmask == 1.)).toce.values.ravel()\n",
    "vol  = (dino_exp.domain.e1t * dino_exp.domain.e2t * dino_exp.data.isel(t_y=-1).e3t).values.ravel()\n",
    "\n",
    "smin, smax = 34, 36.5\n",
    "tmin, tmax = -3, 28\n",
    "\n",
    "s = np.linspace(smin, smax, 100)\n",
    "t = np.linspace(tmin, tmax, 100)\n",
    "\n",
    "Sg, Tg = np.meshgrid(s,t)\n",
    "\n",
    "nml = dino_exp.namelist['nameos']\n",
    "\n",
    "rho = (\n",
    "    - nml['rn_a0'] * (1. + 0.5 * nml['rn_lambda1'] * ( Tg - 10.)) * ( Tg - 10.) \n",
    "    + nml['rn_b0'] * (1. - 0.5 * nml['rn_lambda2'] * ( Sg - 35.)) * ( Sg - 35.) \n",
    "    - nml['rn_nu'] * ( t - 10.) * ( Sg - 35.)\n",
    ") + 1026\n",
    "\n",
    "fig, ax = plt.subplots()\n",
    "hb = ax.hexbin(soce, toce,\n",
    "           C=vol, reduce_C_function=np.sum,\n",
    "           extent=(34,36.5,-3,28), gridsize=50, bins='log',\n",
    "           cmap=cm.matter)\n",
    "plt.colorbar(hb)\n",
    "cp = ax.contour(Sg,Tg, rho, levels=np.arange(1021, 1029, 0.5), linestyles='dashed', colors='black')\n",
    "cl=plt.clabel(cp,fontsize=10,inline=True,fmt=\"%.1f\")\n",
    "ax.set_ylabel(r'Temperature ($^\\circ$C)')\n",
    "ax.set_xlabel(\"Salinity (g / kg)\")"
   ]
  },
  {
   "cell_type": "code",
   "execution_count": null,
   "metadata": {},
   "outputs": [],
   "source": [
    "plt.plot(vol,rho)"
   ]
  },
  {
   "cell_type": "code",
   "execution_count": null,
   "metadata": {},
   "outputs": [],
   "source": [
    "mld_sep = dino_exp.data.mldr10_1.where(((dino_exp.data['t_m.year'] >= 1030) & (dino_exp.data['t_m.month'] == 9)), drop=True).mean('t_m')\n",
    "mld_mar = dino_exp.data.mldr10_1.where(((dino_exp.data['t_m.year'] >= 1030) & (dino_exp.data['t_m.month'] == 3)), drop=True).mean('t_m')\n",
    "\n",
    "mld_sep = mld_sep.assign_coords({'x_globe': mld_sep.glamt - 30})\n",
    "mld_mar = mld_mar.assign_coords({'x_globe': mld_mar.glamt - 30})"
   ]
  },
  {
   "cell_type": "code",
   "execution_count": null,
   "metadata": {},
   "outputs": [],
   "source": [
    "plt.figure(figsize=(10,10))\n",
    "a = mld_sep.plot.contourf(\n",
    "    y='gphit',\n",
    "    x='x_globe',\n",
    "    cmap=cm.deep_r,\n",
    "    levels=30,\n",
    "    subplot_kws=dict(projection=ccrs.Robinson()),\n",
    "\n",
    "    transform=ccrs.PlateCarree(),\n",
    "    #add_colorbar=False,\n",
    ")\n",
    "a.axes.gridlines(\n",
    "    draw_labels=[\"x\", \"y\", \"geo\"],\n",
    "    ylocs=[-70, -45, -20, 0, 20, 45, 70],\n",
    "    xlocs=[0]\n",
    ")\n",
    "plt.title('')\n",
    "plt.grid('m')\n",
    "plt.tight_layout()"
   ]
  },
  {
   "cell_type": "code",
   "execution_count": null,
   "metadata": {},
   "outputs": [],
   "source": [
    "(86400 * dino_exp.data.saltflx / dino_exp.data.sss).isel(t_m=slice(-13,-1)).mean('t_m').plot()"
   ]
  },
  {
   "cell_type": "code",
   "execution_count": null,
   "metadata": {},
   "outputs": [],
   "source": [
    "dino_exp.data.saltflx.where(dino_exp.domain.tmask.isel(z_c=0)==1.0).isel(t_m=slice(-13,-1)).mean('t_m').plot()"
   ]
  },
  {
   "cell_type": "code",
   "execution_count": null,
   "metadata": {},
   "outputs": [],
   "source": [
    "def scurve(x, x0, dx):\n",
    "    \"\"\"Returns 0 for x<x0 or x>x+dx, and a cubic in between.\"\"\"\n",
    "    s = np.minimum(1, np.maximum(0, (x-x0)/dx))\n",
    "    return (3 - 2*s)*( s*s )\n",
    "\n",
    "def itau(ytau,taud,ys):\n",
    "    \"\"\"Returns a profile tau(ys) that uses s-curves between node,valuesa ytau,taud\"\"\"\n",
    "    taus = 0.*ys\n",
    "    ks = 0\n",
    "    for i in range(len(ys)):\n",
    "        y = ys[i]\n",
    "        if y>=ytau[ks+1]:\n",
    "            ks=min(len(ytau)-2,ks+1)\n",
    "        taus[i] = taud[ks] + ( taud[ks+1] - taud[ks]) * scurve(y, ytau[ks], ytau[ks+1]-ytau[ks])\n",
    "    return taus\n",
    "\n",
    "def S_star(rho, T):\n",
    "    nml = dino_exp.namelist['nameos']\n",
    "    s_star = ( rho - 1026.\n",
    "    + nml['rn_a0'] * (1. + 0.5 * nml['rn_lambda1'] * ( T - 10.)) * ( T - 10.)\n",
    "    ) / nml['rn_b0'] + 35.\n",
    "    return(s_star)\n",
    "\n",
    "def Rho_star(toce, soce):\n",
    "    nml = dino_exp.namelist['nameos']\n",
    "    rho_star = (\n",
    "        - nml['rn_a0'] * (1. + 0.5 * nml['rn_lambda1'] * ( toce - 10.) ) * ( toce - 10.) \n",
    "        + nml['rn_b0'] * ( soce - 35.) \n",
    "    ) + 1026\n",
    "    return(rho_star)\n",
    "\n",
    "ysteps = np.linspace(-70,70,100)"
   ]
  },
  {
   "cell_type": "code",
   "execution_count": null,
   "metadata": {},
   "outputs": [],
   "source": [
    "def S_of_phi(experiment):\n",
    "    S_s     = 35.\n",
    "    S_n     = 35.1\n",
    "    S_eq    = 37.25\n",
    "    S_b     = (experiment.domain.gphit <= 0.) * S_s + (experiment.domain.gphit > 0.) * S_n\n",
    "    S       = S_b + (S_eq - S_b) * 0.5 * (1. + np.cos(np.pi * experiment.domain.gphit / 70.)) - 1.25 * np.exp(- (experiment.domain.gphit / 7.5)**2)\n",
    "    return(S)\n",
    "\n",
    "def T_of_phi(experiment):\n",
    "    T_s     = 0.\n",
    "    T_n     = 2.\n",
    "    T_eq    = 27.\n",
    "    T_b     = (experiment.domain.gphit <= 0.) * T_s + (experiment.domain.gphit > 0.) * T_n\n",
    "    T       = T_b + (T_eq - T_b) * np.sin(np.pi * (experiment.domain.gphit + 70.) / 140)\n",
    "    return(T)\n"
   ]
  },
  {
   "cell_type": "code",
   "execution_count": null,
   "metadata": {},
   "outputs": [],
   "source": [
    "S_of_phi(dino_exp).isel(x_c=30).plot(figsize=(20,5), x='gphit')\n",
    "plt.hlines(38., -70, 70)"
   ]
  },
  {
   "cell_type": "code",
   "execution_count": null,
   "metadata": {},
   "outputs": [],
   "source": [
    "T_of_phi(dino_exp).isel(x_c=30).plot(figsize=(20,5), x='gphit')"
   ]
  },
  {
   "cell_type": "code",
   "execution_count": null,
   "metadata": {},
   "outputs": [],
   "source": [
    "Rho_star(T_of_phi(dino_exp), S_of_phi(dino_exp)).isel(x_c=30).plot(figsize=(20,5), x='gphit')"
   ]
  },
  {
   "cell_type": "code",
   "execution_count": null,
   "metadata": {},
   "outputs": [],
   "source": [
    "(Rho_star(T_of_phi(dino_exp), S_of_phi(dino_exp)).isel(x_c=30, y_c=0) - Rho_star(T_of_phi(dino_exp), S_of_phi(dino_exp)).isel(x_c=30, y_c=-1)).values"
   ]
  },
  {
   "cell_type": "code",
   "execution_count": null,
   "metadata": {},
   "outputs": [],
   "source": [
    "dino_exp.data.sst.isel(x_c=30, t_m=-1).plot(x='gphit', label='Dezember')\n",
    "dino_exp.data.sst.isel(x_c=30, t_m=-4).plot(x='gphit', label='September')\n",
    "dino_exp.data.sst.isel(x_c=30, t_m=-7).plot(x='gphit', label='Juni')\n",
    "dino_exp.data.sst.isel(x_c=30, t_m=-10).plot(x='gphit', label='Maerz')\n",
    "plt.vlines([-10,10], -3, 30)\n",
    "plt.legend()"
   ]
  },
  {
   "cell_type": "code",
   "execution_count": null,
   "metadata": {},
   "outputs": [],
   "source": [
    "dino_exp.get_T_star().isel(x_c=30, t_m=-1).plot(x='gphit', label='Dezember')\n",
    "dino_exp.get_T_star().isel(x_c=30, t_m=-4).plot(x='gphit', label='September')\n",
    "dino_exp.get_T_star().isel(x_c=30, t_m=-7).plot(x='gphit', label='Juni')\n",
    "dino_exp.get_T_star().isel(x_c=30, t_m=-6).plot(x='gphit', label='Juli')\n",
    "dino_exp.get_T_star().isel(x_c=30, t_m=-10).plot(x='gphit', label='Maerz')\n",
    "plt.legend()"
   ]
  },
  {
   "cell_type": "code",
   "execution_count": null,
   "metadata": {},
   "outputs": [],
   "source": [
    "path   = \"/data/dkamm/nemo_output/DINO/\"\n",
    "testF = Experiment(path, 'testForcing')"
   ]
  },
  {
   "cell_type": "code",
   "execution_count": null,
   "metadata": {},
   "outputs": [],
   "source": [
    "sstar = testF.get_S_star()\n",
    "tstar = testF.get_T_star()\n",
    "rhostar = testF.get_rho_star()"
   ]
  },
  {
   "cell_type": "code",
   "execution_count": null,
   "metadata": {},
   "outputs": [],
   "source": [
    "rhostar.isel(t_0=6, x_c=30).plot(x='gphit')"
   ]
  },
  {
   "cell_type": "code",
   "execution_count": null,
   "metadata": {},
   "outputs": [],
   "source": [
    "(rhostar.isel(x_c=30, y_c=1) - rhostar.isel(x_c=30, y_c=-2)).plot(x='t_0')"
   ]
  },
  {
   "cell_type": "code",
   "execution_count": null,
   "metadata": {},
   "outputs": [],
   "source": [
    "testF.data.qns.isel(x_c=30, y_c=-1).idxmax().values"
   ]
  },
  {
   "cell_type": "code",
   "execution_count": null,
   "metadata": {},
   "outputs": [],
   "source": [
    "dino_exp.data.qns.isel(x_c=30, t_m=slice(-13,-1)).plot()"
   ]
  },
  {
   "cell_type": "code",
   "execution_count": null,
   "metadata": {},
   "outputs": [],
   "source": [
    "dino_exp.domain.gphit.isel(x_c=30).values"
   ]
  },
  {
   "cell_type": "code",
   "execution_count": null,
   "metadata": {},
   "outputs": [],
   "source": []
  }
 ],
 "metadata": {
  "kernelspec": {
   "display_name": "nemo_env",
   "language": "python",
   "name": "python3"
  },
  "language_info": {
   "codemirror_mode": {
    "name": "ipython",
    "version": 3
   },
   "file_extension": ".py",
   "mimetype": "text/x-python",
   "name": "python",
   "nbconvert_exporter": "python",
   "pygments_lexer": "ipython3",
   "version": "3.9.15"
  }
 },
 "nbformat": 4,
 "nbformat_minor": 2
}
