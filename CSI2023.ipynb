{
 "cells": [
  {
   "cell_type": "code",
   "execution_count": null,
   "metadata": {},
   "outputs": [],
   "source": [
    "import cartopy.crs as ccrs\n",
    "from cmocean import cm \n",
    "from dino import Experiment\n",
    "from matplotlib import colors\n",
    "from matplotlib import pyplot as plt\n",
    "import numpy as np\n",
    "import xarray as xr\n",
    "import cftime as cft\n",
    "import xnemogcm as xn\n",
    "import xgcm"
   ]
  },
  {
   "cell_type": "code",
   "execution_count": null,
   "metadata": {},
   "outputs": [],
   "source": [
    "SMALL_SIZE = 14\n",
    "MEDIUM_SIZE = 18\n",
    "BIGGER_SIZE = 18\n",
    "\n",
    "plt.rc('font', size=SMALL_SIZE)          # controls default text sizes\n",
    "plt.rc('axes', titlesize=BIGGER_SIZE)     # fontsize of the axes title\n",
    "plt.rc('axes', labelsize=MEDIUM_SIZE)    # fontsize of the x and y labels\n",
    "plt.rc('xtick', labelsize=MEDIUM_SIZE)    # fontsize of the tick labels\n",
    "plt.rc('ytick', labelsize=MEDIUM_SIZE)    # fontsize of the tick labels\n",
    "plt.rc('legend', fontsize=SMALL_SIZE)    # legend fontsize\n",
    "plt.rc('figure', titlesize=BIGGER_SIZE)  # fontsize of the figure title"
   ]
  },
  {
   "cell_type": "code",
   "execution_count": null,
   "metadata": {},
   "outputs": [],
   "source": [
    "path   = \"/data/dkamm/nemo_output/NEVERWORLD/\"\n",
    "\n",
    "#dino_exp = Experiment(path, 'GAUS_RIDGE/GAUS_RIDGE')\n",
    "#dino_exp = Experiment(path, '1_deg_GM/restart0')\n",
    "#dino_exp = Experiment(path, 'Triad_400y/restart2')\n",
    "dino_exp = Experiment(path, '../DINO/T_star_IPSL')"
   ]
  },
  {
   "cell_type": "code",
   "execution_count": null,
   "metadata": {},
   "outputs": [],
   "source": [
    "bathymetry = dino_exp.domain.gdept_0.isel(z_c=-1)\n",
    "bathymetry = bathymetry.assign_coords({'x_globe': bathymetry.glamt - 30})"
   ]
  },
  {
   "cell_type": "code",
   "execution_count": null,
   "metadata": {},
   "outputs": [],
   "source": [
    "plt.figure(figsize=(10,10))\n",
    "p = bathymetry.plot.contourf(\n",
    "    y='gphit',\n",
    "    x='x_globe',\n",
    "    cmap=cm.deep_r,\n",
    "    levels=30,\n",
    "    subplot_kws=dict(projection=ccrs.Robinson()),\n",
    "\n",
    "    transform=ccrs.PlateCarree(),\n",
    "\n",
    "    add_colorbar=False,\n",
    "    # cmap='inferno'\n",
    ")\n",
    "# p = channel.plot.contourf(\n",
    "#     y='gphit',\n",
    "#     x='x_globe',\n",
    "#     cmap=cm.deep_r,\n",
    "#     levels=70,\n",
    "#     #alpha=0.8,\n",
    "#     subplot_kws=dict(projection=ccrs.Orthographic(-30., 0.), facecolor=\"black\"),\n",
    "\n",
    "#     transform=ccrs.PlateCarree(),\n",
    "\n",
    "#     add_colorbar=False,\n",
    "#     # cmap='inferno'\n",
    "# )\n",
    "#plt.hlines(20, 0, 60, color='white')\n",
    "#p.axes.coastlines(color='white', linewidth=3)\n",
    "p.axes.gridlines(\n",
    "    draw_labels=[\"x\", \"y\", \"geo\"],\n",
    "    ylocs=[-70, -45, -20, 0, 20, 45, 70],\n",
    "    xlocs=[0]\n",
    ")\n",
    "plt.title('')\n",
    "plt.grid('m')\n",
    "plt.tight_layout()\n",
    "#plt.savefig('DINO_bathy_3.png', facecolor=(1,1,1,0))"
   ]
  },
  {
   "cell_type": "markdown",
   "metadata": {},
   "source": [
    "# Forcing"
   ]
  },
  {
   "cell_type": "code",
   "execution_count": null,
   "metadata": {},
   "outputs": [],
   "source": [
    "# Wolfe Cessi (2014) analytical forcing\n",
    "\n",
    "lat = np.linspace(-5000, 5000, 200)\n",
    "\n",
    "tau = 0.1 * ( - np.cos(\n",
    "    3 * np.pi * lat / 2 / (5000) )\n",
    "    + 0.8 * np.exp( - lat**2 / 640**2)\n",
    ")"
   ]
  },
  {
   "cell_type": "code",
   "execution_count": null,
   "metadata": {},
   "outputs": [],
   "source": [
    "fig, axs = plt.subplots(1,2,figsize=(10,8), sharex=True)\n",
    "dino_exp.data.utau.isel(t_y=-1, x_f=10).plot(color='black', y='gphiu', ax=axs[0])\n",
    "axs[0].fill_betweenx(dino_exp.domain.gphiu.values[:,0], -0.12, 0.22, where=dino_exp.domain.umask.isel(x_f=0, z_c=0)==1, facecolor='grey', alpha=.2)\n",
    "axs[0].margins(x=0, y=0)\n",
    "axs[0].set_title('DINO / Marques et al. (2022)')\n",
    "axs[0].grid()\n",
    "\n",
    "axs[1].plot(tau, lat, color='black')\n",
    "axs[1].fill_betweenx(lat, -0.12, 0.22, where=lat<-3800, facecolor='grey', alpha=.2)\n",
    "axs[1].margins(x=0, y=0)\n",
    "axs[1].set_ylabel('latitude [km]')\n",
    "\n",
    "axs[1].set_xlabel(r\"Wind Stress along i-axis\" \"\\n\" r\"N/m2]\")\n",
    "axs[1].set_title('Wolfe & Cessi (2014)')\n",
    "axs[1].grid()\n",
    "axs[1].yaxis.set_label_position(\"right\")\n",
    "axs[1].yaxis.tick_right()\n",
    "plt.tight_layout()\n",
    "\n",
    "#plt.savefig('wind_forcing.png', facecolor=(1,1,1,0))"
   ]
  },
  {
   "cell_type": "code",
   "execution_count": null,
   "metadata": {},
   "outputs": [],
   "source": [
    "# Wolfe Cessi (2014) analytical forcing\n",
    "\n",
    "T_star_max = 20.0 * np.cos(np.pi * lat / 2 / (5000) )**2 + 5 * np.exp( - (lat - 5000.)**2 / 1800**2)\n",
    "T_star_min = 20.0 * np.cos(np.pi * lat / 2 / (5000) )**2"
   ]
  },
  {
   "cell_type": "code",
   "execution_count": null,
   "metadata": {},
   "outputs": [],
   "source": [
    "fig, axs = plt.subplots(1,2,figsize=(10,8), sharex=True)\n",
    "dino_exp.get_T_star().isel(t_m=0, x_c=10, y_c=slice(1,-1)).plot(color='darkred', y='gphit', ax=axs[0], label='January')\n",
    "dino_exp.get_T_star().isel(t_m=6, x_c=10, y_c=slice(1,-1)).plot(color='midnightblue', y='gphit', ax=axs[0], label='July')\n",
    "axs[0].fill_betweenx(dino_exp.domain.gphiu.values[:,0], -2, 32, where=dino_exp.domain.umask.isel(x_f=0, z_c=0)==1, facecolor='grey', alpha=.2)\n",
    "axs[0].margins(x=0, y=0)\n",
    "axs[0].set_title('DINO')\n",
    "axs[0].grid()\n",
    "axs[0].legend()\n",
    "axs[0].set_xlabel(r\"$T^{*}$ [°C]\")\n",
    "\n",
    "axs[1].plot(T_star_max, lat, color='black')\n",
    "axs[1].plot(T_star_min, lat, color='black')\n",
    "axs[1].fill_betweenx(lat, -2, 32, where=lat<-3800, facecolor='grey', alpha=.2)\n",
    "axs[1].fill_betweenx(lat, T_star_min, T_star_max, facecolor='grey', alpha=.2)\n",
    "axs[1].margins(x=0, y=0)\n",
    "axs[1].set_ylabel('latitude [km]')\n",
    "axs[1].set_xlabel(r\"$T^{*}$ [°C]\")\n",
    "axs[1].set_title('Wolfe & Cessi (2014)')\n",
    "axs[1].grid()\n",
    "axs[1].yaxis.set_label_position(\"right\")\n",
    "axs[1].yaxis.tick_right()\n",
    "plt.tight_layout()\n",
    "#plt.savefig('T_star.png', facecolor=(1,1,1,0))"
   ]
  },
  {
   "cell_type": "code",
   "execution_count": null,
   "metadata": {},
   "outputs": [],
   "source": [
    "# Wolfe Cessi (2014) analytical forcing\n",
    "\n",
    "EmP_wc  =  1026. * 0.81 * ( np.cos(\n",
    "    np.pi * lat / (5000) )\n",
    "    - 2.0 * np.exp( - lat**2 / 900**2)\n",
    ") / 360 / 24 / 3600.\n",
    "S_star_dino = 37.12 * np.exp( - dino_exp.domain.gphit.isel(x_c=30)**2 / 260.**2 ) - 1.1 * np.exp( - dino_exp.domain.gphit.isel(x_c=30)**2 / 7.5**2 )"
   ]
  },
  {
   "cell_type": "code",
   "execution_count": null,
   "metadata": {},
   "outputs": [],
   "source": [
    "fig, axs = plt.subplots(1,2,figsize=(10,8), sharex=True)\n",
    "dino_exp.data.empmr.isel(t_m=-1, x_c=10).plot(color='black', y='gphit', ax=axs[0])\n",
    "axs[0].fill_betweenx(dino_exp.domain.gphiu.values[:,0], -3.5e-5, 3.5e-5, where=dino_exp.domain.umask.isel(x_f=0, z_c=0)==1, facecolor='grey', alpha=.2)\n",
    "axs[0].margins(x=0, y=0)\n",
    "axs[0].set_xlabel(r\"E - P [kg / m2 / s]\")\n",
    "axs[0].set_title('DINO')\n",
    "axs[0].grid()\n",
    "\n",
    "axs[1].plot(EmP_wc - np.mean(EmP_wc), lat, color='black')\n",
    "axs[1].fill_betweenx(lat, -3.5e-5, 3.5e-5, where=lat<-3800, facecolor='grey', alpha=.2)\n",
    "axs[1].margins(x=0, y=0)\n",
    "axs[1].set_ylabel('latitude [km]')\n",
    "axs[1].set_xlabel(r\"E - P [kg / m2 / s]\")\n",
    "axs[1].set_title('Wolfe & Cessi (2014)')\n",
    "axs[1].grid()\n",
    "axs[1].yaxis.set_label_position(\"right\")\n",
    "axs[1].yaxis.tick_right()\n",
    "plt.tight_layout()\n",
    "plt.savefig('EmP.png', facecolor=(1,1,1,0))"
   ]
  },
  {
   "cell_type": "code",
   "execution_count": null,
   "metadata": {},
   "outputs": [],
   "source": [
    "fig, axs = plt.subplots(1,1,figsize=(4,8))\n",
    "S_star_dino.plot(color='black', y='gphit', ax=axs)\n",
    "axs.fill_betweenx(dino_exp.domain.gphiu.values[:,0], 34.5, 37.5, where=dino_exp.domain.umask.isel(x_f=0, z_c=0)==1, facecolor='grey', alpha=.2)\n",
    "axs.margins(x=0, y=0)\n",
    "axs.set_xlabel(r\"$S^{*}$ [psu]\")\n",
    "axs.set_title('')\n",
    "axs.grid()\n",
    "plt.savefig('S_star.png', facecolor=(1,1,1,0), bbox_inches='tight')"
   ]
  },
  {
   "cell_type": "code",
   "execution_count": null,
   "metadata": {},
   "outputs": [],
   "source": [
    "path   = \"/data/dkamm/nemo_output/DINO/\"\n",
    "\n",
    "dino_exp_sr = Experiment(path, 'SaltRestoring')\n",
    "#dino_exp_sp = Experiment(path, 'SaltPassive')"
   ]
  },
  {
   "cell_type": "code",
   "execution_count": null,
   "metadata": {},
   "outputs": [],
   "source": [
    "fig, axs = plt.subplots(1,1, figsize=(12,6))\n",
    "dino_exp_sr.get_ACC().plot(color='black', label='active salinity')\n",
    "dino_exp_sp.get_ACC().plot(color='darkred', label='passive salinity')\n",
    "axs.set_ylabel('ACC transport [Sv]')\n",
    "plt.title('')\n",
    "plt.xlabel('time [years]')\n",
    "plt.legend()\n",
    "plt.grid()\n",
    "plt.savefig('acc_sp.png', facecolor=(1,1,1,0), bbox_inches='tight')"
   ]
  },
  {
   "cell_type": "code",
   "execution_count": null,
   "metadata": {},
   "outputs": [],
   "source": [
    "moc_sp = dino_exp_sr.get_MOC(dino_exp_sr.data.voce + dino_exp_sr.data.voce_eiv, isel={'t_y':150})"
   ]
  },
  {
   "cell_type": "code",
   "execution_count": null,
   "metadata": {},
   "outputs": [],
   "source": [
    "moc_sr2 = dino_exp_sr.get_MOC(dino_exp_sr.data.voce + dino_exp_sr.data.voce_eiv, isel={'t_y':200})"
   ]
  },
  {
   "cell_type": "code",
   "execution_count": null,
   "metadata": {},
   "outputs": [],
   "source": [
    "fig, axs = plt.subplots(1,2,figsize=(15,10), sharey=True)\n",
    "a = (-moc_sr).plot.contourf(x='y_f', y='rhop', cmap='RdBu_r', levels=30, add_colorbar=False, ax=axs[0])\n",
    "cbar1 = fig.colorbar(a, ax=axs[:2], location='bottom' , label=r'$\\psi$ [Sv]')\n",
    "b = (-moc_sr2).plot.contourf(x='y_f', y='rhop', cmap='RdBu_r', levels=30, add_colorbar=False, vmin=cbar1.vmin, vmax=cbar1.vmax, ax=axs[1])\n",
    "axs[0].set_xlabel('latitude [°N]')\n",
    "axs[0].invert_yaxis()\n",
    "axs[1].set_xlabel('latitude [°N]')\n",
    "axs[0].set_ylabel(r'$\\rho$')\n",
    "axs[1].set_ylabel('')\n",
    "axs[0].set_title('')\n",
    "axs[1].set_title('')\n",
    "plt.savefig('moc_sr.png', facecolor=(1,1,1,0), bbox_inches='tight')"
   ]
  },
  {
   "cell_type": "code",
   "execution_count": null,
   "metadata": {},
   "outputs": [],
   "source": [
    "moc_sp = dino_exp_sp.get_MOC(dino_exp_sp.data.voce + dino_exp_sp.data.voce_eiv)"
   ]
  },
  {
   "cell_type": "code",
   "execution_count": null,
   "metadata": {},
   "outputs": [],
   "source": [
    "fig, axs = plt.subplots(1,1,figsize=(8,8))\n",
    "a = (-moc_sp).plot.contourf(x='y_f', y='rhop', cmap='RdBu_r', levels=30, ax=axs)\n",
    "axs.set_xlabel('latitude [°N]')\n",
    "axs.invert_yaxis()\n",
    "axs.set_ylabel(r'$\\rho$')\n",
    "axs.set_title('')\n",
    "plt.savefig('moc_sp.png', facecolor=(1,1,1,0), bbox_inches='tight')"
   ]
  },
  {
   "cell_type": "code",
   "execution_count": null,
   "metadata": {},
   "outputs": [],
   "source": [
    "bts_sp = dino_exp_sp.get_BTS().isel(t_y=-1)\n",
    "bts_sr = dino_exp_sr.get_BTS().isel(t_y=-1)"
   ]
  },
  {
   "cell_type": "code",
   "execution_count": null,
   "metadata": {},
   "outputs": [],
   "source": [
    "fig, axs = plt.subplots(1,2,figsize=(15,8))\n",
    "a = bts_sp.plot.contourf(x='glamf', y='gphif', cmap=cm.balance, levels=30, add_colorbar=False, ax=axs[0])\n",
    "cbar1 = fig.colorbar(a, ax=axs[:2], location='bottom' , label='[Sv]')\n",
    "b = bts_sr.plot.contourf(x='glamf', y='gphif', cmap=cm.balance, levels=30, add_colorbar=False, vmin=cbar1.vmin, vmax=cbar1.vmax, ax=axs[1])\n",
    "axs[0].set_ylabel('latitude [°N]')\n",
    "axs[0].set_xlabel('longitude [°E]')\n",
    "axs[1].set_ylabel('latitude [°N]')\n",
    "axs[1].set_xlabel('longitude [°E]')\n",
    "axs[0].set_title('passive salt')\n",
    "axs[1].set_title('active salt')\n",
    "plt.savefig('bts.png', facecolor=(1,1,1,0), bbox_inches='tight')"
   ]
  },
  {
   "cell_type": "code",
   "execution_count": null,
   "metadata": {},
   "outputs": [],
   "source": [
    "Jul_sr = dino_exp_sr.data.mldr10_1.where(((dino_exp_sr.data['t_m.year'] >= 480) & (dino_exp_sr.data['t_m.month'] == 7) & (dino_exp_sr.data['t_m.year'] <= 500)), drop=True).mean('t_m')\n",
    "Jul_sp = dino_exp_sp.data.mldr10_1.where(((dino_exp_sp.data['t_m.year'] >= 480) & (dino_exp_sp.data['t_m.month'] == 7) & (dino_exp_sp.data['t_m.year'] <= 500)), drop=True).mean('t_m')\n",
    "Feb_sr = dino_exp_sr.data.mldr10_1.where(((dino_exp_sr.data['t_m.year'] >= 480) & (dino_exp_sr.data['t_m.month'] == 2) & (dino_exp_sr.data['t_m.year'] <= 500)), drop=True).mean('t_m')\n",
    "Feb_sp = dino_exp_sp.data.mldr10_1.where(((dino_exp_sp.data['t_m.year'] >= 480) & (dino_exp_sp.data['t_m.month'] == 2) & (dino_exp_sp.data['t_m.year'] <= 500)), drop=True).mean('t_m')"
   ]
  },
  {
   "cell_type": "code",
   "execution_count": null,
   "metadata": {},
   "outputs": [],
   "source": [
    "Jul_sr = Jul_sr.assign_coords({'x_globe': Jul_sr.glamt - 30})\n",
    "Feb_sr = Feb_sr.assign_coords({'x_globe': Feb_sr.glamt - 30})\n",
    "Jul_sp = Jul_sp.assign_coords({'x_globe': Jul_sp.glamt - 30})\n",
    "Feb_sp = Feb_sp.assign_coords({'x_globe': Feb_sp.glamt - 30})"
   ]
  },
  {
   "cell_type": "code",
   "execution_count": null,
   "metadata": {},
   "outputs": [],
   "source": [
    "plt.figure(figsize=(10,10))\n",
    "a = Jul_sp.plot.contourf(\n",
    "    y='gphit',\n",
    "    x='x_globe',\n",
    "    cmap=cm.deep_r,\n",
    "    levels=30,\n",
    "    subplot_kws=dict(projection=ccrs.Robinson()),\n",
    "\n",
    "    transform=ccrs.PlateCarree(),\n",
    "    #add_colorbar=False,\n",
    ")\n",
    "a.axes.gridlines(\n",
    "    draw_labels=[\"x\", \"y\", \"geo\"],\n",
    "    ylocs=[-70, -45, -20, 0, 20, 45, 70],\n",
    "    xlocs=[0]\n",
    ")\n",
    "plt.title('')\n",
    "plt.grid('m')\n",
    "plt.tight_layout()\n",
    "plt.savefig('mld1.png', facecolor=(1,1,1,0), bbox_inches='tight')"
   ]
  },
  {
   "cell_type": "code",
   "execution_count": null,
   "metadata": {},
   "outputs": [],
   "source": [
    "moc_sp = dino_exp_sp.get_MOC(dino_exp_sp.data.voce + dino_exp_sp.data.voce_eiv)\n",
    "moc_sr = dino_exp_sr.get_MOC(dino_exp_sr.data.voce + dino_exp_sr.data.voce_eiv)"
   ]
  },
  {
   "cell_type": "code",
   "execution_count": null,
   "metadata": {},
   "outputs": [],
   "source": [
    "fig, axs = plt.subplots(1,2,figsize=(12,6))\n",
    "a = (- moc_sp).plot.contourf(x='y_f', y='rhop', cmap=cm.balance, levels=30, add_colorbar=False, ax=axs[0])\n",
    "cbar1 = fig.colorbar(a, ax=axs[:2], location='bottom' , label='[Sv]')\n",
    "b = (- moc_sr).plot.contourf(x='y_f', y='rhop', cmap=cm.balance, levels=30, add_colorbar=False, vmin=cbar1.vmin, vmax=cbar1.vmax, ax=axs[1])\n",
    "axs[0].set_xlabel('latitude [°N]')\n",
    "axs[0].invert_yaxis()\n",
    "axs[0].set_ylabel(r'$\\sigma_{0}$ [ $kg$ / $m^3$ - 1000 ]')\n",
    "axs[1].set_xlabel('latitude [°N]')\n",
    "axs[1].invert_yaxis()\n",
    "axs[1].set_ylabel(r'$\\sigma_{0}$ [ $kg$ / $m^3$ - 1000 ]')\n",
    "plt.title('')"
   ]
  },
  {
   "cell_type": "code",
   "execution_count": null,
   "metadata": {},
   "outputs": [],
   "source": [
    "plt.figure(figsize=(15,4))\n",
    "dino_exp_sp.data.rhop.isel(x_c=slice(15, -15), t_y=slice(-10,-1), y_c=slice(1,-1), z_c=slice(0,-1)).mean('x_c').mean('t_y').plot.contourf(y='gdept_1d', yincrease=False, levels=36, cmap=cm.dense_r)\n",
    "plt.savefig('strat_sp.png', facecolor=(1,1,1,0), bbox_inches='tight')"
   ]
  },
  {
   "cell_type": "code",
   "execution_count": null,
   "metadata": {},
   "outputs": [],
   "source": [
    "plt.figure(figsize=(15,4))\n",
    "dino_exp_sr.data.rhop.isel(x_c=slice(15, -15), t_y=slice(-10,-1), y_c=slice(1,-1), z_c=slice(0,-1)).mean('x_c').mean('t_y').plot.contourf(y='gdept_1d', yincrease=False, levels=36, cmap=cm.dense_r)\n",
    "plt.savefig('strat_sr.png', facecolor=(1,1,1,0), bbox_inches='tight')"
   ]
  },
  {
   "cell_type": "code",
   "execution_count": null,
   "metadata": {},
   "outputs": [],
   "source": [
    "T_star = dino_exp_sr.get_T_star()"
   ]
  },
  {
   "cell_type": "code",
   "execution_count": null,
   "metadata": {},
   "outputs": [],
   "source": [
    "T_star.isel(t_m=-1).plot()"
   ]
  },
  {
   "cell_type": "code",
   "execution_count": null,
   "metadata": {},
   "outputs": [],
   "source": [
    "S_star = dino_exp_sr.get_S_star()"
   ]
  },
  {
   "cell_type": "code",
   "execution_count": null,
   "metadata": {},
   "outputs": [],
   "source": [
    "S_star.isel(x_c=10).plot(y='gphit')"
   ]
  },
  {
   "cell_type": "code",
   "execution_count": null,
   "metadata": {},
   "outputs": [],
   "source": [
    "rho_star = dino_exp_sr.get_rho_star()"
   ]
  },
  {
   "cell_type": "code",
   "execution_count": null,
   "metadata": {},
   "outputs": [],
   "source": [
    "rho_star = rho_star.isel(t_m=slice(-13,-1), z_c=0, x_c=10)"
   ]
  },
  {
   "cell_type": "code",
   "execution_count": null,
   "metadata": {},
   "outputs": [],
   "source": [
    "idx_n = abs(rho_star.gphit - (-40)).argmin()\n",
    "idx_s = abs(rho_star.gphit - (-65)).argmin()"
   ]
  },
  {
   "cell_type": "code",
   "execution_count": null,
   "metadata": {},
   "outputs": [],
   "source": [
    "rho_star.where( (rho_star >= rho_star.isel(y_c=idx_n)) & (rho_star <= rho_star.isel(y_c=idx_s)) ).plot(x='t_m',y='gphit')"
   ]
  },
  {
   "cell_type": "code",
   "execution_count": null,
   "metadata": {},
   "outputs": [],
   "source": [
    "rho_star.isel(y_c=slice(idx_s.values,idx_n.values)).plot(x='t_m',y='gphit')"
   ]
  },
  {
   "cell_type": "code",
   "execution_count": null,
   "metadata": {},
   "outputs": [],
   "source": [
    "rho_star.isel(t_m=-1).plot()"
   ]
  },
  {
   "cell_type": "code",
   "execution_count": null,
   "metadata": {},
   "outputs": [],
   "source": [
    "rho_star.isel(y_c=idx_s).plot(label='south')\n",
    "rho_star.isel(y_c=idx_n).plot(label='north')\n",
    "plt.legend()"
   ]
  },
  {
   "cell_type": "code",
   "execution_count": null,
   "metadata": {},
   "outputs": [],
   "source": [
    "dino_exp.data"
   ]
  },
  {
   "cell_type": "code",
   "execution_count": null,
   "metadata": {},
   "outputs": [],
   "source": []
  }
 ],
 "metadata": {
  "kernelspec": {
   "display_name": "nemo_env",
   "language": "python",
   "name": "python3"
  },
  "language_info": {
   "codemirror_mode": {
    "name": "ipython",
    "version": 3
   },
   "file_extension": ".py",
   "mimetype": "text/x-python",
   "name": "python",
   "nbconvert_exporter": "python",
   "pygments_lexer": "ipython3",
   "version": "3.9.15"
  },
  "orig_nbformat": 4
 },
 "nbformat": 4,
 "nbformat_minor": 2
}
