{
 "cells": [
  {
   "cell_type": "code",
   "execution_count": null,
   "metadata": {},
   "outputs": [],
   "source": [
    "import cartopy.crs as ccrs\n",
    "from cmocean import cm \n",
    "from dino import Experiment\n",
    "from matplotlib import colors\n",
    "from matplotlib import pyplot as plt\n",
    "\n",
    "path   = \"/data/dkamm/nemo_output/DINO/\"\n",
    "\n",
    "periodic_bathy = Experiment(path, 'PeriodicBathy')"
   ]
  },
  {
   "cell_type": "code",
   "execution_count": null,
   "metadata": {},
   "outputs": [],
   "source": [
    "bathymetry = periodic_bathy.data.gdept_0.isel(z_c=-1)"
   ]
  },
  {
   "cell_type": "code",
   "execution_count": null,
   "metadata": {},
   "outputs": [],
   "source": [
    "bathymetry = bathymetry.assign_coords({'x_globe': bathymetry.glamt - 60})"
   ]
  },
  {
   "cell_type": "code",
   "execution_count": null,
   "metadata": {},
   "outputs": [],
   "source": [
    "import numpy as np\n",
    "import xarray as xr\n",
    "channel = xr.DataArray(\n",
    "    data = np.tile((bathymetry.isel(x_c=0) >= 2008) * 4308.73114341, (302,1)),\n",
    "    dims=['x_c','y_c'],\n",
    "    coords=dict(\n",
    "        gphit=('y_c', bathymetry.gphit.values[:,0]),\n",
    "        x_globe=('x_c', np.arange(-361.5,-59.5))\n",
    "    )\n",
    "\n",
    ")"
   ]
  },
  {
   "cell_type": "code",
   "execution_count": null,
   "metadata": {},
   "outputs": [],
   "source": [
    "plt.figure(figsize=(10,10))\n",
    "p = bathymetry.plot.contourf(\n",
    "    y='gphit',\n",
    "    x='x_globe',\n",
    "    cmap=cm.deep_r,\n",
    "    levels=30,\n",
    "    subplot_kws=dict(projection=ccrs.Orthographic(-30., 0.), facecolor=\"black\"),\n",
    "\n",
    "    transform=ccrs.PlateCarree(),\n",
    "\n",
    "    add_colorbar=False,\n",
    "    # cmap='inferno'\n",
    ")\n",
    "p = channel.plot.contourf(\n",
    "    y='gphit',\n",
    "    x='x_globe',\n",
    "    cmap=cm.deep_r,\n",
    "    levels=70,\n",
    "    alpha=0.8,\n",
    "    subplot_kws=dict(projection=ccrs.Orthographic(-30., 0.), facecolor=\"black\"),\n",
    "\n",
    "    transform=ccrs.PlateCarree(),\n",
    "\n",
    "    add_colorbar=False,\n",
    "    # cmap='inferno'\n",
    ")\n",
    "plt.hlines(20, 0, 60, color='white')\n",
    "p.axes.set_global()\n",
    "p.axes.coastlines(color='white', linewidth=3)\n",
    "p.axes.gridlines(\n",
    "    draw_labels=[\"x\", \"y\", \"left\", \"right\", \"geo\"],\n",
    "    ylocs=[-70, -45, -20, 0, 20, 45, 70],\n",
    "    xlocs=[-90, -60, -30, 0, 30]\n",
    ")\n",
    "plt.title('')\n",
    "plt.grid('m')\n",
    "plt.savefig('DINO_bathy.png', transparent=True)\n",
    "plt.show()"
   ]
  }
 ],
 "metadata": {
  "kernelspec": {
   "display_name": "nemo_env",
   "language": "python",
   "name": "python3"
  },
  "language_info": {
   "codemirror_mode": {
    "name": "ipython",
    "version": 3
   },
   "file_extension": ".py",
   "mimetype": "text/x-python",
   "name": "python",
   "nbconvert_exporter": "python",
   "pygments_lexer": "ipython3",
   "version": "3.9.15"
  },
  "orig_nbformat": 4
 },
 "nbformat": 4,
 "nbformat_minor": 2
}
