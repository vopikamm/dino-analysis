{
 "cells": [
  {
   "cell_type": "code",
   "execution_count": null,
   "metadata": {},
   "outputs": [],
   "source": [
    "import cartopy.crs as ccrs\n",
    "from cmocean import cm \n",
    "from dino import Experiment\n",
    "from matplotlib import colors\n",
    "from matplotlib import pyplot as plt\n",
    "import numpy as np\n",
    "import xarray as xr\n",
    "import cftime as cft\n",
    "import xnemogcm as xn\n",
    "import xgcm"
   ]
  },
  {
   "cell_type": "code",
   "execution_count": null,
   "metadata": {},
   "outputs": [],
   "source": [
    "path   = \"/data/dkamm/nemo_output/DINO/\"\n",
    "dino_exp = Experiment(path, 'DensityRestoring/restart15')"
   ]
  },
  {
   "cell_type": "code",
   "execution_count": null,
   "metadata": {},
   "outputs": [],
   "source": [
    "fig, axs = plt.subplots(1,1, figsize=(12,6))\n",
    "dino_exp.get_ACC().plot(color='black')\n",
    "axs.set_ylabel('ACC transport [Sv]')\n",
    "plt.title('')\n",
    "plt.xlabel('time [years]')\n",
    "plt.legend()\n",
    "plt.grid()"
   ]
  },
  {
   "cell_type": "code",
   "execution_count": null,
   "metadata": {},
   "outputs": [],
   "source": [
    "T_star      = dino_exp.get_T_star()\n",
    "S_star      = dino_exp.get_S_star()\n",
    "rho_star    = dino_exp.get_rho_star()"
   ]
  },
  {
   "cell_type": "code",
   "execution_count": null,
   "metadata": {},
   "outputs": [],
   "source": [
    "fig, axs = plt.subplots(1,3,figsize=(15,8), sharey=True)\n",
    "T_star.isel(x_c=10, t_m=-1, y_c=slice(1,-1)).plot(color='midnightblue', y='gphit', ax=axs[0], label='December')\n",
    "T_star.isel(x_c=10, t_m=-7, y_c=slice(1,-1)).plot(color='darkred', y='gphit', ax=axs[0], label='June')\n",
    "S_star.isel(x_c=10, t_m=-1).plot(color='black', y='gphit', ax=axs[1])\n",
    "rho_star.isel(x_c=10, t_m=-1, y_c=slice(1,-1)).plot(color='midnightblue', y='gphit', ax=axs[2], label='December')\n",
    "rho_star.isel(x_c=10, t_m=-7, y_c=slice(1,-1)).plot(color='darkred', y='gphit', ax=axs[2], label='June')\n",
    "\n",
    "axs[0].fill_betweenx(dino_exp.domain.gphiu.values[:,0], -2, 32, where=dino_exp.domain.umask.isel(x_f=0, z_c=0)==1, facecolor='grey', alpha=.2)\n",
    "axs[0].margins(x=0, y=0)\n",
    "axs[0].set_xlabel(r\"$T^{*}$ [°C]\")\n",
    "axs[0].set_title('')\n",
    "axs[0].grid()\n",
    "axs[0].legend()\n",
    "#\n",
    "axs[1].fill_betweenx(dino_exp.domain.gphiu.values[:,0], 34., 36.5, where=dino_exp.domain.umask.isel(x_f=0, z_c=0)==1, facecolor='grey', alpha=.2)\n",
    "axs[1].margins(x=0, y=0)\n",
    "axs[1].set_xlabel(r\"$S^{*}$ [psu]\")\n",
    "axs[1].set_title('')\n",
    "axs[1].grid()\n",
    "#\n",
    "axs[2].fill_betweenx(dino_exp.domain.gphiu.values[:,0], 1022, 1028, where=dino_exp.domain.umask.isel(x_f=0, z_c=0)==1, facecolor='grey', alpha=.2)\n",
    "axs[2].margins(x=0, y=0)\n",
    "axs[2].set_xlabel(r\"$\\rho^{*}$ [kg / m3]\")\n",
    "axs[2].set_title('')\n",
    "axs[2].grid()\n",
    "axs[2].legend()"
   ]
  },
  {
   "cell_type": "code",
   "execution_count": null,
   "metadata": {},
   "outputs": [],
   "source": [
    "moc =  dino_exp.get_MOC(dino_exp.data.voce + dino_exp.data.voce_eiv)"
   ]
  },
  {
   "cell_type": "code",
   "execution_count": null,
   "metadata": {},
   "outputs": [],
   "source": [
    "fig, axs = plt.subplots(1,1,figsize=(8,6))\n",
    "a = (-moc).plot.contourf(x='y_f', y='rhop', cmap='RdBu_r', levels=36, add_colorbar=False)\n",
    "cbar1 = fig.colorbar(a, ax=axs, label=r'$\\psi$ [Sv]')\n",
    "plt.xlabel('latitude [°N]')\n",
    "axs.invert_yaxis()\n",
    "plt.ylabel(r'$\\sigma_{0}$ [ $kg$ / $m^3$ - 1000 ]')\n",
    "plt.title('')"
   ]
  },
  {
   "cell_type": "code",
   "execution_count": null,
   "metadata": {},
   "outputs": [],
   "source": [
    "fig, axs = plt.subplots(1,1,figsize=(8,6))\n",
    "a = dino_exp.data.rhop.isel(t_y=-1, x_c=10, y_c=slice(1,-1), z_c=slice(0,-1)).plot.contourf(x='gphit', y='gdept_0', cmap=cm.dense_r, levels=36, add_colorbar=False)\n",
    "cbar1 = fig.colorbar(a, ax=axs, label=r'$\\rho$ [kg/m^3]')\n",
    "plt.xlabel('latitude [°N]')\n",
    "axs.invert_yaxis()\n",
    "plt.ylabel(r'$\\sigma_{0}$ [ $kg$ / $m^3$ - 1000 ]')\n",
    "plt.title('')"
   ]
  },
  {
   "cell_type": "code",
   "execution_count": null,
   "metadata": {},
   "outputs": [],
   "source": [
    "from matplotlib.colors import LogNorm\n",
    "\n",
    "soce = (dino_exp.data.isel(t_y=-1).where(dino_exp.domain.tmask == 1.)).soce.values.ravel()\n",
    "toce = (dino_exp.data.isel(t_y=-1).where(dino_exp.domain.tmask == 1.)).toce.values.ravel()\n",
    "vol  = (dino_exp.domain.e1t * dino_exp.domain.e2t * dino_exp.data.isel(t_y=-1).e3t).values.ravel()\n",
    "\n",
    "smin, smax = 34, 36.5\n",
    "tmin, tmax = -3, 28\n",
    "\n",
    "s = np.linspace(smin, smax, 100)\n",
    "t = np.linspace(tmin, tmax, 100)\n",
    "\n",
    "Sg, Tg = np.meshgrid(s,t)\n",
    "\n",
    "nml = dino_exp.namelist['nameos']\n",
    "\n",
    "rho = (\n",
    "    - nml['rn_a0'] * (1. + 0.5 * nml['rn_lambda1'] * ( Tg - 10.)) * ( Tg - 10.) \n",
    "    + nml['rn_b0'] * (1. - 0.5 * nml['rn_lambda2'] * ( Sg - 35.)) * ( Sg - 35.) \n",
    "    - nml['rn_nu'] * ( t - 10.) * ( Sg - 35.)\n",
    ") + 1026\n",
    "\n",
    "fig, ax = plt.subplots()\n",
    "hb = ax.hexbin(soce, toce,\n",
    "           C=vol, reduce_C_function=np.sum,\n",
    "           extent=(34,36.5,-3,28), gridsize=50, bins='log',\n",
    "           cmap=cm.matter)\n",
    "plt.colorbar(hb)\n",
    "cp = ax.contour(Sg,Tg, rho, levels=np.arange(1021, 1029, 0.5), linestyles='dashed', colors='black')\n",
    "cl=plt.clabel(cp,fontsize=10,inline=True,fmt=\"%.1f\")\n",
    "ax.set_ylabel(r'Temperature ($^\\circ$C)')\n",
    "ax.set_xlabel(\"Salinity (g / kg)\")"
   ]
  },
  {
   "cell_type": "code",
   "execution_count": null,
   "metadata": {},
   "outputs": [],
   "source": [
    "mld_jul = dino_exp.data.mldr10_1.where(((dino_exp.data['t_m.year'] >= 530) & (dino_exp.data['t_m.month'] == 7)), drop=True).mean('t_m')\n",
    "mld_feb = dino_exp.data.mldr10_1.where(((dino_exp.data['t_m.year'] >= 530) & (dino_exp.data['t_m.month'] == 2)), drop=True).mean('t_m')\n",
    "\n",
    "mld_jul = mld_jul.assign_coords({'x_globe': mld_jul.glamt - 30})\n",
    "mld_feb = mld_feb.assign_coords({'x_globe': mld_feb.glamt - 30})"
   ]
  },
  {
   "cell_type": "code",
   "execution_count": null,
   "metadata": {},
   "outputs": [],
   "source": [
    "plt.figure(figsize=(10,10))\n",
    "a = mld_feb.plot.contourf(\n",
    "    y='gphit',\n",
    "    x='x_globe',\n",
    "    cmap=cm.deep_r,\n",
    "    levels=30,\n",
    "    subplot_kws=dict(projection=ccrs.Robinson()),\n",
    "\n",
    "    transform=ccrs.PlateCarree(),\n",
    "    #add_colorbar=False,\n",
    ")\n",
    "a.axes.gridlines(\n",
    "    draw_labels=[\"x\", \"y\", \"geo\"],\n",
    "    ylocs=[-70, -45, -20, 0, 20, 45, 70],\n",
    "    xlocs=[0]\n",
    ")\n",
    "plt.title('')\n",
    "plt.grid('m')\n",
    "plt.tight_layout()"
   ]
  },
  {
   "cell_type": "code",
   "execution_count": null,
   "metadata": {},
   "outputs": [],
   "source": []
  }
 ],
 "metadata": {
  "kernelspec": {
   "display_name": "nemo_env",
   "language": "python",
   "name": "python3"
  },
  "language_info": {
   "codemirror_mode": {
    "name": "ipython",
    "version": 3
   },
   "file_extension": ".py",
   "mimetype": "text/x-python",
   "name": "python",
   "nbconvert_exporter": "python",
   "pygments_lexer": "ipython3",
   "version": "3.9.15"
  }
 },
 "nbformat": 4,
 "nbformat_minor": 2
}
