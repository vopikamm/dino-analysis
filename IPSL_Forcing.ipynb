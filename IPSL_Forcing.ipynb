{
 "cells": [
  {
   "cell_type": "code",
   "execution_count": null,
   "metadata": {},
   "outputs": [],
   "source": [
    "import cartopy.crs as ccrs\n",
    "from cmocean import cm \n",
    "from dino import Experiment\n",
    "from matplotlib import colors\n",
    "from matplotlib import pyplot as plt\n",
    "import numpy as np\n",
    "import xarray as xr\n",
    "import cftime as cft\n",
    "import xnemogcm as xn\n",
    "import xgcm"
   ]
  },
  {
   "cell_type": "code",
   "execution_count": null,
   "metadata": {},
   "outputs": [],
   "source": [
    "path   = \"/data/dkamm/nemo_output/DINO/\"\n",
    "\n",
    "dino_exp = Experiment(path, 'IPSL_Forcing/')"
   ]
  },
  {
   "cell_type": "code",
   "execution_count": null,
   "metadata": {},
   "outputs": [],
   "source": [
    "path   = \"/data/dkamm/nemo_output/DINO/\"\n",
    "dino_exp_hr_350 = Experiment(path, 'IPSL_Forcing_hr_350y')"
   ]
  },
  {
   "cell_type": "code",
   "execution_count": null,
   "metadata": {},
   "outputs": [],
   "source": [
    "dino_exp_hr_500 = Experiment(path, 'IPSL_Forcing_hr_500y')"
   ]
  },
  {
   "cell_type": "code",
   "execution_count": null,
   "metadata": {},
   "outputs": [],
   "source": [
    "dino_exp_sr = Experiment(path, 'SaltRestoring')"
   ]
  },
  {
   "cell_type": "code",
   "execution_count": null,
   "metadata": {},
   "outputs": [],
   "source": [
    "SMALL_SIZE = 14\n",
    "MEDIUM_SIZE = 18\n",
    "BIGGER_SIZE = 18\n",
    "\n",
    "plt.rc('font', size=SMALL_SIZE)          # controls default text sizes\n",
    "plt.rc('axes', titlesize=BIGGER_SIZE)     # fontsize of the axes title\n",
    "plt.rc('axes', labelsize=MEDIUM_SIZE)    # fontsize of the x and y labels\n",
    "plt.rc('xtick', labelsize=MEDIUM_SIZE)    # fontsize of the tick labels\n",
    "plt.rc('ytick', labelsize=MEDIUM_SIZE)    # fontsize of the tick labels\n",
    "plt.rc('legend', fontsize=SMALL_SIZE)    # legend fontsize\n",
    "plt.rc('figure', titlesize=BIGGER_SIZE)  # fontsize of the figure title"
   ]
  },
  {
   "cell_type": "code",
   "execution_count": null,
   "metadata": {},
   "outputs": [],
   "source": [
    "fig, axs = plt.subplots(1,1, figsize=(12,6))\n",
    "dino_exp.get_ACC().plot(color='black', ax=axs, label=r'1° resolution')\n",
    "dino_exp_hr_350.get_ACC().plot(color='darkred', ax=axs, label=r'$\\frac{1}{4}$° resolution')\n",
    "dino_exp_hr_500.get_ACC().plot(color='darkred', ax=axs)\n",
    "axs.set_ylabel('ACC transport [Sv]')\n",
    "plt.title('')\n",
    "plt.xlabel('time [years]')\n",
    "plt.legend()\n",
    "plt.grid()\n",
    "#plt.savefig('acc_emp.png', facecolor=(1,1,1,0))"
   ]
  },
  {
   "cell_type": "code",
   "execution_count": null,
   "metadata": {},
   "outputs": [],
   "source": [
    "dino_exp_T_star = Experiment(path, 'T_star_IPSL')"
   ]
  },
  {
   "cell_type": "code",
   "execution_count": null,
   "metadata": {},
   "outputs": [],
   "source": [
    "moc  = dino_exp.get_MOC(var=(dino_exp.data.vocetr_eff), isel={'t_y':600})\n",
    "moc2 = dino_exp.get_MOC(var=(dino_exp.data.vocetr_eff), isel={'t_y':150})"
   ]
  },
  {
   "cell_type": "code",
   "execution_count": null,
   "metadata": {},
   "outputs": [],
   "source": [
    "moc_350 = dino_exp_hr_350.get_MOC(var=(dino_exp_hr_350.data.voce + dino_exp_hr_350.data.voce_eiv))"
   ]
  },
  {
   "cell_type": "code",
   "execution_count": null,
   "metadata": {},
   "outputs": [],
   "source": [
    "moc_500 = dino_exp_hr_500.get_MOC(var=(dino_exp_hr_500.data.voce + dino_exp_hr_500.data.voce_eiv))"
   ]
  },
  {
   "cell_type": "code",
   "execution_count": null,
   "metadata": {},
   "outputs": [],
   "source": [
    "moc_500"
   ]
  },
  {
   "cell_type": "code",
   "execution_count": null,
   "metadata": {},
   "outputs": [],
   "source": [
    "fig, axs = plt.subplots(1,2,figsize=(15,10), sharey=True)\n",
    "a = (-moc2).plot.contourf(x='y_f', y='rhop', cmap='RdBu_r', levels=30, add_colorbar=False, ax=axs[0])\n",
    "cbar1 = fig.colorbar(a, ax=axs[:2], location='bottom' , label=r'$\\psi$ [Sv]')\n",
    "b = (-moc).plot.contourf(x='y_f', y='rhop', cmap='RdBu_r', levels=30, add_colorbar=False, vmin=cbar1.vmin, vmax=cbar1.vmax, ax=axs[1])\n",
    "axs[0].set_xlabel('latitude [°N]')\n",
    "axs[0].invert_yaxis()\n",
    "axs[1].set_xlabel('latitude [°N]')\n",
    "axs[0].set_ylabel(r'$\\rho$')\n",
    "axs[1].set_ylabel('')\n",
    "axs[0].set_title('')\n",
    "axs[1].set_title('')\n",
    "#plt.savefig('moc_emp.png', facecolor=(1,1,1,0), bbox_inches='tight')"
   ]
  },
  {
   "cell_type": "code",
   "execution_count": null,
   "metadata": {},
   "outputs": [],
   "source": [
    "fig, axs = plt.subplots(1,1,figsize=(8,6))\n",
    "a = (-moc_350).plot.contourf(x='y_f', y='rhop', cmap='RdBu_r', levels=30, add_colorbar=False)\n",
    "cbar1 = fig.colorbar(a, ax=axs, label=r'$\\psi$ [Sv]')\n",
    "plt.xlabel('latitude [°N]')\n",
    "axs.invert_yaxis()\n",
    "plt.ylabel(r'$\\sigma_{0}$ [ $kg$ / $m^3$ - 1000 ]')\n",
    "plt.title('')"
   ]
  },
  {
   "cell_type": "code",
   "execution_count": null,
   "metadata": {},
   "outputs": [],
   "source": [
    "moc = dino_exp.get_MOC(var=(dino_exp.data.vocetr_eff))"
   ]
  },
  {
   "cell_type": "code",
   "execution_count": null,
   "metadata": {},
   "outputs": [],
   "source": [
    "fig, axs = plt.subplots(1,1,figsize=(8,6))\n",
    "a = (-moc).plot.contourf(x='y_f', y='rhop', cmap='RdBu_r', levels=30, add_colorbar=False)\n",
    "cbar1 = fig.colorbar(a, ax=axs, label=r'$\\psi$ [Sv]')\n",
    "plt.xlabel('latitude [°N]')\n",
    "axs.invert_yaxis()\n",
    "plt.ylabel(r'$\\sigma_{0}$ [ $kg$ / $m^3$ - 1000 ]')\n",
    "plt.title('')"
   ]
  },
  {
   "cell_type": "code",
   "execution_count": null,
   "metadata": {},
   "outputs": [],
   "source": [
    "moc_T_star = dino_exp_T_star.get_MOC(var=(dino_exp_T_star.data.vocetr_eff))"
   ]
  },
  {
   "cell_type": "code",
   "execution_count": null,
   "metadata": {},
   "outputs": [],
   "source": [
    "fig, axs = plt.subplots(1,1,figsize=(8,6))\n",
    "a = (-moc_T_star).plot.contourf(x='y_f', y='rhop', cmap='RdBu_r', levels=30, add_colorbar=False)\n",
    "cbar1 = fig.colorbar(a, ax=axs, label=r'$\\psi$ [Sv]')\n",
    "plt.xlabel('latitude [°N]')\n",
    "axs.invert_yaxis()\n",
    "plt.ylabel(r'$\\sigma_{0}$ [ $kg$ / $m^3$ - 1000 ]')\n",
    "plt.title('')"
   ]
  },
  {
   "cell_type": "code",
   "execution_count": null,
   "metadata": {},
   "outputs": [],
   "source": [
    "v_tra_hr_500 = dino_exp_hr_500.data.e3v * dino_exp_hr_500.domain.e1v * dino_exp_hr_500.data.voce"
   ]
  },
  {
   "cell_type": "code",
   "execution_count": null,
   "metadata": {},
   "outputs": [],
   "source": [
    "bts = dino_exp.get_BTS()"
   ]
  },
  {
   "cell_type": "code",
   "execution_count": null,
   "metadata": {},
   "outputs": [],
   "source": [
    "bts.isel(t_y=-1, y_f=slice(1,100)).plot(y='gphif')"
   ]
  },
  {
   "cell_type": "code",
   "execution_count": null,
   "metadata": {},
   "outputs": [],
   "source": [
    "v_tra_hr_500.isel(y_f=570, t_y=-1).plot(y='gdept_1d', yincrease=False)"
   ]
  },
  {
   "cell_type": "code",
   "execution_count": null,
   "metadata": {},
   "outputs": [],
   "source": [
    "U_sq = dino_exp_hr_500.grid.interp(dino_exp_hr_500.data.uoce.isel(t_y=10), 'Y')**2 + dino_exp_hr_500.grid.interp(dino_exp_hr_500.data.voce.isel(t_y=10, z_c=0), 'X')**2\n",
    "\n",
    "e3_on_f =  dino_exp_hr_500.grid.interp(dino_exp_hr_500.data.e3u.isel(t_y=10), 'Y')"
   ]
  },
  {
   "cell_type": "code",
   "execution_count": null,
   "metadata": {},
   "outputs": [],
   "source": [
    "E_kin = (U_sq * e3_on_f).sum('z_c') / 2"
   ]
  },
  {
   "cell_type": "code",
   "execution_count": null,
   "metadata": {},
   "outputs": [],
   "source": [
    "E_kin = E_kin.where(dino_exp_hr_350.domain.isel(z_c=0).fmask==1.0)"
   ]
  },
  {
   "cell_type": "code",
   "execution_count": null,
   "metadata": {},
   "outputs": [],
   "source": [
    "E_kin"
   ]
  },
  {
   "cell_type": "code",
   "execution_count": null,
   "metadata": {},
   "outputs": [],
   "source": [
    "E_kin = E_kin.assign_coords({'x_globe': E_kin.glamf - 60})\n",
    "plt.figure(figsize=(10,10))\n",
    "p = E_kin.plot(\n",
    "    y='gphif',\n",
    "    x='x_globe',\n",
    "    cmap=cm.amp,\n",
    "    subplot_kws=dict(projection=ccrs.Orthographic(-30., 0.), facecolor=\"black\"),\n",
    "    \n",
    "    transform=ccrs.PlateCarree(),\n",
    "\n",
    "    add_colorbar=True,\n",
    "    norm=colors.LogNorm()\n",
    ")\n",
    "plt.hlines(20, 0, 60, color='white')\n",
    "p.axes.set_global()\n",
    "#p.axes.coastlines(color='white', linewidth=3)\n",
    "p.axes.gridlines(\n",
    "    draw_labels=[\"x\", \"y\", \"left\", \"right\", \"geo\"],\n",
    "    ylocs=[-70, -45, -20, 0, 20, 45, 70],\n",
    "    xlocs=[-90, -60, -30, 0, 30]\n",
    ")\n",
    "plt.title('')\n",
    "plt.grid('m')\n",
    "#plt.savefig('DINO_bathy.png', transparent=True)\n",
    "plt.show()"
   ]
  },
  {
   "cell_type": "code",
   "execution_count": null,
   "metadata": {},
   "outputs": [],
   "source": [
    "(dino_exp_hr_350.data.rhop).isel(t_y=-1, z_c=slice(0,-1), x_c=slice(1,-1), y_c=slice(1,-1)).min().values"
   ]
  },
  {
   "cell_type": "code",
   "execution_count": null,
   "metadata": {},
   "outputs": [],
   "source": [
    "isel = {'t_y':30}"
   ]
  },
  {
   "cell_type": "code",
   "execution_count": null,
   "metadata": {},
   "outputs": [],
   "source": []
  },
  {
   "cell_type": "code",
   "execution_count": null,
   "metadata": {},
   "outputs": [],
   "source": [
    "moc_350 = dino_exp_hr_350.get_MOC(var=(dino_exp_hr_350.data.voce + dino_exp_hr_350.data.voce_eiv) )"
   ]
  },
  {
   "cell_type": "code",
   "execution_count": null,
   "metadata": {},
   "outputs": [],
   "source": [
    "fig, axs = plt.subplots(1,1, figsize=(12,6))\n",
    "dino_exp.get_ACC().isel(t_y=slice(340,550)).plot(color='black', ax=axs, label=r'1° resolution')\n",
    "dino_exp_hr_350.get_ACC().plot(color='darkred', ax=axs, label=r'$\\frac{1}{4}$° resolution')\n",
    "dino_exp_hr_500.get_ACC().plot(color='darkred', ax=axs)\n",
    "axs.set_ylabel('ACC transport [Sv]')\n",
    "plt.title('')\n",
    "plt.xlabel('time [years]')\n",
    "plt.legend()\n",
    "plt.grid()"
   ]
  },
  {
   "cell_type": "code",
   "execution_count": null,
   "metadata": {},
   "outputs": [],
   "source": [
    "fig, axs = plt.subplots(1,1, figsize=(12,6))\n",
    "dino_exp.get_ACC().plot(color='black', ax=axs, label=r'1° resolution')\n",
    "dino_exp_hr_350.get_ACC().plot(color='darkred', ax=axs, label=r'$\\frac{1}{4}$° resolution')\n",
    "dino_exp_hr_500.get_ACC().plot(color='darkred', ax=axs)\n",
    "axs.set_ylabel('ACC transport [Sv]')\n",
    "plt.title('')\n",
    "plt.xlabel('time [years]')\n",
    "plt.legend()\n",
    "plt.grid()"
   ]
  },
  {
   "cell_type": "code",
   "execution_count": null,
   "metadata": {},
   "outputs": [],
   "source": [
    "Jul = dino_exp.data.mldr10_1.where(((dino_exp.data['t_m.year'] >= 980) & (dino_exp.data['t_m.month'] == 7) & (dino_exp.data['t_m.year'] <= 1000)), drop=True)\n",
    "Feb = dino_exp.data.mldr10_1.where(((dino_exp.data['t_m.year'] >= 980) & (dino_exp.data['t_m.month'] == 2) & (dino_exp.data['t_m.year'] <= 1000)), drop=True)"
   ]
  },
  {
   "cell_type": "code",
   "execution_count": null,
   "metadata": {},
   "outputs": [],
   "source": [
    "Feb.plot(col='t_m', col_wrap=4, y='gphit', x='glamt')"
   ]
  },
  {
   "cell_type": "code",
   "execution_count": null,
   "metadata": {},
   "outputs": [],
   "source": [
    "dino_exp.data"
   ]
  },
  {
   "cell_type": "code",
   "execution_count": null,
   "metadata": {},
   "outputs": [],
   "source": [
    "rho = dino_exp.get_rho()"
   ]
  },
  {
   "cell_type": "code",
   "execution_count": null,
   "metadata": {},
   "outputs": [],
   "source": [
    "rho.isel(x_c=0, y_c=33, t_y=slice(449,454), z_c=0).plot(x='t_y', yincrease=False)"
   ]
  },
  {
   "cell_type": "code",
   "execution_count": null,
   "metadata": {},
   "outputs": [],
   "source": [
    "path   = \"/data/dkamm/nemo_output/DINO/\"\n",
    "dino_exp_hf = Experiment(path, 'IPSL_Forcing_hf2')"
   ]
  },
  {
   "cell_type": "code",
   "execution_count": null,
   "metadata": {},
   "outputs": [],
   "source": [
    "rho_cha = dino_exp_hf.data.rhop.where(dino_exp_hf.domain.tmask==1.0).isel(x_c=0, z_c=0, y_c=slice(13,48))\n",
    "# rho_cha = rho_cha.assign_coords('y_c')\n",
    "rho_cha.plot(x='t_m', y='gphit', cmap = cm.haline)\n",
    "plt.title('')\n",
    "plt.savefig('hov_emp.png', facecolor=(1,1,1,0), bbox_inches='tight')"
   ]
  },
  {
   "cell_type": "code",
   "execution_count": null,
   "metadata": {},
   "outputs": [],
   "source": [
    "rho_cha"
   ]
  },
  {
   "cell_type": "code",
   "execution_count": null,
   "metadata": {},
   "outputs": [],
   "source": [
    "climatology_mean = dino_exp_hf.data.groupby(\"t_m.month\").mean(\"t_m\")"
   ]
  },
  {
   "cell_type": "code",
   "execution_count": null,
   "metadata": {},
   "outputs": [],
   "source": [
    "dino_exp_hf.data.rhop.isel(x_c=0, y_c=33, z_c=0)['t_y.month']#.plot(x='t_m', yincrease=False)"
   ]
  },
  {
   "cell_type": "code",
   "execution_count": null,
   "metadata": {},
   "outputs": [],
   "source": [
    "(rho.isel(t_y=40, x_c=30, y_c=slice(5,50), z_c=slice(0,10))).plot.contourf(x='gphit', y='gdept_0', yincrease=False, levels=36)"
   ]
  },
  {
   "cell_type": "code",
   "execution_count": null,
   "metadata": {},
   "outputs": [],
   "source": [
    "dino_exp.data.voce.isel(t_y=40, x_c=30, y_f=slice(5,50), z_c=slice(0,10)).plot.contourf(x='gphiv', y='gdept_1d', yincrease=False, levels=36)"
   ]
  },
  {
   "cell_type": "code",
   "execution_count": null,
   "metadata": {},
   "outputs": [],
   "source": [
    "dino_exp.data.voce.isel(t_y=40, x_c=slice(0,-1), y_f=slice(5,50), z_c=0).plot.contourf(x='glamv', y='gphiv', yincrease=False, levels=36)"
   ]
  },
  {
   "cell_type": "code",
   "execution_count": null,
   "metadata": {},
   "outputs": [],
   "source": [
    "dino_exp.data.mldr10_1.isel(t_m=slice(-120,-1)).groupby(\"t_m.month\").mean().plot(col='month', col_wrap=4, y='gphit', x='glamt')"
   ]
  },
  {
   "cell_type": "code",
   "execution_count": null,
   "metadata": {},
   "outputs": [],
   "source": [
    "dino_exp.data.mldr10_1.isel(t_m=slice(-1200,-1080)).groupby(\"t_m.month\").mean().plot(col='month', col_wrap=4, y='gphit', x='glamt')"
   ]
  },
  {
   "cell_type": "code",
   "execution_count": null,
   "metadata": {},
   "outputs": [],
   "source": [
    "(dino_exp.data.sss.isel(t_m=-1) - dino_exp.data.sss.isel(t_m=-1201)).plot(cmap=cm.balance)"
   ]
  },
  {
   "cell_type": "code",
   "execution_count": null,
   "metadata": {},
   "outputs": [],
   "source": [
    "(dino_exp.data.sst.isel(t_m=-1) - dino_exp.data.sst.isel(t_m=-1201)).plot(cmap=cm.balance)"
   ]
  },
  {
   "cell_type": "code",
   "execution_count": null,
   "metadata": {},
   "outputs": [],
   "source": [
    "import cartopy.crs as ccrs\n",
    "from cmocean import cm \n",
    "from dino import Experiment\n",
    "from matplotlib import colors\n",
    "from matplotlib import pyplot as plt\n",
    "import numpy as np\n",
    "import xarray as xr\n",
    "import cftime as cft\n",
    "import xnemogcm as xn\n",
    "import xgcm"
   ]
  },
  {
   "cell_type": "code",
   "execution_count": null,
   "metadata": {},
   "outputs": [],
   "source": [
    "path   = \"/data/dkamm/nemo_output/DINO/\"\n",
    "dino_exp_hf = Experiment(path, 'IPSL_Forcing_hf')"
   ]
  },
  {
   "cell_type": "code",
   "execution_count": null,
   "metadata": {},
   "outputs": [],
   "source": [
    "dino_exp_hf.data.mldr10_1"
   ]
  },
  {
   "cell_type": "code",
   "execution_count": null,
   "metadata": {},
   "outputs": [],
   "source": [
    "dino_exp_hf.data.mldr10_1.resample({'t_0':'A'}).mean().plot(col_wrap=2, col='t_0')"
   ]
  },
  {
   "cell_type": "code",
   "execution_count": null,
   "metadata": {},
   "outputs": [],
   "source": [
    "dino_exp_hf.data.rhop.isel(x_c=1, y_c=slice(1,80), z_c=0).plot.contourf(x='t_m', y='gphit', levels=36)"
   ]
  },
  {
   "cell_type": "code",
   "execution_count": null,
   "metadata": {},
   "outputs": [],
   "source": [
    "dino_exp_hf.data.sss.isel(x_c=-50, y_c=slice(1,80)).plot.contourf(x='t_m', y='gphit', levels=36)"
   ]
  },
  {
   "cell_type": "code",
   "execution_count": null,
   "metadata": {},
   "outputs": [],
   "source": [
    "dino_exp_hf.data.rhop.isel(x_c=1, y_c=5, z_c=slice(0,-1)).plot.contourf(x='t_m', y='gdept_1d', levels=36, yincrease=False)"
   ]
  },
  {
   "cell_type": "code",
   "execution_count": null,
   "metadata": {},
   "outputs": [],
   "source": [
    "dino_exp_hf.data.mldr10_1.isel(t_m=slice(0,10)).plot.contourf(x='glamt', y='gphit', levels=36, col_wrap=3, col='t_m')"
   ]
  },
  {
   "cell_type": "code",
   "execution_count": null,
   "metadata": {},
   "outputs": [],
   "source": [
    "dino_exp_hf.data.uoce.isel(x_f=1, y_c=slice(1,55), z_c=0).plot.contourf(x='t_m', y='gphiu', levels=36)"
   ]
  },
  {
   "cell_type": "code",
   "execution_count": null,
   "metadata": {},
   "outputs": [],
   "source": [
    "dino_exp_hf.data.rhop.isel(x_c=1, y_c=slice(-55,-5), z_c=0).plot.contourf(x='t_m', y='gphit', levels=36)"
   ]
  },
  {
   "cell_type": "code",
   "execution_count": null,
   "metadata": {},
   "outputs": [],
   "source": [
    "rho_hf = dino_exp_hf.get_rho()"
   ]
  },
  {
   "cell_type": "code",
   "execution_count": null,
   "metadata": {},
   "outputs": [],
   "source": [
    "fig, axs = plt.subplots(1,1, figsize=(12,6))\n",
    "dino_exp_hf.data.rhop.isel(x_c=0, y_c=33, z_c=0).plot(x='t_0')\n",
    "plt.title('')\n",
    "plt.xlabel('time [years]')\n",
    "plt.legend()\n",
    "plt.grid()"
   ]
  },
  {
   "cell_type": "code",
   "execution_count": null,
   "metadata": {},
   "outputs": [],
   "source": [
    "fig, axs = plt.subplots(1,1, figsize=(12,6))\n",
    "dino_exp_hf.get_ACC().plot(color='black')\n",
    "axs.set_ylabel('ACC transport [Sv]')\n",
    "plt.title('')\n",
    "plt.xlabel('time [years]')\n",
    "plt.legend()\n",
    "plt.grid()"
   ]
  },
  {
   "cell_type": "code",
   "execution_count": null,
   "metadata": {},
   "outputs": [],
   "source": [
    "abs(dino_exp_hf.data.voce_eiv.isel(t_0=-1)).max('z_c').plot(x='glamv', y='gphiv')"
   ]
  },
  {
   "cell_type": "code",
   "execution_count": null,
   "metadata": {},
   "outputs": [],
   "source": [
    "dino_exp_hf.data.aeiu_2d.isel(t_0=0).plot()"
   ]
  },
  {
   "cell_type": "code",
   "execution_count": null,
   "metadata": {},
   "outputs": [],
   "source": [
    "dino_exp_hf.data.voce_eiv.isel(t_0=-1, x_c=3, z_c=slice(0,8)).plot(x='gphiv', y='gdept_1d', yincrease=False)"
   ]
  },
  {
   "cell_type": "code",
   "execution_count": null,
   "metadata": {},
   "outputs": [],
   "source": [
    "rho_hf = dino_exp_hf.get_rho()"
   ]
  },
  {
   "cell_type": "code",
   "execution_count": null,
   "metadata": {},
   "outputs": [],
   "source": [
    "rho_zonal = rho_hf.isel(x_c=slice(1,-1), y_c=slice(1,55), z_c=slice(0,-1)).mean('x_c')"
   ]
  },
  {
   "cell_type": "code",
   "execution_count": null,
   "metadata": {},
   "outputs": [],
   "source": [
    "rho_zonal"
   ]
  },
  {
   "cell_type": "code",
   "execution_count": null,
   "metadata": {},
   "outputs": [],
   "source": [
    "dino_exp_hf.data.t_m"
   ]
  },
  {
   "cell_type": "code",
   "execution_count": null,
   "metadata": {},
   "outputs": [],
   "source": []
  }
 ],
 "metadata": {
  "kernelspec": {
   "display_name": "nemo_env",
   "language": "python",
   "name": "python3"
  },
  "language_info": {
   "codemirror_mode": {
    "name": "ipython",
    "version": 3
   },
   "file_extension": ".py",
   "mimetype": "text/x-python",
   "name": "python",
   "nbconvert_exporter": "python",
   "pygments_lexer": "ipython3",
   "version": "3.9.15"
  },
  "orig_nbformat": 4
 },
 "nbformat": 4,
 "nbformat_minor": 2
}
