{
 "cells": [
  {
   "cell_type": "code",
   "execution_count": null,
   "metadata": {},
   "outputs": [],
   "source": [
    "import cartopy.crs as ccrs\n",
    "from cmocean import cm \n",
    "from dino import Experiment\n",
    "from matplotlib import colors\n",
    "from matplotlib import pyplot as plt\n",
    "import numpy as np\n",
    "import xarray as xr\n",
    "import cftime as cft\n",
    "import xnemogcm as xn\n",
    "import xgcm"
   ]
  },
  {
   "cell_type": "code",
   "execution_count": null,
   "metadata": {},
   "outputs": [],
   "source": [
    "path   = \"/data/dkamm/nemo_output/DINO/\"\n",
    "dino_exp = Experiment(path, 'HigherRidgeEmP/restart10')"
   ]
  },
  {
   "cell_type": "code",
   "execution_count": null,
   "metadata": {},
   "outputs": [],
   "source": [
    "import scipy.sparse as sparse\n",
    "import scipy.sparse.linalg as la\n",
    "\n",
    "def _get_dynmodes(Nsq, e3t, e3w, nmodes=2):\n",
    "    \"\"\"\n",
    "    Calculate the 1st nmodes ocean dynamic vertical modes.\n",
    "    Based on\n",
    "    http://woodshole.er.usgs.gov/operations/sea-mat/klinck-html/dynmodes.html\n",
    "    by John Klinck, 1999.\n",
    "    \"\"\"\n",
    "    # 2nd derivative matrix plus boundary conditions\n",
    "    Ndz     = (Nsq * e3w)\n",
    "    e3t     = e3t\n",
    "    #Ndz_m1  = np.roll(Ndz, -1)\n",
    "    #e3t_p1  = np.roll(e3t, 1)\n",
    "    d0  = np.r_[1. / Ndz[1] / e3t[0],\n",
    "               (1. / Ndz[2:-1] + 1. / Ndz[1:-2]) / e3t[1:-2],\n",
    "               1. / Ndz[-2] / e3t[-2]]\n",
    "    d1  = np.r_[0., -1. / Ndz[1:-1] / e3t[1:-1]]\n",
    "    dm1 = np.r_[-1. / Ndz[1:-1] / e3t[0:-2], 0.]\n",
    "    diags = 1e-4 * np.vstack((d0, d1, dm1))\n",
    "    d2dz2 = sparse.dia_matrix((diags, (0, 1, -1)), shape=(len(Nsq)-1, len(Nsq)-1))\n",
    "    # Solve generalized eigenvalue problem for eigenvalues and vertical\n",
    "    # Horizontal velocity modes\n",
    "    try:\n",
    "        eigenvalues, modes = la.eigs(d2dz2, k=nmodes+1, which='SM')\n",
    "        mask = (eigenvalues.imag == 0) & (eigenvalues >= 1e-10)\n",
    "        eigenvalues = eigenvalues[mask]\n",
    "        # Sort eigenvalues and modes and truncate to number of modes requests\n",
    "        index = np.argsort(eigenvalues)\n",
    "        eigenvalues = eigenvalues[index[:nmodes]].real\n",
    "        # Modal speeds\n",
    "        ce = 1 / np.sqrt(eigenvalues * 1e4)\n",
    "    except:\n",
    "        ce = -np.ones(nmodes)\n",
    "\n",
    "    return(ce)"
   ]
  },
  {
   "cell_type": "code",
   "execution_count": null,
   "metadata": {},
   "outputs": [],
   "source": [
    "import scipy.sparse as sp\n",
    "import scipy.sparse.linalg as la\n",
    "from scipy.linalg import eig\n",
    "\n",
    "def compute_vmodes_1D(Nsqr, dzc=None, dzf=None, nmodes=2): \n",
    "    \"\"\"\n",
    "    Compute vertical modes from stratification. Assume grid is sorted downoward (first point at surface, last point at bottom) and depth is algebraic (i.e. negative)\n",
    "    Take either vertical grid metrics (spacing) or levels as inputs. \n",
    "    Need 2 staggered grid (center and left or outer), with Nsqr specified on left/outer grid\n",
    "    No normalization. Pressure mode is positive at the surface.\n",
    "\n",
    "    Parameters:\n",
    "    ___________\n",
    "    N2f: (N,) ndarray\n",
    "        Brunt-Vaisala frequency at cell left points\n",
    "    dzc: (N) ndarray, optional\n",
    "        vertical grid spacing at cell centers. Either dzc, dzf or zc, zf must be passed\n",
    "    dzf: (N) ndarray\n",
    "        vertical grid spacing at cell left points\n",
    "    nmodes: int, optional\n",
    "        number of baroclinic modes to compute (barotropic mode will be added)\n",
    "\n",
    "    Returns:\n",
    "    ________\n",
    "    c: (nmodes) ndarray\n",
    "        eigenvalues (pseudo phase speed, c=1/sqrt(k))\n",
    "    !! Currently not returning the modes since they are not needed\n",
    "    phi: (N,nmodes) ndarray\n",
    "        p-like modes at cell centers\n",
    "    phiw: (N,nmodes) ndarray\n",
    "        w-like modes at cell interfaces. phiw' = phi\n",
    "\n",
    "    Notes:\n",
    "    ______\n",
    "    The vertical modes are definied following the equation:\n",
    "    .. math:: (\\phi'/N^2)' + k^2\\phi=0 \n",
    "    with boundary condition :math:`\\phi'=0` at the bottom and :math:`g\\phi' + N^2\\phi=0` at the surface (or :math:`\\phi'=0` for a rigid lid condition). \n",
    "    Computation of the vertical modes is performed using second order finite difference with staggered grid\n",
    "\n",
    "    \"\"\"\n",
    "    ### parameters:\n",
    "    g = 9.80665\n",
    "\n",
    "    ### deal with vertical grids\n",
    "    Nz = Nsqr.size\n",
    "    if dzc is not None and dzf is not None:\n",
    "        dz_surf = .25*(dzc[0] + dzf[0]) ### this is approx for NEMO grid\n",
    "        dzc, dzf = dzc, dzf\n",
    "    else:\n",
    "        raise ValueError(\"must specify grid increments dzc, dzf\") \n",
    "\n",
    "    invg = np.ones(1)/g\n",
    "    \n",
    "    Nsqog = Nsqr[:1]*invg\n",
    "\n",
    "    v12 =  np.stack([1./np.r_[dzc, np.ones(1),], -1./np.r_[np.ones(1), dzc]])\n",
    "    Dw2p = sp.spdiags(v12,[0, 1],Nz,Nz,format=\"lil\")\n",
    "    ### vertical derivative matrix, p-to-w grids, targetting inner w points only\n",
    "    v12 =  np.stack([1./np.r_[dzf[1:], np.ones(1)], -1./dzf])\n",
    "    Dp2w = sp.spdiags(v12,[-1, 0],Nz,Nz,format=\"lil\")\n",
    "    \n",
    "    ### second order diff matrix\n",
    "    D2z = Dw2p*Dp2w\n",
    "    Dp2w[0,0] = -Nsqog*(1-Nsqog*dz_surf) # surface boundary condition (free or rigid lid)\n",
    "    ### formulation of the problem : -dz(dz(p)/N^2) = lambda * p\n",
    "    A = - Dw2p * sp.diags(1./Nsqr) * Dp2w\n",
    "#    return A\n",
    "    # compute numerical solution\n",
    "    ev,ef = la.eigs(A.tocsc(), k=nmodes+1, which='SM')\n",
    "\n",
    "    ## select and arrange modes\n",
    "    inds = np.isfinite(ev)\n",
    "    ev, ef = ev[inds].real, ef[:,inds].real\n",
    "    isort = np.argsort(ev)[:nmodes+1]\n",
    "    ev, ef = ev[isort], ef[:,isort]\n",
    "    # ef *= np.sign(ef[0,:])[None,:] # positive pressure at the surface\n",
    "    # if first_ord:\n",
    "        # pmod, wmod = ef[:Nz,:], -ef[Nz:,:]\n",
    "    # else:\n",
    "        # pmod = ef[:Nz,:]\n",
    "        # wmod = -(Dp2w * pmod) / (Nsqr[:,None] * ev[None,:])\n",
    "        # if not (free_surf and g>0):\n",
    "            # wmod[:,0] = 0.\n",
    "    \n",
    "    return 1./ev**.5 #, pmod, wmod"
   ]
  },
  {
   "cell_type": "code",
   "execution_count": null,
   "metadata": {},
   "outputs": [],
   "source": [
    "def get_vmodes(exp, nmodes=2):\n",
    "    \"\"\" compute vertical modes\n",
    "    Wrapper for calling `compute_vmodes` with DataArrays through apply_ufunc. \n",
    "    z levels must be in descending order (first element is at surface, last element is at bottom) with algebraic depth (i.e. negative)\n",
    "    Normalization is performed here (int_z \\phi^2 \\dz = Hbot)\n",
    "    \n",
    "    Parameters:\n",
    "    ___________\n",
    "    ds: xarray.Dataset\n",
    "        contains brunt-vaisala frequency and vertical grid information (levels of metrics, i.e. spacing)\n",
    "    nmodes: int, optional\n",
    "        number of vertical baroclinic modes (barotropic is added)\n",
    "    \n",
    "    Returns:\n",
    "    ________\n",
    "    xarray.DataSet: vertical modes (p and w) and eigenvalues\n",
    "    !! (currently only eigenvalues)\n",
    "    _________\n",
    "    \"\"\"\n",
    "    Nsq = (exp.get_N_squared())\n",
    "    res = xr.apply_ufunc(_get_dynmodes, \n",
    "                         Nsq.isel(x_c=slice(1,-1), y_c=slice(1,-1), t_y=-1).chunk({'z_f':-1}),\n",
    "                         exp.data.e3t.where(exp.domain.tmask==1.0).isel(x_c=slice(1,-1), y_c=slice(1,-1), t_y=-1).chunk({'z_c':-1}),\n",
    "                         exp.data.e3w.isel(x_c=slice(1,-1), y_c=slice(1,-1), t_y=-1).chunk({'z_f':-1}),\n",
    "                         input_core_dims=[['z_f'],['z_c'],['z_f']],\n",
    "                         dask='parallelized', vectorize=True,\n",
    "                         output_dtypes=[Nsq.dtype],\n",
    "                         output_core_dims=[[\"mode\"]],\n",
    "                         dask_gufunc_kwargs={\"output_sizes\":{\"mode\":nmodes}}\n",
    "                        )\n",
    "    # res['mode'] = np.arange(nmodes+1)\n",
    "    # # unstack variables\n",
    "    # c = res.isel(s_stack=0)\n",
    "    # phi = (res.isel(s_stack=slice(1,N+1))\n",
    "    #        .rename('phi')\n",
    "    #        .rename({'s_stack': zc})\n",
    "    #        #.assign_coords(z_rho=zc)\n",
    "    #       )\n",
    "    # if \"z_del\" in kwargs:\n",
    "    #     dzc = ds[kwargs[\"z_del\"][\"zc\"]]\n",
    "    # else:\n",
    "    #     dzc = ds[\"e3t\"] # use default value for NEMO    \n",
    "    # norm_tg = dzc.where(ds.tmask).sum(zc)\n",
    "    # norm = (phi**2*dzc).where(ds.tmask).sum(zc) \n",
    "    # phi /= (norm/norm_tg)**.5 # 1/H \\int(phi^2 dz) = 1\n",
    "    # phiw = (res.isel(s_stack=slice(N+1,2*N+1))\n",
    "    #           .rename('phiw')\n",
    "    #           .rename({'s_stack': zl})\n",
    "    #         #  .assign_coords(z_w=zf)\n",
    "    #          ) / (norm/norm_tg)**.5\n",
    "    # norm = norm_tg # norm = int(phi^2 dz)\n",
    "    # # merge data into a single dataset\n",
    "    # dm = xr.merge([c.rename(\"c\"), phi.rename(\"phi\"), \n",
    "    #                phiw.rename(\"phiw\"), norm.rename(\"norm\")\n",
    "    #              ])\n",
    "    return res  ### hard-coded norm = H "
   ]
  },
  {
   "cell_type": "code",
   "execution_count": null,
   "metadata": {},
   "outputs": [],
   "source": [
    "ce, modes = _get_dynmodes(\n",
    "    dino_exp.get_N_squared().isel(t_y=-1, y_c=100, x_c=30).values,\n",
    "    dino_exp.data.e3t.isel(t_y=-1, y_c=100, x_c=30).values,\n",
    "    dino_exp.data.e3w.isel(t_y=-1, y_c=100, x_c=30).values\n",
    ")\n"
   ]
  },
  {
   "cell_type": "code",
   "execution_count": null,
   "metadata": {},
   "outputs": [],
   "source": [
    "plt.plot(dino_exp.domain.gdept_1d.values[:-1],modes[:,0].real)\n",
    "plt.plot(dino_exp.domain.gdept_1d.values[:-1],modes[:,1].real)\n",
    "plt.plot(dino_exp.domain.gdept_1d.values[:-1],modes[:,2].real)"
   ]
  },
  {
   "cell_type": "code",
   "execution_count": null,
   "metadata": {},
   "outputs": [],
   "source": [
    "ce = get_vmodes(dino_exp, nmodes=2)"
   ]
  },
  {
   "cell_type": "code",
   "execution_count": null,
   "metadata": {},
   "outputs": [],
   "source": [
    "ce = ce.compute()"
   ]
  },
  {
   "cell_type": "code",
   "execution_count": null,
   "metadata": {},
   "outputs": [],
   "source": [
    "ce_inter_x = ce.where(ce>=0).interpolate_na('x_c')\n",
    "ce_inter_y = ce.where(ce>=0).interpolate_na('y_c')"
   ]
  },
  {
   "cell_type": "code",
   "execution_count": null,
   "metadata": {},
   "outputs": [],
   "source": [
    "ce_inter = (ce_inter_x + ce_inter_y) / 2."
   ]
  },
  {
   "cell_type": "code",
   "execution_count": null,
   "metadata": {},
   "outputs": [],
   "source": [
    "ce_inter.isel(mode=1).plot()"
   ]
  },
  {
   "cell_type": "code",
   "execution_count": null,
   "metadata": {},
   "outputs": [],
   "source": [
    "f = 2 * 7.2921e-5 * np.sin(2 * np.pi * dino_exp.domain.gphit / 360)"
   ]
  },
  {
   "cell_type": "code",
   "execution_count": null,
   "metadata": {},
   "outputs": [],
   "source": [
    "beta_f = dino_exp.grid.derivative(f, 'Y')\n",
    "beta_t = dino_exp.grid.interp(beta_f, 'Y')"
   ]
  },
  {
   "cell_type": "code",
   "execution_count": null,
   "metadata": {},
   "outputs": [],
   "source": [
    "L = np.sqrt(ce_inter**2 / (f.isel(x_c=slice(1,-1), y_c=slice(1,-1))**2 + 2 * beta_t.isel(x_c=slice(1,-1), y_c=slice(1,-1)) * ce_inter))"
   ]
  },
  {
   "cell_type": "code",
   "execution_count": null,
   "metadata": {},
   "outputs": [],
   "source": [
    "res = (L.isel(mode=1) / 2 / dino_exp.domain.e2t).assign_coords({'x_globe': L.glamt - 29})\n",
    "#res = (L.isel() / 2 / dino_exp.domain.e2t).assign_coords({'x_globe': L.glamt - 29})\n",
    "\n",
    "fig = plt.figure(figsize=(10,10))\n",
    "p = res.plot.contourf(\n",
    "    y='gphit',\n",
    "    x='x_globe',\n",
    "    cmap=cm.thermal_r,\n",
    "    levels=np.array([1, 1/2, 1/4, 1/8, 1/16, 1/32, 1/64]),\n",
    "    subplot_kws=dict(projection=ccrs.Robinson()),\n",
    "\n",
    "    transform=ccrs.PlateCarree(),\n",
    "    add_colorbar=False\n",
    ")\n",
    "p.axes.gridlines(\n",
    "    draw_labels=[\"y\", \"left\", \"top\", \"geo\"],\n",
    "    ylocs=[-70, -45, -20, 0, 20, 45, 70],\n",
    "    xlocs=[-29, 0, 29]\n",
    ")\n",
    "cbar1 = fig.colorbar(p, label=r'$\\psi$ [Sv]', ticks=[1, 1/2, 1/4, 1/8, 1/16, 1/32, 1/64])\n",
    "cbar1.ax.set_yticklabels(['1°', '1/2°', '1/4°', '1/8°', '1/16°', '1/32°', '1/64°'])\n",
    "plt.title('')\n",
    "plt.grid('m')\n",
    "plt.tight_layout()\n",
    "#plt.savefig('DINO_bathy_3.png', facecolor=(1,1,1,0))"
   ]
  },
  {
   "cell_type": "code",
   "execution_count": null,
   "metadata": {},
   "outputs": [],
   "source": [
    "dino_exp.get_N_squared().isel(t_y=-1, x_c=30).plot(norm=colors.LogNorm(), yincrease=False)"
   ]
  }
 ],
 "metadata": {
  "kernelspec": {
   "display_name": "nemo_env",
   "language": "python",
   "name": "python3"
  },
  "language_info": {
   "codemirror_mode": {
    "name": "ipython",
    "version": 3
   },
   "file_extension": ".py",
   "mimetype": "text/x-python",
   "name": "python",
   "nbconvert_exporter": "python",
   "pygments_lexer": "ipython3",
   "version": "3.9.15"
  }
 },
 "nbformat": 4,
 "nbformat_minor": 2
}
