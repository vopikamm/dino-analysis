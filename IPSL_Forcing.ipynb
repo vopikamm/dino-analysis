{
 "cells": [
  {
   "cell_type": "code",
   "execution_count": null,
   "metadata": {},
   "outputs": [],
   "source": [
    "import cartopy.crs as ccrs\n",
    "from cmocean import cm \n",
    "from dino import Experiment\n",
    "from matplotlib import colors\n",
    "from matplotlib import pyplot as plt\n",
    "import numpy as np\n",
    "import xarray as xr\n",
    "import cftime as cft\n",
    "import xnemogcm as xn\n",
    "import xgcm"
   ]
  },
  {
   "cell_type": "code",
   "execution_count": null,
   "metadata": {},
   "outputs": [],
   "source": [
    "path   = \"/data/dkamm/nemo_output/DINO/\"\n",
    "\n",
    "dino_exp = Experiment(path, 'IPSL_Forcing')"
   ]
  },
  {
   "cell_type": "code",
   "execution_count": null,
   "metadata": {},
   "outputs": [],
   "source": [
    "dino_exp_hr_350 = Experiment(path, 'IPSL_Forcing_hr_350y')"
   ]
  },
  {
   "cell_type": "code",
   "execution_count": null,
   "metadata": {},
   "outputs": [],
   "source": [
    "dino_exp_hr_500 = Experiment(path, 'IPSL_Forcing_hr_500y')"
   ]
  },
  {
   "cell_type": "code",
   "execution_count": null,
   "metadata": {},
   "outputs": [],
   "source": [
    "u_on_f = dino_exp.grid.interp(dino_exp.data.uoce, 'Y')"
   ]
  },
  {
   "cell_type": "code",
   "execution_count": null,
   "metadata": {},
   "outputs": [],
   "source": [
    "v_on_f = dino_exp.grid.interp(dino_exp.data.voce, 'X')"
   ]
  },
  {
   "cell_type": "code",
   "execution_count": null,
   "metadata": {},
   "outputs": [],
   "source": [
    "u_abs = np.sqrt(v_on_f**2 + u_on_f**2).isel(t_0=-1, z_c=0)"
   ]
  },
  {
   "cell_type": "code",
   "execution_count": null,
   "metadata": {},
   "outputs": [],
   "source": [
    "u_abs"
   ]
  },
  {
   "cell_type": "code",
   "execution_count": null,
   "metadata": {},
   "outputs": [],
   "source": [
    "u_abs = u_abs.assign_coords(dict(\n",
    "    gphif = (['y_f', 'x_f'], dino_exp.data.gphiv.values),\n",
    "    glamf = (['y_f', 'x_f'], dino_exp.data.glamu.values),\n",
    "    )\n",
    ")"
   ]
  },
  {
   "cell_type": "code",
   "execution_count": null,
   "metadata": {},
   "outputs": [],
   "source": [
    "u_abs.plot(x='glamf', y='gphif', cmap=cm.speed)"
   ]
  },
  {
   "cell_type": "code",
   "execution_count": null,
   "metadata": {},
   "outputs": [],
   "source": [
    "fig, axs = plt.subplots(1,1, figsize=(12,6))\n",
    "dino_exp.get_ACC().isel(t_y=slice(340,550)).plot(color='black', ax=axs, label=r'1° resolution')\n",
    "dino_exp_hr_350.get_ACC().plot(color='darkred', ax=axs, label=r'$\\frac{1}{4}$° resolution')\n",
    "dino_exp_hr_500.get_ACC().plot(color='darkred', ax=axs)\n",
    "axs.set_ylabel('ACC transport [Sv]')\n",
    "plt.title('')\n",
    "plt.xlabel('time [years]')\n",
    "plt.legend()\n",
    "plt.grid()"
   ]
  },
  {
   "cell_type": "code",
   "execution_count": null,
   "metadata": {},
   "outputs": [],
   "source": [
    "fig, axs = plt.subplots(1,1, figsize=(12,6))\n",
    "dino_exp.get_ACC().plot(color='black', ax=axs, label=r'1° resolution')\n",
    "dino_exp_hr_350.get_ACC().plot(color='darkred', ax=axs, label=r'$\\frac{1}{4}$° resolution')\n",
    "dino_exp_hr_500.get_ACC().plot(color='darkred', ax=axs)\n",
    "axs.set_ylabel('ACC transport [Sv]')\n",
    "plt.title('')\n",
    "plt.xlabel('time [years]')\n",
    "plt.legend()\n",
    "plt.grid()"
   ]
  },
  {
   "cell_type": "code",
   "execution_count": null,
   "metadata": {},
   "outputs": [],
   "source": [
    "Jul = dino_exp.data.mldr10_1.where(((dino_exp.data['t_m.year'] >= 980) & (dino_exp.data['t_m.month'] == 7) & (dino_exp.data['t_m.year'] <= 1000)), drop=True)\n",
    "Feb = dino_exp.data.mldr10_1.where(((dino_exp.data['t_m.year'] >= 980) & (dino_exp.data['t_m.month'] == 2) & (dino_exp.data['t_m.year'] <= 1000)), drop=True)"
   ]
  },
  {
   "cell_type": "code",
   "execution_count": null,
   "metadata": {},
   "outputs": [],
   "source": [
    "Feb.plot(col='t_m', col_wrap=4, y='gphit', x='glamt')"
   ]
  },
  {
   "cell_type": "code",
   "execution_count": null,
   "metadata": {},
   "outputs": [],
   "source": [
    "dino_exp.data"
   ]
  },
  {
   "cell_type": "code",
   "execution_count": null,
   "metadata": {},
   "outputs": [],
   "source": [
    "rho = dino_exp.get_rho()"
   ]
  },
  {
   "cell_type": "code",
   "execution_count": null,
   "metadata": {},
   "outputs": [],
   "source": [
    "rho.isel(x_c=0, y_c=33, t_y=slice(449,454), z_c=0).plot(x='t_y', yincrease=False)"
   ]
  },
  {
   "cell_type": "code",
   "execution_count": null,
   "metadata": {},
   "outputs": [],
   "source": [
    "path   = \"/data/dkamm/nemo_output/DINO/\"\n",
    "dino_exp_hf = Experiment(path, 'IPSL_Forcing_hf2')"
   ]
  },
  {
   "cell_type": "code",
   "execution_count": null,
   "metadata": {},
   "outputs": [],
   "source": [
    "climatology_mean = dino_exp_hf.data.groupby(\"t_m.month\").mean(\"t_m\")"
   ]
  },
  {
   "cell_type": "code",
   "execution_count": null,
   "metadata": {},
   "outputs": [],
   "source": [
    "dino_exp_hf.data.rhop.isel(x_c=0, y_c=33, z_c=0)['t_y.month']#.plot(x='t_m', yincrease=False)"
   ]
  },
  {
   "cell_type": "code",
   "execution_count": null,
   "metadata": {},
   "outputs": [],
   "source": [
    "(rho.isel(t_y=40, x_c=30, y_c=slice(5,50), z_c=slice(0,10))).plot.contourf(x='gphit', y='gdept_0', yincrease=False, levels=36)"
   ]
  },
  {
   "cell_type": "code",
   "execution_count": null,
   "metadata": {},
   "outputs": [],
   "source": [
    "dino_exp.data.voce.isel(t_y=40, x_c=30, y_f=slice(5,50), z_c=slice(0,10)).plot.contourf(x='gphiv', y='gdept_1d', yincrease=False, levels=36)"
   ]
  },
  {
   "cell_type": "code",
   "execution_count": null,
   "metadata": {},
   "outputs": [],
   "source": [
    "dino_exp.data.voce.isel(t_y=40, x_c=slice(0,-1), y_f=slice(5,50), z_c=0).plot.contourf(x='glamv', y='gphiv', yincrease=False, levels=36)"
   ]
  },
  {
   "cell_type": "code",
   "execution_count": null,
   "metadata": {},
   "outputs": [],
   "source": [
    "dino_exp.data.mldr10_1.isel(t_m=slice(-120,-1)).groupby(\"t_m.month\").mean().plot(col='month', col_wrap=4, y='gphit', x='glamt')"
   ]
  },
  {
   "cell_type": "code",
   "execution_count": null,
   "metadata": {},
   "outputs": [],
   "source": [
    "dino_exp.data.mldr10_1.isel(t_m=slice(-1200,-1080)).groupby(\"t_m.month\").mean().plot(col='month', col_wrap=4, y='gphit', x='glamt')"
   ]
  },
  {
   "cell_type": "code",
   "execution_count": null,
   "metadata": {},
   "outputs": [],
   "source": [
    "(dino_exp.data.sss.isel(t_m=-1) - dino_exp.data.sss.isel(t_m=-1201)).plot(cmap=cm.balance)"
   ]
  },
  {
   "cell_type": "code",
   "execution_count": null,
   "metadata": {},
   "outputs": [],
   "source": [
    "(dino_exp.data.sst.isel(t_m=-1) - dino_exp.data.sst.isel(t_m=-1201)).plot(cmap=cm.balance)"
   ]
  },
  {
   "cell_type": "code",
   "execution_count": null,
   "metadata": {},
   "outputs": [],
   "source": [
    "import cartopy.crs as ccrs\n",
    "from cmocean import cm \n",
    "from dino import Experiment\n",
    "from matplotlib import colors\n",
    "from matplotlib import pyplot as plt\n",
    "import numpy as np\n",
    "import xarray as xr\n",
    "import cftime as cft\n",
    "import xnemogcm as xn\n",
    "import xgcm"
   ]
  },
  {
   "cell_type": "code",
   "execution_count": null,
   "metadata": {},
   "outputs": [],
   "source": [
    "path   = \"/data/dkamm/nemo_output/DINO/\"\n",
    "dino_exp_hf = Experiment(path, 'IPSL_Forcing_hf')"
   ]
  },
  {
   "cell_type": "code",
   "execution_count": null,
   "metadata": {},
   "outputs": [],
   "source": [
    "dino_exp_hf.data.mldr10_1"
   ]
  },
  {
   "cell_type": "code",
   "execution_count": null,
   "metadata": {},
   "outputs": [],
   "source": [
    "dino_exp_hf.data.mldr10_1.resample({'t_0':'A'}).mean().plot(col_wrap=2, col='t_0')"
   ]
  },
  {
   "cell_type": "code",
   "execution_count": null,
   "metadata": {},
   "outputs": [],
   "source": [
    "dino_exp_hf.data.rhop.isel(x_c=1, y_c=slice(1,80), z_c=0).plot.contourf(x='t_m', y='gphit', levels=36)"
   ]
  },
  {
   "cell_type": "code",
   "execution_count": null,
   "metadata": {},
   "outputs": [],
   "source": [
    "dino_exp_hf.data.sss.isel(x_c=-50, y_c=slice(1,80)).plot.contourf(x='t_m', y='gphit', levels=36)"
   ]
  },
  {
   "cell_type": "code",
   "execution_count": null,
   "metadata": {},
   "outputs": [],
   "source": [
    "dino_exp_hf.data.rhop.isel(x_c=1, y_c=5, z_c=slice(0,-1)).plot.contourf(x='t_m', y='gdept_1d', levels=36, yincrease=False)"
   ]
  },
  {
   "cell_type": "code",
   "execution_count": null,
   "metadata": {},
   "outputs": [],
   "source": [
    "dino_exp_hf.data.mldr10_1.isel(t_m=slice(0,10)).plot.contourf(x='glamt', y='gphit', levels=36, col_wrap=3, col='t_m')"
   ]
  },
  {
   "cell_type": "code",
   "execution_count": null,
   "metadata": {},
   "outputs": [],
   "source": [
    "dino_exp_hf.data.uoce.isel(x_f=1, y_c=slice(1,55), z_c=0).plot.contourf(x='t_m', y='gphiu', levels=36)"
   ]
  },
  {
   "cell_type": "code",
   "execution_count": null,
   "metadata": {},
   "outputs": [],
   "source": [
    "dino_exp_hf.data.rhop.isel(x_c=1, y_c=slice(-55,-5), z_c=0).plot.contourf(x='t_m', y='gphit', levels=36)"
   ]
  },
  {
   "cell_type": "code",
   "execution_count": null,
   "metadata": {},
   "outputs": [],
   "source": [
    "rho_hf = dino_exp_hf.get_rho()"
   ]
  },
  {
   "cell_type": "code",
   "execution_count": null,
   "metadata": {},
   "outputs": [],
   "source": [
    "fig, axs = plt.subplots(1,1, figsize=(12,6))\n",
    "dino_exp_hf.data.rhop.isel(x_c=0, y_c=33, z_c=0).plot(x='t_0')\n",
    "plt.title('')\n",
    "plt.xlabel('time [years]')\n",
    "plt.legend()\n",
    "plt.grid()"
   ]
  },
  {
   "cell_type": "code",
   "execution_count": null,
   "metadata": {},
   "outputs": [],
   "source": [
    "fig, axs = plt.subplots(1,1, figsize=(12,6))\n",
    "dino_exp_hf.get_ACC().plot(color='black')\n",
    "axs.set_ylabel('ACC transport [Sv]')\n",
    "plt.title('')\n",
    "plt.xlabel('time [years]')\n",
    "plt.legend()\n",
    "plt.grid()"
   ]
  },
  {
   "cell_type": "code",
   "execution_count": null,
   "metadata": {},
   "outputs": [],
   "source": [
    "abs(dino_exp_hf.data.voce_eiv.isel(t_0=-1)).max('z_c').plot(x='glamv', y='gphiv')"
   ]
  },
  {
   "cell_type": "code",
   "execution_count": null,
   "metadata": {},
   "outputs": [],
   "source": [
    "dino_exp_hf.data.aeiu_2d.isel(t_0=0).plot()"
   ]
  },
  {
   "cell_type": "code",
   "execution_count": null,
   "metadata": {},
   "outputs": [],
   "source": [
    "dino_exp_hf.data.voce_eiv.isel(t_0=-1, x_c=3, z_c=slice(0,8)).plot(x='gphiv', y='gdept_1d', yincrease=False)"
   ]
  },
  {
   "cell_type": "code",
   "execution_count": null,
   "metadata": {},
   "outputs": [],
   "source": [
    "rho_hf = dino_exp_hf.get_rho()"
   ]
  },
  {
   "cell_type": "code",
   "execution_count": null,
   "metadata": {},
   "outputs": [],
   "source": [
    "rho_zonal = rho_hf.isel(x_c=slice(1,-1), y_c=slice(1,55), z_c=slice(0,-1)).mean('x_c')"
   ]
  },
  {
   "cell_type": "code",
   "execution_count": null,
   "metadata": {},
   "outputs": [],
   "source": [
    "rho_zonal"
   ]
  },
  {
   "cell_type": "code",
   "execution_count": null,
   "metadata": {},
   "outputs": [],
   "source": [
    "dino_exp_hf.data.t_m"
   ]
  },
  {
   "cell_type": "code",
   "execution_count": null,
   "metadata": {},
   "outputs": [],
   "source": []
  }
 ],
 "metadata": {
  "kernelspec": {
   "display_name": "nemo_env",
   "language": "python",
   "name": "python3"
  },
  "language_info": {
   "codemirror_mode": {
    "name": "ipython",
    "version": 3
   },
   "file_extension": ".py",
   "mimetype": "text/x-python",
   "name": "python",
   "nbconvert_exporter": "python",
   "pygments_lexer": "ipython3",
   "version": "3.9.15"
  },
  "orig_nbformat": 4
 },
 "nbformat": 4,
 "nbformat_minor": 2
}
