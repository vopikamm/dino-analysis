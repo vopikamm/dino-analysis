{
 "cells": [
  {
   "cell_type": "code",
   "execution_count": null,
   "metadata": {},
   "outputs": [],
   "source": [
    "import cartopy.crs as ccrs\n",
    "from cmocean import cm \n",
    "from dino import Experiment\n",
    "from matplotlib import colors\n",
    "from matplotlib import pyplot as plt\n",
    "import numpy as np\n",
    "import xarray as xr\n",
    "import cftime as cft\n",
    "import xnemogcm as xn\n",
    "import xgcm"
   ]
  },
  {
   "cell_type": "code",
   "execution_count": null,
   "metadata": {},
   "outputs": [],
   "source": [
    "path   = \"/data/dkamm/nemo_output/DINO/\"\n",
    "dino_exp = Experiment(path, 'SaltRestoring/restart9')"
   ]
  },
  {
   "cell_type": "code",
   "execution_count": null,
   "metadata": {},
   "outputs": [],
   "source": [
    "T_star = dino_exp.get_T_star()\n",
    "S_star = dino_exp.get_S_star()"
   ]
  },
  {
   "cell_type": "code",
   "execution_count": null,
   "metadata": {},
   "outputs": [],
   "source": [
    "rho_star = dino_exp.get_rho_star()"
   ]
  },
  {
   "cell_type": "code",
   "execution_count": null,
   "metadata": {},
   "outputs": [],
   "source": [
    "fig, axs = plt.subplots(1,3,figsize=(15,8), sharey=True)\n",
    "T_star.isel(x_c=10, t_m=-1, y_c=slice(1,-1)).plot(color='midnightblue', y='gphit', ax=axs[0], label='December')\n",
    "T_star.isel(x_c=10, t_m=-7, y_c=slice(1,-1)).plot(color='darkred', y='gphit', ax=axs[0], label='June')\n",
    "S_star.isel(x_c=10).plot(color='black', y='gphit', ax=axs[1])\n",
    "rho_star.isel(x_c=10, t_m=-1, y_c=slice(1,-1)).plot(color='midnightblue', y='gphit', ax=axs[2], label='December')\n",
    "rho_star.isel(x_c=10, t_m=-7, y_c=slice(1,-1)).plot(color='darkred', y='gphit', ax=axs[2], label='June')\n",
    "\n",
    "axs[0].fill_betweenx(dino_exp.domain.gphiu.values[:,0], -2, 32, where=dino_exp.domain.umask.isel(x_f=0, z_c=0)==1, facecolor='grey', alpha=.2)\n",
    "axs[0].margins(x=0, y=0)\n",
    "axs[0].set_xlabel(r\"$T^{*}$ [°C]\")\n",
    "axs[0].set_title('')\n",
    "axs[0].grid()\n",
    "axs[0].legend()\n",
    "#\n",
    "axs[1].fill_betweenx(dino_exp.domain.gphiu.values[:,0], 34.5, 37.5, where=dino_exp.domain.umask.isel(x_f=0, z_c=0)==1, facecolor='grey', alpha=.2)\n",
    "axs[1].margins(x=0, y=0)\n",
    "axs[1].set_xlabel(r\"$S^{*}$ [psu]\")\n",
    "axs[1].set_title('')\n",
    "axs[1].grid()\n",
    "#\n",
    "axs[2].fill_betweenx(dino_exp.domain.gphiu.values[:,0], 1022, 1028, where=dino_exp.domain.umask.isel(x_f=0, z_c=0)==1, facecolor='grey', alpha=.2)\n",
    "axs[2].margins(x=0, y=0)\n",
    "axs[2].set_xlabel(r\"$\\rho^{*}$ [kg / m3]\")\n",
    "axs[2].set_title('')\n",
    "axs[2].grid()\n",
    "axs[2].legend()"
   ]
  },
  {
   "cell_type": "markdown",
   "metadata": {},
   "source": [
    "## Why Is the density restoring decreasing towards the meridional boundaries? \n",
    "    - Problem in equation of state?\n",
    "        --> EOS seems right, maybe issue in z used as as gdept_0? --> Yes, z is reference pressure level (0 for rhop) \n",
    "        --> T restoring on T-points!\n",
    "    - Find S_star with a density restoring towards Munday (2012) ?\n",
    "        --> Include denser waters south of channel?"
   ]
  },
  {
   "cell_type": "code",
   "execution_count": null,
   "metadata": {},
   "outputs": [],
   "source": [
    "idx_n = abs(rho_star.gphit - (-40)).argmin()\n",
    "idx_s = abs(rho_star.gphit - (-65)).argmin()"
   ]
  },
  {
   "cell_type": "code",
   "execution_count": null,
   "metadata": {},
   "outputs": [],
   "source": [
    "from matplotlib.colors import LogNorm\n",
    "\n",
    "soce = (dino_exp.data.isel(t_y=-1).where(dino_exp.domain.tmask == 1.)).soce.values.ravel()\n",
    "toce = (dino_exp.data.isel(t_y=-1).where(dino_exp.domain.tmask == 1.)).toce.values.ravel()\n",
    "vol  = (dino_exp.domain.e1t * dino_exp.domain.e2t * dino_exp.data.isel(t_y=-1).e3t).values.ravel()\n",
    "\n",
    "\n",
    "fig, ax = plt.subplots()\n",
    "hb = ax.hexbin(soce, toce,\n",
    "           C=vol, reduce_C_function=np.sum,\n",
    "           extent=(34,38,-3,30), gridsize=50, bins='log',\n",
    "           cmap=cm.matter)\n",
    "plt.colorbar(hb)\n",
    "ax.set_ylabel(r'Temperature ($^\\circ$C)')\n",
    "ax.set_xlabel(\"Salinity (g / kg)\")"
   ]
  },
  {
   "cell_type": "code",
   "execution_count": null,
   "metadata": {},
   "outputs": [],
   "source": [
    "rho = dino_exp.get_rho()"
   ]
  },
  {
   "cell_type": "code",
   "execution_count": null,
   "metadata": {},
   "outputs": [],
   "source": [
    "T_star.isel(x_c=10, t_m=-9, y_c=slice(1,-1)).plot(color='darkred', y='gphit')"
   ]
  },
  {
   "cell_type": "code",
   "execution_count": null,
   "metadata": {},
   "outputs": [],
   "source": [
    "rho_star.isel(x_c=10, t_m=-9, y_c=slice(1,-1)).plot(color='darkred', y='gphit')"
   ]
  },
  {
   "cell_type": "code",
   "execution_count": null,
   "metadata": {},
   "outputs": [],
   "source": [
    "rho_star.isel(x_c=10, t_m=-9, y_c=slice(1,-1)).min().values"
   ]
  },
  {
   "cell_type": "code",
   "execution_count": null,
   "metadata": {},
   "outputs": [],
   "source": [
    "def scurve(x, x0, dx):\n",
    "    \"\"\"Returns 0 for x<x0 or x>x+dx, and a cubic in between.\"\"\"\n",
    "    s = np.minimum(1, np.maximum(0, (x-x0)/dx))\n",
    "    return (3 - 2*s)*( s*s )\n",
    "def itau(ytau,taud,ys):\n",
    "    \"\"\"Returns a profile tau(ys) that uses s-curves between node,valuesa ytau,taud\"\"\"\n",
    "    taus = 0.*ys\n",
    "    ks = 0\n",
    "    for i in range(len(ys)):\n",
    "        y = ys[i]\n",
    "        if y>=ytau[ks+1]:\n",
    "            ks=min(len(ytau)-2,ks+1)\n",
    "        taus[i] = taud[ks] + ( taud[ks+1] - taud[ks]) * scurve(y, ytau[ks], ytau[ks+1]-ytau[ks])\n",
    "    return taus\n",
    "ysteps = np.linspace(-70,70,100)"
   ]
  },
  {
   "cell_type": "code",
   "execution_count": null,
   "metadata": {},
   "outputs": [],
   "source": [
    "yrho, vrho, vrho_jan, vrho_jul   = [-70, 0, 70], [1027.5, 1022.6, 1027.5 -0.4855], [1027.1, 1022.6, 1026.8], [1027.5, 1022.6, 1026.8]\n",
    "rho_star_c = itau(yrho, vrho, ysteps)\n",
    "#rho_star_jan = itau(yrho, vrho_jan, ysteps)\n",
    "#rho_star_jul = itau(yrho, vrho_jul, ysteps)\n",
    "plt.plot(ysteps, rho_star_c, color='black')\n",
    "#plt.plot(ysteps, rho_star_jan, color='midnightblue', label='January')\n",
    "#plt.plot(ysteps, rho_star_jul, color='darkred', label='July')\n",
    "plt.xlim(-70,70);\n",
    "plt.ylim(1022,1028);\n",
    "plt.xlabel('Latitude ($^\\circ$N)');\n",
    "plt.ylabel(r'$\\rho$');\n",
    "plt.grid();\n",
    "plt.legend()\n",
    "plt.vlines([-65, -45], 1022, 1028, linestyles='dashed', color='black')\n",
    "plt.hlines([1026.1, 1027.44], -70, 70, linestyles='dashed', color='black')\n",
    "#plt.hlines([1026.22, 1027.55], -70, 70, linestyles='dashed', color='darkred')"
   ]
  },
  {
   "cell_type": "code",
   "execution_count": null,
   "metadata": {},
   "outputs": [],
   "source": [
    "yt, vt, vt_jan, vt_jul   = [-70, 0, 70], [-0.5, 27., 5.], [0.0, 27., 1.0], [-1.0, 27., 9.0]\n",
    "t_star = itau(yt, vt, ysteps)\n",
    "t_star_jan = itau(yt, vt_jan, ysteps)\n",
    "t_star_jul = itau(yt, vt_jul, ysteps)\n",
    "\n",
    "plt.plot(ysteps, t_star, color='black')\n",
    "plt.plot(ysteps, t_star_jan, color='midnightblue', label='January')\n",
    "plt.plot(ysteps, t_star_jul, color='darkred', label='July')\n",
    "plt.xlim(-70,70);\n",
    "plt.ylim(-2,30);\n",
    "plt.xlabel('Latitude ($^\\circ$N)');\n",
    "plt.ylabel(r'$T^{*}$');\n",
    "plt.grid();\n",
    "plt.legend()\n",
    "plt.vlines([-65, -45], 1022, 1028, linestyles='dashed', color='black')\n",
    "#plt.hlines([1025.7, 1026.93], -70, 70, linestyles='dashed', color='midnightblue')\n",
    "#plt.hlines([1026.22, 1027.55], -70, 70, linestyles='dashed', color='darkred')"
   ]
  },
  {
   "cell_type": "code",
   "execution_count": null,
   "metadata": {},
   "outputs": [],
   "source": []
  },
  {
   "cell_type": "code",
   "execution_count": null,
   "metadata": {},
   "outputs": [],
   "source": [
    "yrho,rhod   = [-70, -65, 0, 70], [1027.3, 1027.3, 1022.6, 1026.8]\n",
    "yt,td       = [-70, 0, 70], [-0.5, 27., 5]\n",
    "yt_d,td_d       = [-70, -10, 70], [0, 27., 0.]\n",
    "yt_j,td_j       = [-70, 10, 70], [-1, 27., 10]\n",
    "ys, sd      = [-70, -65, -15, 0, 15, 70 ], [35.2, 35.2, 37., 36., 37., 35.3]\n",
    "ysteps = np.linspace(-70,70,100)\n",
    "rho_star = itau(yrho, rhod, ysteps)\n",
    "t_star = itau(yt, td, ysteps)\n",
    "s_star = itau(ys, sd, ysteps)\n",
    "t_star_d = itau(yt_d, td_d, ysteps)\n",
    "t_star_j = itau(yt_j, td_j, ysteps)\n",
    "plt.plot(yrho,rhod,'x')\n",
    "plt.plot(ysteps, rho_star)\n",
    "plt.xlim(-70,70);\n",
    "plt.xlabel('Latitude ($^\\circ$N)');\n",
    "plt.ylabel(r'$\\tau$ (Pa)');\n",
    "plt.grid();"
   ]
  },
  {
   "cell_type": "code",
   "execution_count": null,
   "metadata": {},
   "outputs": [],
   "source": [
    "plt.plot(yt,td,'x')\n",
    "plt.plot(ysteps, t_star)\n",
    "plt.xlim(-70,70);\n",
    "plt.xlabel('Latitude ($^\\circ$N)');\n",
    "plt.ylabel(r'$\\tau$ (Pa)');\n",
    "plt.grid();"
   ]
  },
  {
   "cell_type": "code",
   "execution_count": null,
   "metadata": {},
   "outputs": [],
   "source": [
    "plt.plot(ys,sd,'x')\n",
    "plt.plot(ysteps, s_star)\n",
    "plt.xlim(-70,70);\n",
    "plt.xlabel('Latitude ($^\\circ$N)');\n",
    "plt.ylabel(r'$\\tau$ (Pa)');\n",
    "plt.grid();"
   ]
  },
  {
   "cell_type": "code",
   "execution_count": null,
   "metadata": {},
   "outputs": [],
   "source": [
    "nml = dino_exp.namelist['nameos']\n",
    "s_star_2 = ( rho - 1026.\n",
    "    + nml['rn_a0'] * (1. + 0.5 * nml['rn_lambda1'] * ( t - 10.)) * ( t - 10.)\n",
    ") / nml['rn_b0'] + 35."
   ]
  },
  {
   "cell_type": "code",
   "execution_count": null,
   "metadata": {},
   "outputs": [],
   "source": [
    "plt.plot(ysteps, s_star_2)\n",
    "plt.xlim(-70,70);\n",
    "plt.xlabel('Latitude ($^\\circ$N)');\n",
    "plt.ylabel(r'$\\tau$ (Pa)');\n",
    "plt.grid();"
   ]
  },
  {
   "cell_type": "code",
   "execution_count": null,
   "metadata": {},
   "outputs": [],
   "source": [
    "nml = dino_exp.namelist['nameos']\n",
    "rho_star_2 = ( \n",
    "    - nml['rn_a0'] * (1. + 0.5 * nml['rn_lambda1'] * ( t_star - 10.)) * ( t_star - 10.)\n",
    "    + nml['rn_b0'] * (s_star - 35.) + 1026. \n",
    ")"
   ]
  },
  {
   "cell_type": "code",
   "execution_count": null,
   "metadata": {},
   "outputs": [],
   "source": [
    "plt.plot(ysteps, rho_star_2)\n",
    "plt.xlim(-70,70);\n",
    "plt.xlabel('Latitude ($^\\circ$N)');\n",
    "plt.ylabel(r'$\\tau$ (Pa)');\n",
    "plt.grid();"
   ]
  },
  {
   "cell_type": "code",
   "execution_count": null,
   "metadata": {},
   "outputs": [],
   "source": [
    "nml = dino_exp.namelist['nameos']\n",
    "rho_star_d = ( \n",
    "    - nml['rn_a0'] * (1. + 0.5 * nml['rn_lambda1'] * ( t_star_d - 10.)) * ( t_star_d - 10.)\n",
    "    + nml['rn_b0'] * (s_star - 35.) + 1026. \n",
    ")"
   ]
  },
  {
   "cell_type": "code",
   "execution_count": null,
   "metadata": {},
   "outputs": [],
   "source": [
    "plt.plot(ysteps, rho_star_d)\n",
    "plt.xlim(-70,70);\n",
    "plt.xlabel('Latitude ($^\\circ$N)');\n",
    "plt.ylabel(r'$\\tau$ (Pa)');\n",
    "plt.grid();"
   ]
  },
  {
   "cell_type": "code",
   "execution_count": null,
   "metadata": {},
   "outputs": [],
   "source": [
    "rho_star_j = ( \n",
    "    - nml['rn_a0'] * (1. + 0.5 * nml['rn_lambda1'] * ( t_star_j - 10.)) * ( t_star_j - 10.)\n",
    "    + nml['rn_b0'] * (s_star - 35.) + 1026. \n",
    ")"
   ]
  },
  {
   "cell_type": "code",
   "execution_count": null,
   "metadata": {},
   "outputs": [],
   "source": [
    "plt.plot(ysteps, rho_star_j)\n",
    "plt.xlim(-70,70);\n",
    "plt.xlabel('Latitude ($^\\circ$N)');\n",
    "plt.ylabel(r'$\\tau$ (Pa)');\n",
    "plt.grid();"
   ]
  },
  {
   "cell_type": "code",
   "execution_count": null,
   "metadata": {},
   "outputs": [],
   "source": [
    "nml = dino_exp.namelist['nameos']"
   ]
  },
  {
   "cell_type": "code",
   "execution_count": null,
   "metadata": {},
   "outputs": [],
   "source": [
    "nml"
   ]
  },
  {
   "cell_type": "code",
   "execution_count": null,
   "metadata": {},
   "outputs": [],
   "source": [
    "def T_n_star(T_s_star, drho, pm=1.0):\n",
    "    \"\"\" \n",
    "    Computing the Northern temperature restoring depending on:\n",
    "        - the Southern temperature restoring T_s_star\n",
    "        - the desired difference in density restoring drho\n",
    "    Assuming symmetric salt restoring.    \n",
    "    \"\"\"\n",
    "    lambda_1    = 0.06\n",
    "    a0          = 0.165\n",
    "    # Square-root of quadratic:\n",
    "    a           = 0.5 * lambda_1\n",
    "    b           = (1 - 10 * lambda_1)\n",
    "    c           = drho / a0 - a * T_s_star ** 2 - b * T_s_star\n",
    "    return(\n",
    "        (-b + pm * np.sqrt(b**2 - 4 * a * c)) / 2 / a \n",
    "    )"
   ]
  },
  {
   "cell_type": "code",
   "execution_count": null,
   "metadata": {},
   "outputs": [],
   "source": [
    "T_s_star = np.linspace(-1,1,100)"
   ]
  },
  {
   "cell_type": "code",
   "execution_count": null,
   "metadata": {},
   "outputs": [],
   "source": [
    "T_n = T_n_star(T_s_star=T_s_star, drho=-0.4855, pm=1)"
   ]
  },
  {
   "cell_type": "code",
   "execution_count": null,
   "metadata": {},
   "outputs": [],
   "source": [
    "plt.plot(T_s_star, T_n)\n",
    "plt.xlim(-1,1);\n",
    "plt.xlabel(r'$T_{s}^{*}$');\n",
    "plt.ylabel(r'$T_{n}^{*}$');\n",
    "plt.grid();"
   ]
  },
  {
   "cell_type": "code",
   "execution_count": null,
   "metadata": {},
   "outputs": [],
   "source": [
    "def S_star(T_star, rho_star):\n",
    "    \"\"\" \n",
    "    Computing the salinity restoring depending on:\n",
    "        - temperature restoring\n",
    "        - density restoring\n",
    "    Assuming symmetric salt restoring.    \n",
    "    \"\"\"\n",
    "    lambda_1    = 0.06\n",
    "    a0          = 0.165\n",
    "    S           = (\n",
    "        rho_star - 1026.\n",
    "        + a0 * (1 + 0.5 * lambda_1 * (T_star - 10.)) * (T_star - 10.)\n",
    "    ) / 0.76554 + 35.\n",
    "    return(S)\n",
    "\n",
    "def rho_star(T_star, S_star):\n",
    "    \"\"\" \n",
    "    Computing the density restoring depending on:\n",
    "        - temperature restoring\n",
    "        - salinity restoring\n",
    "    Assuming symmetric salt restoring.    \n",
    "    \"\"\"\n",
    "    lambda_1    = 0.06\n",
    "    a0          = 0.165\n",
    "    b0          = 0.76554\n",
    "    rho         = (\n",
    "        - a0 * (1 + 0.5 * lambda_1 * (T_star - 10.)) * (T_star - 10.)\n",
    "        + b0 * (S_star - 35.)\n",
    "        + 1026.\n",
    "    ) \n",
    "    return(rho)"
   ]
  },
  {
   "cell_type": "code",
   "execution_count": null,
   "metadata": {},
   "outputs": [],
   "source": [
    "S_star_c = S_star(T_star=t_star, rho_star=rho_star_c)"
   ]
  },
  {
   "cell_type": "code",
   "execution_count": null,
   "metadata": {},
   "outputs": [],
   "source": [
    "plt.plot(ysteps, S_star_c)\n",
    "plt.plot(ysteps, s_nodes)\n",
    "plt.xlim(-70,70);\n",
    "plt.xlabel('Latitude ($^\\circ$N)');\n",
    "plt.ylabel(r'Salinity (p)');\n",
    "plt.grid();"
   ]
  },
  {
   "cell_type": "code",
   "execution_count": null,
   "metadata": {},
   "outputs": [],
   "source": [
    "S_star_c"
   ]
  },
  {
   "cell_type": "code",
   "execution_count": null,
   "metadata": {},
   "outputs": [],
   "source": [
    "ys, vs   = [-70, -40, 0, 40,  70], [35.401, 34.505, 36.09, 34.931, 35.401]\n",
    "s_nodes = itau(ys, vs, ysteps)"
   ]
  },
  {
   "cell_type": "code",
   "execution_count": null,
   "metadata": {},
   "outputs": [],
   "source": [
    "rho_jul_star = rho_star(t_star_jul, s_nodes)\n",
    "rho_jan_star = rho_star(t_star_jan, s_nodes)"
   ]
  },
  {
   "cell_type": "code",
   "execution_count": null,
   "metadata": {},
   "outputs": [],
   "source": [
    "yrho, vrho, vrho_jan, vrho_jul   = [-70, 0, 70], [1027.5, 1022.6, 1027.5 -0.4855], [rho_jan_s_star, 1022.6, 1027.5 -0.4855], [rho_jul_s_star, 1022.6, rho_jul_s_star]\n",
    "rho_star_c = itau(yrho, vrho, ysteps)\n",
    "#rho_star_jan = itau(yrho, vrho_jan, ysteps)\n",
    "#rho_star_jul = itau(yrho, vrho_jul, ysteps)\n",
    "plt.plot(ysteps, rho_star_c, color='black')\n",
    "plt.plot(ysteps, rho_jan_star, color='midnightblue', label='January')\n",
    "plt.plot(ysteps, rho_jul_star, color='darkred', label='July')\n",
    "plt.xlim(-70,70);\n",
    "plt.ylim(1022,1028);\n",
    "plt.xlabel('Latitude ($^\\circ$N)');\n",
    "plt.ylabel(r'$\\rho$');\n",
    "plt.grid();\n",
    "plt.legend()\n",
    "plt.vlines([-65, -45], 1022, 1028, linestyles='dashed', color='black')\n",
    "plt.hlines([1026.1, 1027.44], -70, 70, linestyles='dashed', color='black')\n",
    "#plt.hlines([1026.22, 1027.55], -70, 70, linestyles='dashed', color='darkred')"
   ]
  },
  {
   "cell_type": "code",
   "execution_count": null,
   "metadata": {},
   "outputs": [],
   "source": [
    "rho_jan_n_star = rho_star(9.0, S_s_star)"
   ]
  },
  {
   "cell_type": "code",
   "execution_count": null,
   "metadata": {},
   "outputs": [],
   "source": [
    "rho_jan_n_star"
   ]
  },
  {
   "cell_type": "code",
   "execution_count": null,
   "metadata": {},
   "outputs": [],
   "source": [
    "rho_jul_star"
   ]
  },
  {
   "cell_type": "code",
   "execution_count": null,
   "metadata": {},
   "outputs": [],
   "source": []
  }
 ],
 "metadata": {
  "kernelspec": {
   "display_name": "nemo_env",
   "language": "python",
   "name": "python3"
  },
  "language_info": {
   "codemirror_mode": {
    "name": "ipython",
    "version": 3
   },
   "file_extension": ".py",
   "mimetype": "text/x-python",
   "name": "python",
   "nbconvert_exporter": "python",
   "pygments_lexer": "ipython3",
   "version": "3.9.15"
  },
  "orig_nbformat": 4
 },
 "nbformat": 4,
 "nbformat_minor": 2
}
