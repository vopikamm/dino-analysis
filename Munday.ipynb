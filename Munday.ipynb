{
 "cells": [
  {
   "cell_type": "code",
   "execution_count": null,
   "metadata": {},
   "outputs": [],
   "source": [
    "import cartopy.crs as ccrs\n",
    "from cmocean import cm \n",
    "from dino import Experiment\n",
    "from matplotlib import colors\n",
    "from matplotlib import pyplot as plt\n",
    "import numpy as np\n",
    "import xarray as xr\n",
    "import cftime as cft\n",
    "import xnemogcm as xn\n",
    "import xgcm"
   ]
  },
  {
   "cell_type": "code",
   "execution_count": null,
   "metadata": {},
   "outputs": [],
   "source": [
    "path   = \"/data/dkamm/nemo_output/DINO/\"\n",
    "dino_exp_sfx = Experiment(path, 'HigherRidge')"
   ]
  },
  {
   "cell_type": "code",
   "execution_count": null,
   "metadata": {},
   "outputs": [],
   "source": [
    "path   = \"/data/dkamm/nemo_output/DINO/\"\n",
    "dino_exp_emp = Experiment(path, 'HigherRidgeEmP')"
   ]
  },
  {
   "cell_type": "code",
   "execution_count": null,
   "metadata": {},
   "outputs": [],
   "source": [
    "fig, axs = plt.subplots(1,1, figsize=(12,6))\n",
    "dino_exp_sfx.get_ACC().plot(color='midnightblue', label='Salt-flux from S_star')\n",
    "dino_exp_emp.get_ACC().plot(color='darkred', label='E-P')\n",
    "axs.set_ylabel('ACC transport [Sv]')\n",
    "plt.title('')\n",
    "plt.xlabel('time [years]')\n",
    "plt.legend()\n",
    "plt.grid()"
   ]
  },
  {
   "cell_type": "code",
   "execution_count": null,
   "metadata": {},
   "outputs": [],
   "source": [
    "path   = \"/data/dkamm/nemo_output/DINO/\"\n",
    "dino_exp = Experiment(path, 'HigherRidgeEmP/restart40')"
   ]
  },
  {
   "cell_type": "code",
   "execution_count": null,
   "metadata": {},
   "outputs": [],
   "source": [
    "fig, axs = plt.subplots(1,1, figsize=(12,6))\n",
    "dino_exp.get_ACC().plot(color='darkred')\n",
    "axs.set_ylabel('ACC transport [Sv]')\n",
    "plt.title('')\n",
    "plt.xlabel('time [years]')\n",
    "\n",
    "plt.grid()"
   ]
  },
  {
   "cell_type": "code",
   "execution_count": null,
   "metadata": {},
   "outputs": [],
   "source": [
    "fig, axs = plt.subplots(1,2,figsize=(15,6))\n",
    "a = dino_exp_sfx.get_rho(z=2000.).isel(t_y=-1, x_c=30, y_c=slice(1,-1), z_c=slice(0,-1))#.plot.contourf(x='gphit', y='gdept_0', cmap=cm.dense_r, levels=36, add_colorbar=True, ax=axs[0])\n",
    "\n",
    "b = dino_exp_emp.get_rho(z=2000.).isel(t_y=-1, x_c=30, y_c=slice(1,-1), z_c=slice(0,-1))#.plot.contourf(x='gphit', y='gdept_0', cmap=cm.dense_r, levels=36, add_colorbar=True, ax=axs[1])\n",
    "c = a.plot.contourf(x='gphit', y='gdept_0', cmap=cm.dense_r, levels=36, add_colorbar=False, ax=axs[0])\n",
    "cbar1 = fig.colorbar(c, ax=axs[:2], label=r'$\\rho$ [kg/m^3]')\n",
    "b.plot.contourf(x='gphit', y='gdept_0', cmap=cm.dense_r, levels=36, add_colorbar=False, ax=axs[1], vmin=cbar1.vmin, vmax=cbar1.vmax)\n",
    "\n",
    "#cbar1 = fig.colorbar(a, ax=axs, label=r'$\\rho$ [kg/m^3]')\n",
    "plt.xlabel('latitude [°N]')\n",
    "axs[0].invert_yaxis()\n",
    "axs[1].invert_yaxis()\n",
    "#axs[2].invert_yaxis()\n",
    "axs[0].set_ylabel(r'$\\sigma_{0}$ [ $kg$ / $m^3$ - 1000 ]')\n",
    "axs[1].set_ylabel(r'$\\sigma_{0}$ [ $kg$ / $m^3$ - 1000 ]')\n",
    "axs[0].set_title('Salt-restoring')\n",
    "axs[1].set_title('E-P')\n",
    "#plt.tight_layout()"
   ]
  },
  {
   "cell_type": "code",
   "execution_count": null,
   "metadata": {},
   "outputs": [],
   "source": [
    "mld_sep = dino_exp.data.mldr10_1.where(((dino_exp.data['t_m.year'] >= 100) & (dino_exp.data['t_m.month'] == 9)), drop=True).mean('t_m')\n",
    "mld_mar = dino_exp.data.mldr10_1.where(((dino_exp.data['t_m.year'] >= 100) & (dino_exp.data['t_m.month'] == 3)), drop=True).mean('t_m')\n",
    "\n",
    "mld_sep = mld_sep.assign_coords({'x_globe': mld_sep.glamt - 30})\n",
    "mld_mar = mld_mar.assign_coords({'x_globe': mld_mar.glamt - 30})"
   ]
  },
  {
   "cell_type": "code",
   "execution_count": null,
   "metadata": {},
   "outputs": [],
   "source": [
    "plt.figure(figsize=(10,10))\n",
    "a = mld_mar.plot.contourf(\n",
    "    y='gphit',\n",
    "    x='x_globe',\n",
    "    cmap=cm.deep_r,\n",
    "    levels=30,\n",
    "    subplot_kws=dict(projection=ccrs.Robinson()),\n",
    "\n",
    "    transform=ccrs.PlateCarree(),\n",
    "    #add_colorbar=False,\n",
    ")\n",
    "a.axes.gridlines(\n",
    "    draw_labels=[\"x\", \"y\", \"geo\"],\n",
    "    ylocs=[-70, -45, -20, 0, 20, 45, 70],\n",
    "    xlocs=[0]\n",
    ")\n",
    "plt.title('')\n",
    "plt.grid('m')\n",
    "#plt.tight_layout()"
   ]
  },
  {
   "cell_type": "code",
   "execution_count": null,
   "metadata": {},
   "outputs": [],
   "source": [
    "from matplotlib.colors import LogNorm\n",
    "\n",
    "soce = (dino_exp.data.isel(t_y=-1).where(dino_exp.domain.tmask == 1.)).soce.values.ravel()\n",
    "toce = (dino_exp.data.isel(t_y=-1).where(dino_exp.domain.tmask == 1.)).toce.values.ravel()\n",
    "vol  = (dino_exp.domain.e1t * dino_exp.domain.e2t * dino_exp.data.isel(t_y=-1).e3t).values.ravel()\n",
    "\n",
    "smin, smax = 34.5, 37.5\n",
    "tmin, tmax = -2, 29\n",
    "\n",
    "s = np.linspace(smin, smax, 100)\n",
    "t = np.linspace(tmin, tmax, 100)\n",
    "\n",
    "Sg, Tg = np.meshgrid(s,t)\n",
    "\n",
    "nml = dino_exp.namelist['nameos']\n",
    "\n",
    "rho = (\n",
    "    - nml['rn_a0'] * (1. + 0.5 * nml['rn_lambda1'] * ( Tg - 10.)) * ( Tg - 10.) \n",
    "    + nml['rn_b0'] * (1. - 0.5 * nml['rn_lambda2'] * ( Sg - 35.)) * ( Sg - 35.) \n",
    "    - nml['rn_nu'] * ( t - 10.) * ( Sg - 35.)\n",
    ") + 1026\n",
    "\n",
    "fig, ax = plt.subplots()\n",
    "hb = ax.hexbin(soce, toce,\n",
    "           C=vol, reduce_C_function=np.sum,\n",
    "           extent=(34.5,37.5,-2,29), gridsize=50, bins='log',\n",
    "           cmap=cm.matter)\n",
    "plt.colorbar(hb)\n",
    "cp = ax.contour(Sg,Tg, rho, levels=np.arange(1021, 1029, 0.5), linestyles='dashed', colors='black')\n",
    "cl=plt.clabel(cp,fontsize=10,inline=True,fmt=\"%.1f\")\n",
    "ax.set_ylabel(r'Temperature ($^\\circ$C)')\n",
    "ax.set_xlabel(\"Salinity (g / kg)\")"
   ]
  },
  {
   "cell_type": "code",
   "execution_count": null,
   "metadata": {},
   "outputs": [],
   "source": [
    "moc =  dino_exp.get_MOC(dino_exp_emp.data.voce + dino_exp_emp.data.voce_eiv, z=2000)\n",
    "moc_sfx =  dino_exp_sfx.get_MOC(dino_exp_sfx.data.voce + dino_exp_sfx.data.voce_eiv, z=2000)"
   ]
  },
  {
   "cell_type": "code",
   "execution_count": null,
   "metadata": {},
   "outputs": [],
   "source": [
    "fig, axs = plt.subplots(1,2,figsize=(15,6), sharey=True)\n",
    "a = (-moc).plot.contourf(x='y_f', y='rho', cmap='RdBu_r', levels=32, add_colorbar=False, ax=axs[0])\n",
    "cbar1 = fig.colorbar(a, ax=axs, label=r'$\\psi$ [Sv]')\n",
    "b = (-moc_sfx).plot.contourf(x='y_f', y='rho', cmap='RdBu_r', levels=32, add_colorbar=False, ax=axs[1], vmin=cbar1.vmin, vmax=cbar1.vmax)\n",
    "#c = (-moc + moc_gh).plot.contourf(x='y_f', y='rho', cmap='RdBu_r', levels=36, ax=axs[2])\n",
    "\n",
    "plt.xlabel('latitude [°N]')\n",
    "axs[0].invert_yaxis()\n",
    "plt.ylabel(r'$\\sigma_{0}$ [ $kg$ / $m^3$ - 1000 ]')\n",
    "plt.title('')"
   ]
  },
  {
   "cell_type": "code",
   "execution_count": null,
   "metadata": {},
   "outputs": [],
   "source": [
    "bts = dino_exp.get_BTS()\n",
    "bts = bts.assign_coords({'x_globe': bts.glamf - 30})"
   ]
  },
  {
   "cell_type": "code",
   "execution_count": null,
   "metadata": {},
   "outputs": [],
   "source": [
    "plt.figure(figsize=(10,10))\n",
    "a = bts.isel(t_y=-1, y_f=slice(0,100)).plot.contourf(\n",
    "    y='gphif',\n",
    "    x='x_globe',\n",
    "    cmap=cm.balance,\n",
    "    levels=30,\n",
    "    subplot_kws=dict(projection=ccrs.Robinson()),\n",
    "\n",
    "    transform=ccrs.PlateCarree(),\n",
    "    #add_colorbar=False,\n",
    ")\n",
    "a.axes.gridlines(\n",
    "    draw_labels=[\"x\", \"y\", \"geo\"],\n",
    "    ylocs=[-70, -45, -20, 0, 20, 45, 70],\n",
    "    xlocs=[0]\n",
    ")\n",
    "plt.title('')\n",
    "plt.grid('m')\n",
    "plt.tight_layout()"
   ]
  },
  {
   "cell_type": "code",
   "execution_count": null,
   "metadata": {},
   "outputs": [],
   "source": [
    "drdz = dino_exp_emp.grid.derivative(dino_exp_emp.data.rhop.where(dino_exp_emp.domain.tmask==1.0), 'Y').isel(z_c=slice(0,24), y_f=slice(13,46)).mean('x_c')\n",
    "dtdz = dino_exp_emp.grid.derivative(dino_exp_emp.data.toce.where(dino_exp_emp.domain.tmask==1.0), 'Y').isel(z_c=slice(0,24), y_f=slice(13,46)).mean('x_c')\n",
    "dsdz = dino_exp_emp.grid.derivative(dino_exp_emp.data.soce.where(dino_exp_emp.domain.tmask==1.0), 'Y').isel(z_c=slice(0,24), y_f=slice(13,46)).mean('x_c')"
   ]
  },
  {
   "cell_type": "code",
   "execution_count": null,
   "metadata": {},
   "outputs": [],
   "source": [
    "fig, axs = plt.subplots(1,3,figsize=(15,6))\n",
    "(drdz.isel(t_y=-1) - drdz.isel(t_y=0)).plot(yincrease=False, ax=axs[0])\n",
    "(dtdz.isel(t_y=-1) - dtdz.isel(t_y=0)).plot(yincrease=False, ax=axs[1])\n",
    "(dsdz.isel(t_y=-1) - dsdz.isel(t_y=0)).plot(yincrease=False, ax=axs[2])"
   ]
  },
  {
   "cell_type": "code",
   "execution_count": null,
   "metadata": {},
   "outputs": [],
   "source": [
    "import scipy.sparse as sparse\n",
    "import scipy.sparse.linalg as la"
   ]
  },
  {
   "cell_type": "code",
   "execution_count": null,
   "metadata": {},
   "outputs": [],
   "source": [
    "#@staticmethod\n",
    "def _get_dynmodes(Nsq, e3w, e3t, nmodes=2):\n",
    "    \"\"\"\n",
    "    Calculate the 1st nmodes ocean dynamic vertical modes.\n",
    "    Based on\n",
    "    http://woodshole.er.usgs.gov/operations/sea-mat/klinck-html/dynmodes.html\n",
    "    by John Klinck, 1999.\n",
    "    \"\"\"\n",
    "    nmodes = 5#min((nmodes, len(Nsq) - 2))\n",
    "    # 2nd derivative matrix plus boundary conditions\n",
    "    Ndz     = (Nsq * e3w)\n",
    "    e3t     = e3t\n",
    "    #Ndz_m1  = np.roll(Ndz, -1)\n",
    "    #e3t_p1  = np.roll(e3t, 1)\n",
    "    d0  = np.r_[1. / Ndz[1] / e3t[0],\n",
    "               (1. / Ndz[2:-1] + 1. / Ndz[1:-2]) / e3t[1:-2],\n",
    "               1. / Ndz[-2] / e3t[-2]]\n",
    "    d1  = np.r_[0., -1. / Ndz[1:-1] / e3t[1:-1]]\n",
    "    dm1 = np.r_[-1. / Ndz[1:-1] / e3t[0:-2], 0.]\n",
    "    diags = np.vstack((d0, d1, dm1))\n",
    "    d2dz2 = sparse.dia_matrix((diags, (0, 1, -1)), shape=(len(Nsq)-1, len(Nsq)-1))\n",
    "    # Solve generalized eigenvalue problem for eigenvalues and vertical\n",
    "    # Horizontal velocity modes\n",
    "    eigenvalues, modes = la.eigs(d2dz2, k=nmodes+1, which='SM')\n",
    "    mask = (eigenvalues.imag == 0) & (eigenvalues >= 1e-10)\n",
    "    eigenvalues = eigenvalues[mask]\n",
    "    # Sort eigenvalues and modes and truncate to number of modes requests\n",
    "    index = np.argsort(eigenvalues)\n",
    "    eigenvalues = eigenvalues[index[:nmodes]].real\n",
    "    # Modal speeds\n",
    "    ce = 1 / np.sqrt(eigenvalues)\n",
    "    return(ce)"
   ]
  },
  {
   "cell_type": "code",
   "execution_count": null,
   "metadata": {},
   "outputs": [],
   "source": [
    "Nsq = dino_exp_emp.get_N_squared().where(dino_exp_emp.domain.tmask==1.)\n",
    "e3w = dino_exp_emp.data.e3w.where(dino_exp_emp.domain.tmask==1.)\n",
    "e3t = dino_exp_emp.data.e3t.where(dino_exp_emp.domain.tmask==1.)"
   ]
  },
  {
   "cell_type": "code",
   "execution_count": null,
   "metadata": {},
   "outputs": [],
   "source": [
    "isel = {'y_c' : 100, 'x_c' : 30, 't_y' : -1}\n",
    "test = _get_dynmodes(Nsq=Nsq.isel(isel), e3w=e3w.isel(isel), e3t=e3w.isel(isel))"
   ]
  },
  {
   "cell_type": "code",
   "execution_count": null,
   "metadata": {},
   "outputs": [],
   "source": [
    "func = xr.apply_ufunc(_get_dynmodes, Nsq, e3w, e3w, dask='parallelized')\n"
   ]
  },
  {
   "cell_type": "code",
   "execution_count": null,
   "metadata": {},
   "outputs": [],
   "source": [
    "import scipy.sparse as sp\n",
    "import scipy.sparse.linalg as la\n",
    "from scipy.linalg import eig\n",
    "\n",
    "def compute_vmodes_1D(Nsqr, dzc=None, dzf=None, nmodes=2): \n",
    "    \"\"\"\n",
    "    Compute vertical modes from stratification. Assume grid is sorted downoward (first point at surface, last point at bottom) and depth is algebraic (i.e. negative)\n",
    "    Take either vertical grid metrics (spacing) or levels as inputs. \n",
    "    Need 2 staggered grid (center and left or outer), with Nsqr specified on left/outer grid\n",
    "    No normalization. Pressure mode is positive at the surface.\n",
    "\n",
    "    Parameters:\n",
    "    ___________\n",
    "    N2f: (N,) ndarray\n",
    "        Brunt-Vaisala frequency at cell left points\n",
    "    dzc: (N) ndarray, optional\n",
    "        vertical grid spacing at cell centers. Either dzc, dzf or zc, zf must be passed\n",
    "    dzf: (N) ndarray\n",
    "        vertical grid spacing at cell left points\n",
    "    nmodes: int, optional\n",
    "        number of baroclinic modes to compute (barotropic mode will be added)\n",
    "\n",
    "    Returns:\n",
    "    ________\n",
    "    c: (nmodes) ndarray\n",
    "        eigenvalues (pseudo phase speed, c=1/sqrt(k))\n",
    "    !! Currently not returning the modes since they are not needed\n",
    "    phi: (N,nmodes) ndarray\n",
    "        p-like modes at cell centers\n",
    "    phiw: (N,nmodes) ndarray\n",
    "        w-like modes at cell interfaces. phiw' = phi\n",
    "\n",
    "    Notes:\n",
    "    ______\n",
    "    The vertical modes are definied following the equation:\n",
    "    .. math:: (\\phi'/N^2)' + k^2\\phi=0 \n",
    "    with boundary condition :math:`\\phi'=0` at the bottom and :math:`g\\phi' + N^2\\phi=0` at the surface (or :math:`\\phi'=0` for a rigid lid condition). \n",
    "    Computation of the vertical modes is performed using second order finite difference with staggered grid\n",
    "\n",
    "    \"\"\"\n",
    "    ### parameters:\n",
    "    g = 9.80665\n",
    "\n",
    "    ### deal with vertical grids\n",
    "    Nz = Nsqr.size\n",
    "    if dzc is not None and dzf is not None:\n",
    "        dz_surf = .25*(dzc[0] + dzf[0]) ### this is approx for NEMO grid\n",
    "        dzc, dzf = dzc, dzf\n",
    "    else:\n",
    "        raise ValueError(\"must specify grid increments dzc, dzf\") \n",
    "\n",
    "    invg = np.ones(1)/g\n",
    "    \n",
    "    Nsqog = Nsqr[:1]*invg\n",
    "\n",
    "    v12 =  np.stack([1./np.r_[dzc, np.ones(1),], -1./np.r_[np.ones(1), dzc]])\n",
    "    Dw2p = sp.spdiags(v12,[0, 1],Nz,Nz,format=\"lil\")\n",
    "    ### vertical derivative matrix, p-to-w grids, targetting inner w points only\n",
    "    v12 =  np.stack([1./np.r_[dzf[1:], np.ones(1)], -1./dzf])\n",
    "    Dp2w = sp.spdiags(v12,[-1, 0],Nz,Nz,format=\"lil\")\n",
    "    \n",
    "    ### second order diff matrix\n",
    "    D2z = Dw2p*Dp2w\n",
    "    Dp2w[0,0] = -Nsqog*(1-Nsqog*dz_surf) # surface boundary condition (free or rigid lid)\n",
    "    ### formulation of the problem : -dz(dz(p)/N^2) = lambda * p\n",
    "    A = - Dw2p * sp.diags(1./Nsqr) * Dp2w\n",
    "    ### compute numerical solution\n",
    "    ev,ef = la.eigs(A.tocsc(), k=nmodes+1, which='SM')\n",
    "\n",
    "    #### select and arrange modes\n",
    "    inds = np.isfinite(ev)\n",
    "    ev, ef = ev[inds].real, ef[:,inds].real\n",
    "    isort = np.argsort(ev)[:nmodes+1]\n",
    "    ev, ef = ev[isort], ef[:,isort]\n",
    "    # ef *= np.sign(ef[0,:])[None,:] # positive pressure at the surface\n",
    "    # if first_ord:\n",
    "    #     pmod, wmod = ef[:Nz,:], -ef[Nz:,:]\n",
    "    # else:\n",
    "    #     pmod = ef[:Nz,:]\n",
    "    #     wmod = -(Dp2w * pmod) / (Nsqr[:,None] * ev[None,:])\n",
    "    #     if not (free_surf and g>0):\n",
    "    #         wmod[:,0] = 0.\n",
    "    \n",
    "    return 1./ev**.5 #, pmod, wmod"
   ]
  },
  {
   "cell_type": "code",
   "execution_count": null,
   "metadata": {},
   "outputs": [],
   "source": [
    "def get_vmodes(exp, nmodes=2):\n",
    "    \"\"\" compute vertical modes\n",
    "    Wrapper for calling `compute_vmodes` with DataArrays through apply_ufunc. \n",
    "    z levels must be in descending order (first element is at surface, last element is at bottom) with algebraic depth (i.e. negative)\n",
    "    Normalization is performed here (int_z \\phi^2 \\dz = Hbot)\n",
    "    \n",
    "    Parameters:\n",
    "    ___________\n",
    "    ds: xarray.Dataset\n",
    "        contains brunt-vaisala frequency and vertical grid information (levels of metrics, i.e. spacing)\n",
    "    nmodes: int, optional\n",
    "        number of vertical baroclinic modes (barotropic is added)\n",
    "    \n",
    "    Returns:\n",
    "    ________\n",
    "    xarray.DataSet: vertical modes (p and w) and eigenvalues\n",
    "    !! (currently only eigenvalues)\n",
    "    _________\n",
    "    \"\"\"\n",
    "    Nsq = (exp.get_N_squared())\n",
    "    res = xr.apply_ufunc(_get_dynmodes, \n",
    "                         Nsq.chunk({'z_f':-1}),\n",
    "                         exp.data.e3w.chunk({'z_f':-1}),\n",
    "                         exp.data.e3t.where(exp.domain.tmask==1.0).chunk({'z_c':-1}),\n",
    "                         \n",
    "                         input_core_dims=[['z_f'],['z_f'],['z_c']],\n",
    "                         dask='parallelized', vectorize=True,\n",
    "                         output_dtypes=[Nsq.dtype],\n",
    "                         output_core_dims=[[\"mode\"]],\n",
    "                         dask_gufunc_kwargs={\"output_sizes\":{\"mode\":nmodes+1}}\n",
    "                        )\n",
    "    # res['mode'] = np.arange(nmodes+1)\n",
    "    # # unstack variables\n",
    "    # c = res.isel(s_stack=0)\n",
    "    # phi = (res.isel(s_stack=slice(1,N+1))\n",
    "    #        .rename('phi')\n",
    "    #        .rename({'s_stack': zc})\n",
    "    #        #.assign_coords(z_rho=zc)\n",
    "    #       )\n",
    "    # if \"z_del\" in kwargs:\n",
    "    #     dzc = ds[kwargs[\"z_del\"][\"zc\"]]\n",
    "    # else:\n",
    "    #     dzc = ds[\"e3t\"] # use default value for NEMO    \n",
    "    # norm_tg = dzc.where(ds.tmask).sum(zc)\n",
    "    # norm = (phi**2*dzc).where(ds.tmask).sum(zc) \n",
    "    # phi /= (norm/norm_tg)**.5 # 1/H \\int(phi^2 dz) = 1\n",
    "    # phiw = (res.isel(s_stack=slice(N+1,2*N+1))\n",
    "    #           .rename('phiw')\n",
    "    #           .rename({'s_stack': zl})\n",
    "    #         #  .assign_coords(z_w=zf)\n",
    "    #          ) / (norm/norm_tg)**.5\n",
    "    # norm = norm_tg # norm = int(phi^2 dz)\n",
    "    # # merge data into a single dataset\n",
    "    # dm = xr.merge([c.rename(\"c\"), phi.rename(\"phi\"), \n",
    "    #                phiw.rename(\"phiw\"), norm.rename(\"norm\")\n",
    "    #              ])\n",
    "    return res  ### hard-coded norm = H "
   ]
  },
  {
   "cell_type": "code",
   "execution_count": null,
   "metadata": {},
   "outputs": [],
   "source": [
    "dino_exp.get_N_squared().isel(z_f=slice(1,-1), t_y=-1, x_c=30, y_c=120).plot(yscale='log')"
   ]
  },
  {
   "cell_type": "code",
   "execution_count": null,
   "metadata": {},
   "outputs": [],
   "source": [
    "test = compute_vmodes_1D(\n",
    "    dino_exp.get_N_squared().isel(z_f=slice(1,-1), t_y=-1, x_c=30, y_c=100).values,\n",
    "    dino_exp.data.e3t.where(dino_exp.domain.tmask==1.0).isel(z_c=slice(1,-1), t_y=-1, x_c=30, y_c=100).values,\n",
    "    dino_exp.data.e3w.isel(z_f=slice(1,-1) ,t_y=-1, x_c=30, y_c=100).values\n",
    ")"
   ]
  },
  {
   "cell_type": "code",
   "execution_count": null,
   "metadata": {},
   "outputs": [],
   "source": [
    "Nsq = dino_exp.get_N_squared().isel(t_y=-1)"
   ]
  },
  {
   "cell_type": "code",
   "execution_count": null,
   "metadata": {},
   "outputs": [],
   "source": [
    "Nsq = Nsq.where(Nsq >= 0).fillna(0.)"
   ]
  },
  {
   "cell_type": "code",
   "execution_count": null,
   "metadata": {},
   "outputs": [],
   "source": [
    "wmodes, pmodes, (tuple1, tuple2), bla, blub= np.load('vertical_structure_functions_dataset.npy', allow_pickle=True)"
   ]
  },
  {
   "cell_type": "code",
   "execution_count": null,
   "metadata": {},
   "outputs": [],
   "source": [
    "pmodes[1]"
   ]
  },
  {
   "cell_type": "code",
   "execution_count": null,
   "metadata": {},
   "outputs": [],
   "source": [
    "dino_exp_emp.data.e3t.where(dino_exp_emp.domain.tmask==1.0).isel(t_y=-1, x_c=30, y_c=100)"
   ]
  },
  {
   "cell_type": "code",
   "execution_count": null,
   "metadata": {},
   "outputs": [],
   "source": [
    "get_vmodes(dino_exp, nmodes=2).isel(x_c=30, y_c=100, t_y=-1).plot()"
   ]
  },
  {
   "cell_type": "code",
   "execution_count": null,
   "metadata": {},
   "outputs": [],
   "source": [
    "dino_exp.data"
   ]
  },
  {
   "cell_type": "code",
   "execution_count": null,
   "metadata": {},
   "outputs": [],
   "source": [
    "Nsq = dino_exp_emp.get_N_squared()"
   ]
  },
  {
   "cell_type": "code",
   "execution_count": null,
   "metadata": {},
   "outputs": [],
   "source": [
    "Nsq.isel(t_y=-1).min().values"
   ]
  },
  {
   "cell_type": "code",
   "execution_count": null,
   "metadata": {},
   "outputs": [],
   "source": [
    "Nsq"
   ]
  },
  {
   "cell_type": "code",
   "execution_count": null,
   "metadata": {},
   "outputs": [],
   "source": []
  }
 ],
 "metadata": {
  "kernelspec": {
   "display_name": "nemo_env",
   "language": "python",
   "name": "python3"
  },
  "language_info": {
   "codemirror_mode": {
    "name": "ipython",
    "version": 3
   },
   "file_extension": ".py",
   "mimetype": "text/x-python",
   "name": "python",
   "nbconvert_exporter": "python",
   "pygments_lexer": "ipython3",
   "version": "3.9.15"
  }
 },
 "nbformat": 4,
 "nbformat_minor": 2
}
