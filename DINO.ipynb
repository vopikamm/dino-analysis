{
 "cells": [
  {
   "cell_type": "code",
   "execution_count": null,
   "metadata": {},
   "outputs": [],
   "source": [
    "import cartopy.crs as ccrs\n",
    "from cmocean import cm \n",
    "from dino import Experiment\n",
    "from matplotlib import colors\n",
    "from matplotlib import pyplot as plt\n",
    "import numpy as np\n",
    "import xarray as xr\n",
    "import cftime as cft\n",
    "import xnemogcm as xn\n",
    "import xgcm"
   ]
  },
  {
   "cell_type": "code",
   "execution_count": null,
   "metadata": {},
   "outputs": [],
   "source": [
    "SMALL_SIZE = 14\n",
    "MEDIUM_SIZE = 18\n",
    "BIGGER_SIZE = 18\n",
    "\n",
    "plt.rc('font', size=SMALL_SIZE)          # controls default text sizes\n",
    "plt.rc('axes', titlesize=SMALL_SIZE)     # fontsize of the axes title\n",
    "plt.rc('axes', labelsize=MEDIUM_SIZE)    # fontsize of the x and y labels\n",
    "plt.rc('xtick', labelsize=MEDIUM_SIZE)    # fontsize of the tick labels\n",
    "plt.rc('ytick', labelsize=MEDIUM_SIZE)    # fontsize of the tick labels\n",
    "plt.rc('legend', fontsize=SMALL_SIZE)    # legend fontsize\n",
    "plt.rc('figure', titlesize=BIGGER_SIZE)  # fontsize of the figure title"
   ]
  },
  {
   "cell_type": "code",
   "execution_count": null,
   "metadata": {},
   "outputs": [],
   "source": [
    "path   = \"/data/dkamm/nemo_output/DINO/\"\n",
    "\n",
    "dino_exp = Experiment(path, 'T_star_IPSL')"
   ]
  },
  {
   "cell_type": "markdown",
   "metadata": {},
   "source": [
    "# `I)` Domain"
   ]
  },
  {
   "cell_type": "markdown",
   "metadata": {},
   "source": [
    "## `I.1)` Global Bathymetry"
   ]
  },
  {
   "cell_type": "code",
   "execution_count": null,
   "metadata": {},
   "outputs": [],
   "source": [
    "bathymetry = dino_exp.data.gdept_0.isel(z_c=-1)\n",
    "bathymetry = bathymetry.assign_coords({'x_globe': bathymetry.glamt - 60})"
   ]
  },
  {
   "cell_type": "code",
   "execution_count": null,
   "metadata": {},
   "outputs": [],
   "source": [
    "# Dataarray to plot the a sounthern ocean channel\n",
    "channel = xr.DataArray(\n",
    "    data = np.tile((bathymetry.isel(x_c=0) >= 2008) * 4308.73114341, (302,1)),\n",
    "    dims=['x_c','y_c'],\n",
    "    coords=dict(\n",
    "        gphit=('y_c', bathymetry.gphit.values[:,0]),\n",
    "        x_globe=('x_c', np.arange(-361.5,-59.5))\n",
    "    )\n",
    ")"
   ]
  },
  {
   "cell_type": "code",
   "execution_count": null,
   "metadata": {},
   "outputs": [],
   "source": [
    "plt.figure(figsize=(10,10))\n",
    "p = bathymetry.plot.contourf(\n",
    "    y='gphit',\n",
    "    x='x_globe',\n",
    "    cmap=cm.deep_r,\n",
    "    levels=30,\n",
    "    subplot_kws=dict(projection=ccrs.Orthographic(-30., 0.), facecolor=\"black\"),\n",
    "\n",
    "    transform=ccrs.PlateCarree(),\n",
    "\n",
    "    add_colorbar=False,\n",
    "    # cmap='inferno'\n",
    ")\n",
    "# p = channel.plot.contourf(\n",
    "#     y='gphit',\n",
    "#     x='x_globe',\n",
    "#     cmap=cm.deep_r,\n",
    "#     levels=70,\n",
    "#     #alpha=0.8,\n",
    "#     subplot_kws=dict(projection=ccrs.Orthographic(-30., 0.), facecolor=\"black\"),\n",
    "\n",
    "#     transform=ccrs.PlateCarree(),\n",
    "\n",
    "#     add_colorbar=False,\n",
    "#     # cmap='inferno'\n",
    "# )\n",
    "plt.hlines(20, 0, 60, color='white')\n",
    "p.axes.set_global()\n",
    "p.axes.coastlines(color='white', linewidth=3)\n",
    "p.axes.gridlines(\n",
    "    draw_labels=[\"x\", \"y\", \"left\", \"right\", \"geo\"],\n",
    "    ylocs=[-70, -45, -20, 0, 20, 45, 70],\n",
    "    xlocs=[-90, -60, -30, 0, 30]\n",
    ")\n",
    "plt.title('')\n",
    "plt.grid('m')\n",
    "#plt.savefig('DINO_bathy.png', facecolor=(1,1,1,0))"
   ]
  },
  {
   "cell_type": "markdown",
   "metadata": {},
   "source": [
    "## `I.2)` Terrain-following $ \\sigma $-coordinates"
   ]
  },
  {
   "cell_type": "code",
   "execution_count": null,
   "metadata": {},
   "outputs": [],
   "source": [
    "dino_exp.add_sigma_levels()"
   ]
  },
  {
   "cell_type": "code",
   "execution_count": null,
   "metadata": {},
   "outputs": [],
   "source": [
    "\n",
    "fig, axs = plt.subplots(1,1, figsize=(10,4))\n",
    "z_cha   = dino_exp.domain.sigma_levels.isel(z_f=slice(0,27), y_c=32).plot.contourf(x='x_c', y='gdepw_0',levels=36, cmap=cm.deep_r, yincrease=False, ax=axs, vmin=1, vmax=36, add_colorbar=False)\n",
    "s_cha   = dino_exp.domain.sigma_levels.isel(z_f=slice(26,-1), y_c=32).plot.contourf(x='x_c', y='gdepw_0',levels=36, cmap=cm.deep_r, yincrease=False, ax=axs, vmin=1, vmax=36, add_colorbar=False)\n",
    "#cbar_z  = fig.colorbar(z_eq, ax=axs[1:2], location='bottom', label='vertical levels')\n",
    "#cbar_z.ax.invert_yaxis()\n",
    "dino_exp.domain.gdepw_0.isel(z_f=slice(26,-1), y_c=32).plot.line(x='x_c', add_legend=False, color='black', linestyle='-',ax=axs)\n",
    "axs.hlines(1000, xmin=0, xmax=59, color='darkred', linewidth=3)\n",
    "axs.vlines(10, ymin=0, ymax=4000, color='black', linestyle=':', linewidth=2)\n",
    "axs.vlines(30, ymin=0, ymax=4000, color='black', linewidth=2)\n",
    "axs.set_title(r'')\n",
    "axs.set_facecolor('black')\n",
    "axs.set_xlabel('Longitude [°E]')\n",
    "plt.tight_layout()\n",
    "plt.savefig('s-coords_ch.png', facecolor=(1,1,1,0))"
   ]
  },
  {
   "cell_type": "code",
   "execution_count": null,
   "metadata": {},
   "outputs": [],
   "source": [
    "fig, axs = plt.subplots(1,1, figsize=(10,4))\n",
    "z_eq    = dino_exp.domain.sigma_levels.isel(z_f=slice(0,27), y_c=100).plot.contourf(x='x_c', y='gdepw_0',levels=36, cmap=cm.deep_r, yincrease=False, ax=axs, vmin=1, vmax=36, add_colorbar=False)\n",
    "s_eq    = dino_exp.domain.sigma_levels.isel(z_f=slice(26,-1), y_c=100).plot.contourf(x='x_c', y='gdepw_0',levels=36, cmap=cm.deep_r, yincrease=False, ax=axs, vmin=1, vmax=36, add_colorbar=False)\n",
    "dino_exp.domain.gdepw_0.isel(z_f=slice(26,-1), y_c=100).plot.line(x='x_c',add_legend=False, color='black', linestyle='-',ax=axs)\n",
    "axs.hlines(1000, xmin=0, xmax=59, color='darkred', linewidth=3)\n",
    "axs.set_title(r'')\n",
    "axs.set_facecolor('black')\n",
    "axs.set_xlabel('Longitude [°E]')\n",
    "plt.tight_layout()\n",
    "#plt.savefig('s-coords_eq.png', facecolor=(1,1,1,0))"
   ]
  },
  {
   "cell_type": "code",
   "execution_count": null,
   "metadata": {},
   "outputs": [],
   "source": [
    "fig, axs = plt.subplots(1,1, figsize=(6,8))\n",
    "dino_exp.domain.sigma_levels.isel(y_c=33, x_c=30).plot.line(y='gdepw_0', yincrease=False, color='black')\n",
    "dino_exp.domain.sigma_levels.isel(y_c=33, x_c=10).plot.line(y='gdepw_0', yincrease=False, color='black', linestyle=':')\n",
    "axs.hlines(1000, xmin=1, xmax=36, color='darkred', linewidth=1)\n",
    "axs.set_xlabel('Vertical level')\n",
    "plt.title('')\n",
    "plt.tight_layout()\n",
    "plt.savefig('s-coords.png', transparent=True)"
   ]
  },
  {
   "cell_type": "markdown",
   "metadata": {},
   "source": [
    "# `II)` Forcing"
   ]
  },
  {
   "cell_type": "code",
   "execution_count": null,
   "metadata": {},
   "outputs": [],
   "source": [
    "fig, axs = plt.subplots(3,1, figsize=(16,12), sharex=True)\n",
    "dino_exp.data.utau.isel(t_y=-1, x_f=10).plot(color='black', x='gphiu', ax=axs[0])\n",
    "dino_exp.data.empmr.isel(t_m=-1, x_c=10).plot(color='black', x='gphit', ax=axs[1])\n",
    "dino_exp.get_T_star().isel(t_m=0, x_c=10, y_c=slice(1,-1)).plot(color='darkred', x='gphit', ax=axs[2], label='January')\n",
    "dino_exp.get_T_star().isel(t_m=6, x_c=10, y_c=slice(1,-1)).plot(color='midnightblue', x='gphit', ax=axs[2], label='July')\n",
    "axs[2].set_xlabel('latitude [N°]')\n",
    "axs[1].set_xlabel(' ')\n",
    "axs[0].set_xlabel(' ')\n",
    "axs[0].fill_between(dino_exp.domain.gphiu.values[:,0], -0.12, 0.22, where=dino_exp.domain.umask.isel(x_f=0, z_c=0)==1, facecolor='grey', alpha=.2)\n",
    "axs[0].margins(x=0, y=0)\n",
    "axs[0].set_title(' ')\n",
    "axs[0].grid()\n",
    "axs[1].fill_between(dino_exp.domain.gphit.values[:,0], -3e-5, 4e-5, where=dino_exp.domain.tmask.isel(x_c=0, z_c=0)==1, facecolor='grey', alpha=.2)\n",
    "axs[1].margins(x=0, y=0)\n",
    "axs[1].set_title(' ')\n",
    "axs[1].grid()\n",
    "axs[2].fill_between(dino_exp.domain.gphit.values[:,0], -3, 30, where=dino_exp.domain.tmask.isel(x_c=0, z_c=0)==1, facecolor='grey', alpha=.2)\n",
    "axs[2].margins(x=0, y=0)\n",
    "axs[2].set_title(' ')\n",
    "axs[2].grid()\n",
    "axs[2].legend()\n",
    "axs[2].set_ylabel(r'$T^{*}$ [°C]')\n",
    "plt.tight_layout()\n",
    "#plt.savefig('Forcing.png', facecolor=(1,1,1,0))"
   ]
  },
  {
   "cell_type": "markdown",
   "metadata": {},
   "source": [
    "# `III)` Spinup"
   ]
  },
  {
   "cell_type": "code",
   "execution_count": null,
   "metadata": {},
   "outputs": [],
   "source": [
    "fig, axs = plt.subplots(1,1, figsize=(12,6))\n",
    "dino_exp.get_ACC().plot(color='black', label='With salt restoring')\n",
    "axs.set_ylabel('ACC transport [Sv]')\n",
    "plt.title('')\n",
    "plt.xlabel('time [years]')\n",
    "plt.legend()\n",
    "plt.grid()"
   ]
  },
  {
   "cell_type": "code",
   "execution_count": null,
   "metadata": {},
   "outputs": [],
   "source": [
    "fig, axs = plt.subplots(1,1, figsize=(12,6))\n",
    "dino_exp.get_ACC().plot(color='black', label='With salt restoring')\n",
    "axs.set_ylabel('ACC transport [Sv]')\n",
    "plt.title('')\n",
    "plt.xlabel('time [years]')\n",
    "plt.legend()\n",
    "plt.grid()"
   ]
  },
  {
   "cell_type": "markdown",
   "metadata": {},
   "source": [
    "# `IV)` Ocean State"
   ]
  },
  {
   "cell_type": "markdown",
   "metadata": {},
   "source": [
    "## `IV.1)` BaroTropic Streamfunction"
   ]
  },
  {
   "cell_type": "code",
   "execution_count": null,
   "metadata": {},
   "outputs": [],
   "source": [
    "BTS = dino_exp.get_BTS()"
   ]
  },
  {
   "cell_type": "code",
   "execution_count": null,
   "metadata": {},
   "outputs": [],
   "source": [
    "fig, axs = plt.subplots(1,1,figsize=(8,6))\n",
    "a = BTS.isel(t_y=-1).plot.contourf(x='x_f', y='y_f', cmap=cm.balance, levels=30, add_colorbar=False)\n",
    "cbar1 = fig.colorbar(a, ax=axs, label=r'$\\psi$ [Sv]')\n",
    "axs.set_ylabel('latitude [°N]')\n",
    "axs.set_xlabel('longitude [°E]')\n",
    "plt.title('')"
   ]
  },
  {
   "cell_type": "markdown",
   "metadata": {},
   "source": [
    "## `IV.2)` Meridional overturning"
   ]
  },
  {
   "cell_type": "code",
   "execution_count": null,
   "metadata": {},
   "outputs": [],
   "source": [
    "moc =  dino_exp.get_MOC(dino_exp.data.vocetr_eff)"
   ]
  },
  {
   "cell_type": "code",
   "execution_count": null,
   "metadata": {},
   "outputs": [],
   "source": [
    "dino_exp.data.empmr.isel(t_m=-1, x_c=30).plot()"
   ]
  },
  {
   "cell_type": "code",
   "execution_count": null,
   "metadata": {},
   "outputs": [],
   "source": [
    "var = dino_exp.data.vocetr_eff\n",
    "ds_top = dino_exp.data.isel(z_c=slice(0,-1))\n",
    "# Compute density if necessary\n",
    "if 'rhop' not in list(dino_exp.data.keys()):\n",
    "    rho = dino_exp.get_rho().isel(z_c=slice(0,-1)).rename('rhop')\n",
    "else:\n",
    "    rho = ds_top.rhop\n",
    "rho = rho.where(dino_exp.domain.tmask == 1.0)\n",
    "# define XGCM grid object with outer dimension z_f \n",
    "grid = xgcm.Grid(ds_top,\n",
    "    coords={\n",
    "        \"X\": {\"right\": \"x_f\", \"center\":\"x_c\"},\n",
    "        \"Y\": {\"right\": \"y_f\", \"center\":\"y_c\"},\n",
    "        \"Z\": {\"center\": \"z_c\", \"outer\": \"z_f\"}\n",
    "    },\n",
    "    metrics=xn.get_metrics(ds_top),\n",
    "    periodic=False\n",
    ")\n",
    "# Interpolate sigma2 on the cell faces\n",
    "rho_var = grid.interp_like(rho, var.isel(z_c=slice(0,-1)))\n",
    "rho_out = grid.interp(rho_var, 'Z',  boundary='extend')\n",
    "# Target values for density coordinate\n",
    "rho_tar = np.linspace(\n",
    "    1020,#floor(rho_out.min().values),\n",
    "    1032,#ceil(rho_out.max().values),\n",
    "    36\n",
    ")\n",
    "# Transform variable to density coordinates:\n",
    "var_transformed = grid.transform(var.isel(z_c=slice(0,-1)),\n",
    "    'Z',\n",
    "    rho_tar,\n",
    "    method='conservative',\n",
    "    target_data=rho_out\n",
    ")"
   ]
  },
  {
   "cell_type": "code",
   "execution_count": null,
   "metadata": {},
   "outputs": [],
   "source": [
    "fig, axs = plt.subplots(1,1,figsize=(8,6))\n",
    "a = (-moc).plot.contourf(x='y_f', y='rhop', cmap='RdBu_r', levels=36, add_colorbar=False)\n",
    "cbar1 = fig.colorbar(a, ax=axs, label=r'$\\psi$ [Sv]')\n",
    "plt.xlabel('latitude [°N]')\n",
    "axs.invert_yaxis()\n",
    "plt.ylabel(r'$\\sigma_{0}$ [ $kg$ / $m^3$ - 1000 ]')\n",
    "plt.title('')"
   ]
  },
  {
   "cell_type": "markdown",
   "metadata": {},
   "source": [
    "# Regridding restart files"
   ]
  },
  {
   "cell_type": "code",
   "execution_count": null,
   "metadata": {},
   "outputs": [],
   "source": [
    "import cartopy.crs as ccrs\n",
    "from cmocean import cm \n",
    "from dino import Experiment\n",
    "from matplotlib import colors\n",
    "from matplotlib import pyplot as plt\n",
    "import numpy as np\n",
    "import xarray as xr\n",
    "import cftime as cft\n",
    "import xnemogcm as xn\n",
    "import xgcm"
   ]
  },
  {
   "cell_type": "code",
   "execution_count": null,
   "metadata": {},
   "outputs": [],
   "source": [
    "path   = \"/data/dkamm/nemo_output/DINO/\"\n",
    "\n",
    "dino_exp = Experiment(path, 'IPSL_Forcing')"
   ]
  },
  {
   "cell_type": "code",
   "execution_count": null,
   "metadata": {},
   "outputs": [],
   "source": [
    "dino_exp_hr = Experiment(path, 'DINO_1_4deg_restart')"
   ]
  },
  {
   "cell_type": "code",
   "execution_count": null,
   "metadata": {},
   "outputs": [],
   "source": [
    "dino_exp.namelist = dino_exp.open_namelist(restart=6)\n",
    "dino_exp.path += 'restart6/'"
   ]
  },
  {
   "cell_type": "code",
   "execution_count": null,
   "metadata": {},
   "outputs": [],
   "source": [
    "restart1 = dino_exp.regrid_restart(dino_exp_hr)"
   ]
  },
  {
   "cell_type": "code",
   "execution_count": null,
   "metadata": {},
   "outputs": [],
   "source": [
    "#restart1.to_netcdf(dino_exp.path + 'DINO_350y_1_4_restart.nc', unlimited_dims='time_counter')"
   ]
  },
  {
   "cell_type": "code",
   "execution_count": null,
   "metadata": {},
   "outputs": [],
   "source": [
    "dino_exp.path = path + 'IPSL_Forcing/'\n",
    "dino_exp.namelist = dino_exp.open_namelist(restart=9)\n",
    "dino_exp.path += 'restart9/'"
   ]
  },
  {
   "cell_type": "code",
   "execution_count": null,
   "metadata": {},
   "outputs": [],
   "source": [
    "restart2 = dino_exp.regrid_restart(dino_exp_hr)"
   ]
  },
  {
   "cell_type": "code",
   "execution_count": null,
   "metadata": {},
   "outputs": [],
   "source": [
    "restart2.kt"
   ]
  },
  {
   "cell_type": "code",
   "execution_count": null,
   "metadata": {},
   "outputs": [],
   "source": [
    "#restart2.to_netcdf(dino_exp.path + 'DINO_500y_1_4_restart.nc', unlimited_dims='time_counter')"
   ]
  },
  {
   "cell_type": "code",
   "execution_count": null,
   "metadata": {},
   "outputs": [],
   "source": [
    "restart1.kt"
   ]
  },
  {
   "cell_type": "code",
   "execution_count": null,
   "metadata": {},
   "outputs": [],
   "source": [
    "hr = xr.open_dataset(path + '../NEVERWORLD/high_res_short1/NEVERWORLD_00000032_restart.nc').rename_vars({'x':'lon', 'nav_lat_grid_t':'lat'}).rename_dims({'nav_lon_grid_t':'x'})\n",
    "lr = xr.open_dataset(path + '../NEVERWORLD/1_deg_GM/NEVERWORLD_05760000_restart.nc')"
   ]
  },
  {
   "cell_type": "code",
   "execution_count": null,
   "metadata": {},
   "outputs": [],
   "source": [
    "hr"
   ]
  },
  {
   "cell_type": "code",
   "execution_count": null,
   "metadata": {},
   "outputs": [],
   "source": [
    "lr"
   ]
  },
  {
   "cell_type": "code",
   "execution_count": null,
   "metadata": {},
   "outputs": [],
   "source": [
    "dino_exp.domain"
   ]
  },
  {
   "cell_type": "code",
   "execution_count": null,
   "metadata": {},
   "outputs": [],
   "source": []
  }
 ],
 "metadata": {
  "kernelspec": {
   "display_name": "nemo_env",
   "language": "python",
   "name": "python3"
  },
  "language_info": {
   "codemirror_mode": {
    "name": "ipython",
    "version": 3
   },
   "file_extension": ".py",
   "mimetype": "text/x-python",
   "name": "python",
   "nbconvert_exporter": "python",
   "pygments_lexer": "ipython3",
   "version": "3.9.15"
  },
  "orig_nbformat": 4
 },
 "nbformat": 4,
 "nbformat_minor": 2
}
